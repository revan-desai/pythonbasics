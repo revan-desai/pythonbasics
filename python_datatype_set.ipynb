{
  "nbformat": 4,
  "nbformat_minor": 0,
  "metadata": {
    "colab": {
      "provenance": [],
      "authorship_tag": "ABX9TyP2sU6tUxfgWSucdkCkGJDJ",
      "include_colab_link": true
    },
    "kernelspec": {
      "name": "python3",
      "display_name": "Python 3"
    },
    "language_info": {
      "name": "python"
    }
  },
  "cells": [
    {
      "cell_type": "markdown",
      "metadata": {
        "id": "view-in-github",
        "colab_type": "text"
      },
      "source": [
        "<a href=\"https://colab.research.google.com/github/revan-desai/pythonbasics/blob/main/python_datatype_set.ipynb\" target=\"_parent\"><img src=\"https://colab.research.google.com/assets/colab-badge.svg\" alt=\"Open In Colab\"/></a>"
      ]
    },
    {
      "cell_type": "markdown",
      "source": [
        "#SET\n",
        "###1.Unordered means that the items in a set do not have a defined order.\n",
        "###2.Once a set is created, you cannot change its items, but you can remove\n",
        "###  items and add new items.\n",
        "###3.In set duplicates are not allowed\n",
        "###4.The values True and 1 are considered the same value in sets, and are\n",
        "###  treated as duplicates\n",
        "\n",
        "\n",
        "\n",
        "\n",
        "\n",
        "\n",
        "\n"
      ],
      "metadata": {
        "id": "2wMdBRBlVjHu"
      }
    },
    {
      "cell_type": "markdown",
      "source": [
        "## how to declare empty set"
      ],
      "metadata": {
        "id": "jAH-ARcTQvNI"
      }
    },
    {
      "cell_type": "code",
      "source": [
        "s=set()               # dont use curly braces while declaring empty set\n",
        "\n",
        "print(type(s))"
      ],
      "metadata": {
        "id": "YiSVJ6XvQtEb",
        "outputId": "bcdcbd80-23f4-4dcf-aff1-3de790776217",
        "colab": {
          "base_uri": "https://localhost:8080/"
        }
      },
      "execution_count": 2,
      "outputs": [
        {
          "output_type": "stream",
          "name": "stdout",
          "text": [
            "<class 'set'>\n"
          ]
        }
      ]
    },
    {
      "cell_type": "code",
      "execution_count": null,
      "metadata": {
        "colab": {
          "base_uri": "https://localhost:8080/"
        },
        "id": "qWzJ3HHxVX2Z",
        "outputId": "e694d93e-9fba-44e9-c2c6-c6b19304da13"
      },
      "outputs": [
        {
          "output_type": "execute_result",
          "data": {
            "text/plain": [
              "{6.9, 69, 98, True, 'php', 'python'}"
            ]
          },
          "metadata": {},
          "execution_count": 9
        }
      ],
      "source": [
        "set1={\"php\",\"python\",True,55,6.9,98,98,98}  #duplicates not allowed\n",
        "set1.add(69)\n",
        "set1.remove(55)\n",
        "#set1[0]=777 #Error cannot change its items but you can remove and add new items\n",
        "set1"
      ]
    },
    {
      "cell_type": "markdown",
      "source": [
        "##The values True and 1 ,0 and false are considered the same value in sets, and are treated as duplicates"
      ],
      "metadata": {
        "id": "cL-PY2NfX3R0"
      }
    },
    {
      "cell_type": "code",
      "source": [
        "set2={True,1,0,False}  #True and 1 are considered as one value\n",
        "set2"
      ],
      "metadata": {
        "colab": {
          "base_uri": "https://localhost:8080/"
        },
        "id": "sPrJYq7-Xicv",
        "outputId": "bc84c931-5087-4cd0-b15b-139d7d156eeb"
      },
      "execution_count": null,
      "outputs": [
        {
          "output_type": "execute_result",
          "data": {
            "text/plain": [
              "{0, True}"
            ]
          },
          "metadata": {},
          "execution_count": 14
        }
      ]
    },
    {
      "cell_type": "markdown",
      "source": [
        "##Sets are unordered, so when using the pop() method, you do not know which item that gets removed."
      ],
      "metadata": {
        "id": "kpjJWl2tYpWt"
      }
    },
    {
      "cell_type": "code",
      "source": [
        "set3={'google',55, 'apple', True, 'yahoo', 'Ralph Lauren'}\n",
        "s=set3.pop()\n",
        "print(s)\n",
        "print(set3)\n",
        "set3.clear()\n",
        "set3\n"
      ],
      "metadata": {
        "colab": {
          "base_uri": "https://localhost:8080/"
        },
        "id": "oV5O268VYru_",
        "outputId": "1e4c733a-a3b7-4633-8f0e-c75a67c763e1"
      },
      "execution_count": null,
      "outputs": [
        {
          "output_type": "stream",
          "name": "stdout",
          "text": [
            "True\n",
            "{'apple', 'yahoo', 55, 'Ralph Lauren', 'google'}\n"
          ]
        },
        {
          "output_type": "execute_result",
          "data": {
            "text/plain": [
              "set()"
            ]
          },
          "metadata": {},
          "execution_count": 27
        }
      ]
    },
    {
      "cell_type": "markdown",
      "source": [
        "##remove items using remove and discard function"
      ],
      "metadata": {
        "id": "gh-GLf4tZym5"
      }
    },
    {
      "cell_type": "code",
      "source": [
        "set3={'google',55, 'apple', True, 'yahoo', 'Ralph Lauren'}\n",
        "set3.discard(989) # if item is not exists in set then discard method does not raise an error\n",
        "set3.remove(\"google\")\n",
        "#set3.remove(\"oceangate\") # raise an error because value doesnt exists in set\n",
        "set3"
      ],
      "metadata": {
        "colab": {
          "base_uri": "https://localhost:8080/"
        },
        "id": "wMMfv27laIOz",
        "outputId": "76b2aada-8496-4248-befa-a17011e335af"
      },
      "execution_count": null,
      "outputs": [
        {
          "output_type": "execute_result",
          "data": {
            "text/plain": [
              "{55, 'Ralph Lauren', True, 'apple', 'yahoo'}"
            ]
          },
          "metadata": {},
          "execution_count": 32
        }
      ]
    },
    {
      "cell_type": "markdown",
      "source": [
        "##looping through set"
      ],
      "metadata": {
        "id": "6UUinSH0bPEV"
      }
    },
    {
      "cell_type": "code",
      "source": [
        "set3={'google',55, 'apple', True, 'yahoo', 'Ralph Lauren'}\n",
        "for i in set3:\n",
        "  print(i)"
      ],
      "metadata": {
        "colab": {
          "base_uri": "https://localhost:8080/"
        },
        "id": "jQNoHO44bR4d",
        "outputId": "5900cf15-0d7e-4660-e40b-8660bdbcd2ad"
      },
      "execution_count": null,
      "outputs": [
        {
          "output_type": "stream",
          "name": "stdout",
          "text": [
            "True\n",
            "apple\n",
            "yahoo\n",
            "55\n",
            "Ralph Lauren\n",
            "google\n"
          ]
        }
      ]
    },
    {
      "cell_type": "markdown",
      "source": [
        "## + operator don't work for set hence need to use update and union function"
      ],
      "metadata": {
        "id": "cWllwr9XcaFq"
      }
    },
    {
      "cell_type": "code",
      "source": [
        "set1={True,\"loop\"}\n",
        "set2={\"hyper\",False}\n",
        "print(set1.union(set2))  # union method is not making changes to any of these two sets\n",
        "print(set1,set2)         #observe here\n",
        "set1.update(set2)        #update method makes changes into set1 not into set2\n",
        "print(set1)\n",
        "print(set2)"
      ],
      "metadata": {
        "colab": {
          "base_uri": "https://localhost:8080/"
        },
        "id": "zmNPV-jEbv2p",
        "outputId": "6f765594-2ae7-4210-ff8d-65c775d0281c"
      },
      "execution_count": null,
      "outputs": [
        {
          "output_type": "stream",
          "name": "stdout",
          "text": [
            "{False, True, 'loop', 'hyper'}\n",
            "{True, 'loop'} {False, 'hyper'}\n",
            "{False, True, 'loop', 'hyper'}\n",
            "{False, 'hyper'}\n"
          ]
        }
      ]
    },
    {
      "cell_type": "markdown",
      "source": [
        "##clear function"
      ],
      "metadata": {
        "id": "FWLZBsFP_afw"
      }
    },
    {
      "cell_type": "code",
      "source": [
        "set2={\"hyper\",False}\n",
        "set2.clear()\n",
        "print(set2)\n"
      ],
      "metadata": {
        "id": "e25iw4p9VGhW",
        "colab": {
          "base_uri": "https://localhost:8080/"
        },
        "outputId": "85950526-ec3e-45c0-9354-fe9688358300"
      },
      "execution_count": null,
      "outputs": [
        {
          "output_type": "stream",
          "name": "stdout",
          "text": [
            "set()\n"
          ]
        }
      ]
    }
  ]
}