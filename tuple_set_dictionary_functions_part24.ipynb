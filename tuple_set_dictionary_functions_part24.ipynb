{
  "nbformat": 4,
  "nbformat_minor": 0,
  "metadata": {
    "colab": {
      "provenance": [],
      "authorship_tag": "ABX9TyMDGJiuWWfAg5s9J5lTuyVr",
      "include_colab_link": true
    },
    "kernelspec": {
      "name": "python3",
      "display_name": "Python 3"
    },
    "language_info": {
      "name": "python"
    }
  },
  "cells": [
    {
      "cell_type": "markdown",
      "metadata": {
        "id": "view-in-github",
        "colab_type": "text"
      },
      "source": [
        "<a href=\"https://colab.research.google.com/github/revan-desai/pythonbasics/blob/main/tuple_set_dictionary_functions_part24.ipynb\" target=\"_parent\"><img src=\"https://colab.research.google.com/assets/colab-badge.svg\" alt=\"Open In Colab\"/></a>"
      ]
    },
    {
      "cell_type": "code",
      "execution_count": 1,
      "metadata": {
        "id": "U282po3Bbp5g"
      },
      "outputs": [],
      "source": [
        "t1=(5,6,7)"
      ]
    },
    {
      "cell_type": "code",
      "source": [
        "t1[0:2]"
      ],
      "metadata": {
        "colab": {
          "base_uri": "https://localhost:8080/"
        },
        "id": "_CLr9nqBbyZW",
        "outputId": "d8489d92-9d16-4113-d052-b1acf75c402c"
      },
      "execution_count": 2,
      "outputs": [
        {
          "output_type": "execute_result",
          "data": {
            "text/plain": [
              "(5, 6)"
            ]
          },
          "metadata": {},
          "execution_count": 2
        }
      ]
    },
    {
      "cell_type": "code",
      "source": [
        "t1[0]=54 #error tuple is immutable like string"
      ],
      "metadata": {
        "id": "x5Ru9t3TcJQ_"
      },
      "execution_count": null,
      "outputs": []
    },
    {
      "cell_type": "code",
      "source": [
        "set1=set()\n",
        "\n",
        "set1.add(5)   # not append  set has add function\n",
        "set1.add(55)\n",
        "set1.add(45)\n",
        "set1.add(88)"
      ],
      "metadata": {
        "id": "VsGO2pPBcmOY"
      },
      "execution_count": 7,
      "outputs": []
    },
    {
      "cell_type": "code",
      "source": [
        "set1    # observe order is not maintained"
      ],
      "metadata": {
        "colab": {
          "base_uri": "https://localhost:8080/"
        },
        "id": "bPxAupeJgvCv",
        "outputId": "a84544c4-8608-4278-df00-acee0fcc8cc5"
      },
      "execution_count": 8,
      "outputs": [
        {
          "output_type": "execute_result",
          "data": {
            "text/plain": [
              "{5, 45, 55, 88}"
            ]
          },
          "metadata": {},
          "execution_count": 8
        }
      ]
    },
    {
      "cell_type": "code",
      "source": [
        "set1[0:2]   # error    set items not subscriptable"
      ],
      "metadata": {
        "id": "ORdhdre_g4kS"
      },
      "execution_count": 10,
      "outputs": []
    },
    {
      "cell_type": "code",
      "source": [
        "dict1={\"name\":\"john\",\"age\":45,\"scores\":[54,47,89,100],\"key4\":{\"a\":55,\"b\":75}}\n",
        "\n",
        "dict1[\"scores\"][2]"
      ],
      "metadata": {
        "colab": {
          "base_uri": "https://localhost:8080/"
        },
        "id": "D8nZ69Zvhx8m",
        "outputId": "c31b8179-bc7f-452d-8d03-b5064b81dbe7"
      },
      "execution_count": 14,
      "outputs": [
        {
          "output_type": "execute_result",
          "data": {
            "text/plain": [
              "89"
            ]
          },
          "metadata": {},
          "execution_count": 14
        }
      ]
    },
    {
      "cell_type": "code",
      "source": [
        "dict1[\"key4\"][\"b\"]"
      ],
      "metadata": {
        "colab": {
          "base_uri": "https://localhost:8080/"
        },
        "id": "AAztQ8dfiGl-",
        "outputId": "2058c8e4-c0f1-4078-c33d-00111ba78ba7"
      },
      "execution_count": 15,
      "outputs": [
        {
          "output_type": "execute_result",
          "data": {
            "text/plain": [
              "75"
            ]
          },
          "metadata": {},
          "execution_count": 15
        }
      ]
    }
  ]
}