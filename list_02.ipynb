{
  "nbformat": 4,
  "nbformat_minor": 0,
  "metadata": {
    "colab": {
      "provenance": [],
      "authorship_tag": "ABX9TyOAwBIeo5O0J39iVUvhWpJO",
      "include_colab_link": true
    },
    "kernelspec": {
      "name": "python3",
      "display_name": "Python 3"
    },
    "language_info": {
      "name": "python"
    }
  },
  "cells": [
    {
      "cell_type": "markdown",
      "metadata": {
        "id": "view-in-github",
        "colab_type": "text"
      },
      "source": [
        "<a href=\"https://colab.research.google.com/github/revan-desai/pythonbasics/blob/main/list_02.ipynb\" target=\"_parent\"><img src=\"https://colab.research.google.com/assets/colab-badge.svg\" alt=\"Open In Colab\"/></a>"
      ]
    },
    {
      "cell_type": "code",
      "execution_count": 42,
      "metadata": {
        "colab": {
          "base_uri": "https://localhost:8080/"
        },
        "id": "jnijIFpdSNmU",
        "outputId": "56bd2745-0cd8-42f1-8798-eb494211b7ef"
      },
      "outputs": [
        {
          "output_type": "stream",
          "name": "stdout",
          "text": [
            "[0, 55, 77]\n"
          ]
        }
      ],
      "source": [
        "l=[[[0,55,77],[82,52,47]],[[56,36,74],[24,15,78]]]\n",
        "print(l[0][0])\n"
      ]
    },
    {
      "cell_type": "code",
      "source": [
        "print(l[0][1])"
      ],
      "metadata": {
        "colab": {
          "base_uri": "https://localhost:8080/"
        },
        "id": "6fNSutzyYANK",
        "outputId": "9ddcd23c-5b5b-403a-ca69-4804d4995f2a"
      },
      "execution_count": 40,
      "outputs": [
        {
          "output_type": "stream",
          "name": "stdout",
          "text": [
            "[82, 52, 47]\n"
          ]
        }
      ]
    },
    {
      "cell_type": "code",
      "source": [
        "print(l[0][0][2])"
      ],
      "metadata": {
        "colab": {
          "base_uri": "https://localhost:8080/"
        },
        "id": "gTAAOPwfYZOv",
        "outputId": "0599d1e3-d3bf-46ed-d6fc-afb8a96abc8f"
      },
      "execution_count": 41,
      "outputs": [
        {
          "output_type": "stream",
          "name": "stdout",
          "text": [
            "77\n"
          ]
        }
      ]
    },
    {
      "cell_type": "code",
      "source": [
        "print(l[1][0][0])"
      ],
      "metadata": {
        "colab": {
          "base_uri": "https://localhost:8080/"
        },
        "id": "evStikm6YfR9",
        "outputId": "f9d7abeb-ba65-4e30-b4b1-568bb41699f9"
      },
      "execution_count": 43,
      "outputs": [
        {
          "output_type": "stream",
          "name": "stdout",
          "text": [
            "56\n"
          ]
        }
      ]
    }
  ]
}