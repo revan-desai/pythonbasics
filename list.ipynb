{
  "nbformat": 4,
  "nbformat_minor": 0,
  "metadata": {
    "colab": {
      "provenance": [],
      "authorship_tag": "ABX9TyOPnp4C+ITh6ohBpbmab7Do",
      "include_colab_link": true
    },
    "kernelspec": {
      "name": "python3",
      "display_name": "Python 3"
    },
    "language_info": {
      "name": "python"
    }
  },
  "cells": [
    {
      "cell_type": "markdown",
      "metadata": {
        "id": "view-in-github",
        "colab_type": "text"
      },
      "source": [
        "<a href=\"https://colab.research.google.com/github/revan-desai/pythonbasics/blob/main/list.ipynb\" target=\"_parent\"><img src=\"https://colab.research.google.com/assets/colab-badge.svg\" alt=\"Open In Colab\"/></a>"
      ]
    },
    {
      "cell_type": "markdown",
      "source": [
        "List\n",
        "֍ If we want to represent a group of individual objects as a single entity where insertion order needs to be preserved and duplicates are allowed, then we should go for List.\n",
        "\n",
        "֍ heterogeneous objects are allowed.\n",
        "\n",
        "֍ List is dynamic because based on our requirement we can increase the size and decrease the size.\n",
        "\n",
        "֍ In List the elements will be placed within square brackets and with comma seperator.\n",
        "\n",
        "֍ We can differentiate duplicate elements by using index and we can preserve insertion order by using index. Hence index will play very important role.\n",
        "\n",
        "֍ Python supports both positive and negative indexes. +ve index means from left to right where as negative index means right to left.\n",
        "\n",
        "֍ Listobjectsaremutable.i.ewecanchangethecontent."
      ],
      "metadata": {
        "id": "9SqLlw4w_-_j"
      }
    },
    {
      "cell_type": "code",
      "source": [
        "list=[0,22,True,\"kedro\",6.3]\n",
        "list.append(49)\n",
        "list.remove(\"kedro\")\n",
        "list[2]"
      ],
      "metadata": {
        "colab": {
          "base_uri": "https://localhost:8080/"
        },
        "id": "ACDnltyTAF8B",
        "outputId": "81f835ff-b442-4f50-828b-e68dafdb0231"
      },
      "execution_count": null,
      "outputs": [
        {
          "output_type": "execute_result",
          "data": {
            "text/plain": [
              "True"
            ]
          },
          "metadata": {},
          "execution_count": 8
        }
      ]
    },
    {
      "cell_type": "code",
      "source": [
        "s=\"data is the new oil\"\n",
        "l=s.split()\n",
        "l"
      ],
      "metadata": {
        "colab": {
          "base_uri": "https://localhost:8080/"
        },
        "id": "sxkG2bY0CDJW",
        "outputId": "29e1d410-d128-45b7-fc5f-ff5a1bcee00f"
      },
      "execution_count": null,
      "outputs": [
        {
          "output_type": "execute_result",
          "data": {
            "text/plain": [
              "['data', 'is', 'the', 'new', 'oil']"
            ]
          },
          "metadata": {},
          "execution_count": 7
        }
      ]
    },
    {
      "cell_type": "code",
      "source": [
        "\n",
        "n=[1,2,3,4,5,6,7,8,9,10] # index of 6 is 5 and index of 10 is 9\n",
        "print(n[5:10])"
      ],
      "metadata": {
        "colab": {
          "base_uri": "https://localhost:8080/"
        },
        "id": "YQ1JN38kCyGM",
        "outputId": "3ea2998c-cd9a-4078-92be-5ec639cf1615"
      },
      "execution_count": null,
      "outputs": [
        {
          "output_type": "stream",
          "name": "stdout",
          "text": [
            "[6, 7, 8, 9, 10]\n"
          ]
        }
      ]
    },
    {
      "cell_type": "code",
      "source": [
        "p=[0,22,True,\"kedro\",6.3]\n",
        "\n",
        "for i in p:\n",
        "  print(i)\n",
        "print(\" ************** \")\n",
        "\n",
        "p=[0,22,True,\"kedro\",6.3]\n",
        "\n",
        "for i in range(len(p)):\n",
        "  print(p[i])\n"
      ],
      "metadata": {
        "colab": {
          "base_uri": "https://localhost:8080/"
        },
        "id": "OYc8jY1BDh9x",
        "outputId": "b7daf48e-2dff-48dd-cc93-454f598cfe7f"
      },
      "execution_count": null,
      "outputs": [
        {
          "output_type": "stream",
          "name": "stdout",
          "text": [
            "0\n",
            "22\n",
            "True\n",
            "kedro\n",
            "6.3\n",
            " ************** \n",
            "0\n",
            "22\n",
            "True\n",
            "kedro\n",
            "6.3\n"
          ]
        }
      ]
    },
    {
      "cell_type": "code",
      "source": [],
      "metadata": {
        "id": "cYJ-fClaBO1T"
      },
      "execution_count": null,
      "outputs": []
    }
  ]
}