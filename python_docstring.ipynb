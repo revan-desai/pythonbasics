{
  "nbformat": 4,
  "nbformat_minor": 0,
  "metadata": {
    "colab": {
      "provenance": [],
      "authorship_tag": "ABX9TyPaI7Yl5N3n8CV2kPwdxdiu",
      "include_colab_link": true
    },
    "kernelspec": {
      "name": "python3",
      "display_name": "Python 3"
    },
    "language_info": {
      "name": "python"
    }
  },
  "cells": [
    {
      "cell_type": "markdown",
      "metadata": {
        "id": "view-in-github",
        "colab_type": "text"
      },
      "source": [
        "<a href=\"https://colab.research.google.com/github/revan-desai/pythonbasics/blob/main/python_docstring.ipynb\" target=\"_parent\"><img src=\"https://colab.research.google.com/assets/colab-badge.svg\" alt=\"Open In Colab\"/></a>"
      ]
    },
    {
      "cell_type": "markdown",
      "source": [
        "## always mention docstring on first line inside function"
      ],
      "metadata": {
        "id": "hB_tTdlRVOFO"
      }
    },
    {
      "cell_type": "code",
      "execution_count": 126,
      "metadata": {
        "colab": {
          "base_uri": "https://localhost:8080/"
        },
        "id": "-K0KRT4W3L2_",
        "outputId": "f4ad017a-a504-4786-c8ac-902fec5494ec"
      },
      "outputs": [
        {
          "output_type": "stream",
          "name": "stdout",
          "text": [
            "hello this is docstring written \n",
            "      inside function on very first line\n",
            "**************************************\n",
            "hello\n"
          ]
        }
      ],
      "source": [
        "def greater():\n",
        "  '''hello this is docstring written\n",
        "      inside function on very first line'''\n",
        "  print('hello')\n",
        "\n",
        "print(greater.__doc__)\n",
        "\n",
        "print('**************************************')\n",
        "greater()"
      ]
    }
  ]
}