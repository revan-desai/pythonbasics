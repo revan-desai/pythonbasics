{
  "nbformat": 4,
  "nbformat_minor": 0,
  "metadata": {
    "colab": {
      "provenance": [],
      "authorship_tag": "ABX9TyPxbqww/6CL8VXD5guGZdsU",
      "include_colab_link": true
    },
    "kernelspec": {
      "name": "python3",
      "display_name": "Python 3"
    },
    "language_info": {
      "name": "python"
    }
  },
  "cells": [
    {
      "cell_type": "markdown",
      "metadata": {
        "id": "view-in-github",
        "colab_type": "text"
      },
      "source": [
        "<a href=\"https://colab.research.google.com/github/revan-desai/pythonbasics/blob/main/python_types_of_inheritance.ipynb\" target=\"_parent\"><img src=\"https://colab.research.google.com/assets/colab-badge.svg\" alt=\"Open In Colab\"/></a>"
      ]
    },
    {
      "cell_type": "markdown",
      "source": [
        "## single level inheritance"
      ],
      "metadata": {
        "id": "rgDdg1U1zGhA"
      }
    },
    {
      "cell_type": "code",
      "source": [
        "class Transport:\n",
        "  def vehtype(self):\n",
        "    print('vehicle is 4 wheeler')\n",
        "class Car(Transport):\n",
        "  def vehtype(self):\n",
        "    print('vehicle is 4 wheeler and it is car')\n",
        "\n",
        "t=Transport()\n",
        "\n",
        "c=Car()\n",
        "\n",
        "print(c.vehtype())"
      ],
      "metadata": {
        "colab": {
          "base_uri": "https://localhost:8080/"
        },
        "id": "z-KaZ4A7ygDo",
        "outputId": "d3e8309e-d98d-4d55-ec2d-9d2faecae792"
      },
      "execution_count": 11,
      "outputs": [
        {
          "output_type": "stream",
          "name": "stdout",
          "text": [
            "vehicle is 4 wheeler and it is car\n",
            "None\n"
          ]
        }
      ]
    },
    {
      "cell_type": "markdown",
      "source": [
        "## multi level inheritance"
      ],
      "metadata": {
        "id": "suTd6ht0zuop"
      }
    },
    {
      "cell_type": "code",
      "source": [
        "class Transport:\n",
        "  def vehtype(self):\n",
        "    print('vehicle is 4 wheeler')\n",
        "class Car(Transport):\n",
        "  def vehtype(self):\n",
        "    print('vehicle is 4 wheeler and it is car')\n",
        "class Hyundai(Car):\n",
        "   def vehtype(self):\n",
        "    print('vehicle is 4 wheeler and it is Hyundai')\n",
        "\n",
        "c=Car()\n",
        "\n",
        "h=Hyundai()\n",
        "\n",
        "print(h.vehtype())\n",
        "\n"
      ],
      "metadata": {
        "colab": {
          "base_uri": "https://localhost:8080/"
        },
        "id": "FenWDFzdzxuq",
        "outputId": "de8b1a8f-8a9a-486d-b07b-181e3ee3896e"
      },
      "execution_count": 13,
      "outputs": [
        {
          "output_type": "stream",
          "name": "stdout",
          "text": [
            "vehicle is 4 wheeler and it is Hyundai\n",
            "None\n"
          ]
        }
      ]
    },
    {
      "cell_type": "markdown",
      "source": [
        "## hierachical inheritance"
      ],
      "metadata": {
        "id": "KCLKxV7pyYlb"
      }
    },
    {
      "cell_type": "code",
      "execution_count": 5,
      "metadata": {
        "colab": {
          "base_uri": "https://localhost:8080/"
        },
        "id": "7A1sZyvJwRTn",
        "outputId": "4237f5b7-8980-4a0d-b70d-f8b6da77fdee"
      },
      "outputs": [
        {
          "output_type": "stream",
          "name": "stdout",
          "text": [
            "vehicle is 4 wheeler\n",
            "None\n",
            "vehicle is 4 wheeler and it is car\n",
            "None\n",
            "vehicle is 2 wheeler and it is bike\n",
            "None\n"
          ]
        }
      ],
      "source": [
        "class Transport:\n",
        "  def vehtype(self):\n",
        "    print('vehicle is 4 wheeler')\n",
        "class Car(Transport):\n",
        "  def vehtype(self):\n",
        "    print('vehicle is 4 wheeler and it is car')\n",
        "class Bike(Transport):\n",
        "  def vehtype(self):\n",
        "    print('vehicle is 2 wheeler and it is bike')\n",
        "\n",
        "t=Transport()\n",
        "\n",
        "print(t.vehtype())\n",
        "\n",
        "c=Car()\n",
        "\n",
        "print(c.vehtype())\n",
        "\n",
        "b=Bike()\n",
        "\n",
        "print(b.vehtype())\n"
      ]
    },
    {
      "cell_type": "markdown",
      "source": [
        "## multiple inheritance  .... python supports multiple inheritance"
      ],
      "metadata": {
        "id": "nm-D1s8uyeI7"
      }
    },
    {
      "cell_type": "code",
      "source": [
        "class Hyundai():\n",
        "   def vehtype(self):\n",
        "    print('vehicle is 4 wheeler and it is Hyundai')\n",
        "class Toyota():\n",
        "   def vehtype(self):\n",
        "    print('vehicle is 4 wheeler and it is Toyota')\n",
        "class Tata():\n",
        "   def vehtype(self):\n",
        "    print('vehicle is 4 wheeler and it is Tata')\n",
        "class BMW():\n",
        "   def vehtype(self):\n",
        "    print('vehicle is 4 wheeler and it is BMW')\n",
        "\n",
        "class Tyres(Hyundai,Toyota,Tata,BMW):         #*********************************\n",
        "   def vehtype(self):\n",
        "    print('tyres with alloy wheels')\n",
        "\n",
        "ty=Tyres()\n",
        "print(ty.vehtype())"
      ],
      "metadata": {
        "colab": {
          "base_uri": "https://localhost:8080/"
        },
        "id": "KMIaQOAp0bzc",
        "outputId": "2e23c261-94f6-4e90-8b4f-d9ad8381cd01"
      },
      "execution_count": 16,
      "outputs": [
        {
          "output_type": "stream",
          "name": "stdout",
          "text": [
            "tyres with alloy wheels\n",
            "None\n"
          ]
        }
      ]
    }
  ]
}