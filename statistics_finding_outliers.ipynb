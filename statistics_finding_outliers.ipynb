{
  "nbformat": 4,
  "nbformat_minor": 0,
  "metadata": {
    "colab": {
      "provenance": [],
      "authorship_tag": "ABX9TyMKR4Bag2pX25gXTqqTbxb7",
      "include_colab_link": true
    },
    "kernelspec": {
      "name": "python3",
      "display_name": "Python 3"
    },
    "language_info": {
      "name": "python"
    }
  },
  "cells": [
    {
      "cell_type": "markdown",
      "metadata": {
        "id": "view-in-github",
        "colab_type": "text"
      },
      "source": [
        "<a href=\"https://colab.research.google.com/github/revan-desai/pythonbasics/blob/main/statistics_finding_outliers.ipynb\" target=\"_parent\"><img src=\"https://colab.research.google.com/assets/colab-badge.svg\" alt=\"Open In Colab\"/></a>"
      ]
    },
    {
      "cell_type": "code",
      "execution_count": 16,
      "metadata": {
        "colab": {
          "base_uri": "https://localhost:8080/"
        },
        "id": "oygY-vZJL__5",
        "outputId": "ec3d6ca2-c097-4f4b-b1c0-b1fc8b057f41"
      },
      "outputs": [
        {
          "output_type": "execute_result",
          "data": {
            "text/plain": [
              "[2, 8, 9, 10, 10, 10, 10, 11, 11, 11, 12, 12, 12, 13, 13, 15, 16, 22]"
            ]
          },
          "metadata": {},
          "execution_count": 16
        }
      ],
      "source": [
        "dataset=[10,11,12,13,12,12,13,15,16,11,10,10,10,11,9,8,22,2]\n",
        "\n",
        "sorted(dataset)\n"
      ]
    },
    {
      "cell_type": "code",
      "source": [
        "import numpy as np\n",
        "q1,q3=np.percentile(dataset,[25,75])\n",
        "\n",
        "print(q1,q3)"
      ],
      "metadata": {
        "colab": {
          "base_uri": "https://localhost:8080/"
        },
        "id": "Vz9vSMnSRtWS",
        "outputId": "fb71d0cf-1ad6-4a0f-ad75-42754c2d8c2f"
      },
      "execution_count": 13,
      "outputs": [
        {
          "output_type": "stream",
          "name": "stdout",
          "text": [
            "10.0 12.75\n"
          ]
        }
      ]
    },
    {
      "cell_type": "code",
      "source": [
        "iqr=q3-q1\n",
        "\n",
        "lower_fence=q1-(1.5*iqr)\n",
        "higher_fence=q3+(1.5*iqr)\n",
        "\n",
        "for i in dataset:\n",
        "  if i<lower_fence or i>higher_fence:\n",
        "    print(i)"
      ],
      "metadata": {
        "colab": {
          "base_uri": "https://localhost:8080/"
        },
        "id": "y7L7E33QT0Ar",
        "outputId": "fe38408e-e673-4875-90ad-caeb0452b2b5"
      },
      "execution_count": 15,
      "outputs": [
        {
          "output_type": "stream",
          "name": "stdout",
          "text": [
            "22\n",
            "2\n"
          ]
        }
      ]
    }
  ]
}