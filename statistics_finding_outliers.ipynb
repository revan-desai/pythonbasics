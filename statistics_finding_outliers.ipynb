{
  "nbformat": 4,
  "nbformat_minor": 0,
  "metadata": {
    "colab": {
      "provenance": [],
      "authorship_tag": "ABX9TyOrywigeoMxwfiFQFqdQtoH",
      "include_colab_link": true
    },
    "kernelspec": {
      "name": "python3",
      "display_name": "Python 3"
    },
    "language_info": {
      "name": "python"
    }
  },
  "cells": [
    {
      "cell_type": "markdown",
      "metadata": {
        "id": "view-in-github",
        "colab_type": "text"
      },
      "source": [
        "<a href=\"https://colab.research.google.com/github/revan-desai/pythonbasics/blob/main/statistics_finding_outliers.ipynb\" target=\"_parent\"><img src=\"https://colab.research.google.com/assets/colab-badge.svg\" alt=\"Open In Colab\"/></a>"
      ]
    },
    {
      "cell_type": "code",
      "execution_count": null,
      "metadata": {
        "colab": {
          "base_uri": "https://localhost:8080/"
        },
        "id": "oygY-vZJL__5",
        "outputId": "49399531-6c69-48d3-c705-5227c15de0c3"
      },
      "outputs": [
        {
          "output_type": "execute_result",
          "data": {
            "text/plain": [
              "[2, 8, 9, 10, 10, 10, 10, 11, 11, 11, 12, 12, 12, 13, 13, 15, 16, 22]"
            ]
          },
          "metadata": {},
          "execution_count": 4
        }
      ],
      "source": [
        "dataset=[10,11,12,13,12,12,13,15,16,11,10,10,10,11,9,8,22,2]\n",
        "\n",
        "sorted(dataset)\n"
      ]
    },
    {
      "cell_type": "code",
      "source": [
        "import numpy as np\n",
        "q1,q3=np.percentile(dataset,[25,75])\n",
        "\n",
        "print(q1,q3)"
      ],
      "metadata": {
        "colab": {
          "base_uri": "https://localhost:8080/"
        },
        "id": "Vz9vSMnSRtWS",
        "outputId": "951b4f5a-24c0-4ca1-b703-96fdc393a34d"
      },
      "execution_count": null,
      "outputs": [
        {
          "output_type": "stream",
          "name": "stdout",
          "text": [
            "10.0 12.75\n"
          ]
        }
      ]
    },
    {
      "cell_type": "code",
      "source": [
        "iqr=q3-q1\n",
        "\n",
        "lower_fence=q1-(1.5*iqr)\n",
        "higher_fence=q3+(1.5*iqr)\n",
        "\n",
        "for i in dataset:\n",
        "  if i<lower_fence or i>higher_fence:\n",
        "    print(i)\n",
        "print('these are outliers')"
      ],
      "metadata": {
        "colab": {
          "base_uri": "https://localhost:8080/"
        },
        "id": "y7L7E33QT0Ar",
        "outputId": "e35220e4-9ca1-430b-ae11-345bff7e68e2"
      },
      "execution_count": null,
      "outputs": [
        {
          "output_type": "stream",
          "name": "stdout",
          "text": [
            "22\n",
            "2\n",
            "these are outliers\n"
          ]
        }
      ]
    }
  ]
}