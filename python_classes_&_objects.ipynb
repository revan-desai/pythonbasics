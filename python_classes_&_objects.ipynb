{
  "nbformat": 4,
  "nbformat_minor": 0,
  "metadata": {
    "colab": {
      "provenance": [],
      "authorship_tag": "ABX9TyNvAMEz9Jch9Yk4p132GZ5z",
      "include_colab_link": true
    },
    "kernelspec": {
      "name": "python3",
      "display_name": "Python 3"
    },
    "language_info": {
      "name": "python"
    }
  },
  "cells": [
    {
      "cell_type": "markdown",
      "metadata": {
        "id": "view-in-github",
        "colab_type": "text"
      },
      "source": [
        "<a href=\"https://colab.research.google.com/github/revan-desai/pythonbasics/blob/main/python_classes_%26_objects.ipynb\" target=\"_parent\"><img src=\"https://colab.research.google.com/assets/colab-badge.svg\" alt=\"Open In Colab\"/></a>"
      ]
    },
    {
      "cell_type": "code",
      "execution_count": null,
      "metadata": {
        "colab": {
          "base_uri": "https://localhost:8080/"
        },
        "id": "RyhuIqLYZn2Z",
        "outputId": "0ca55f69-7cc1-468f-b824-4c0abe6cc65c"
      },
      "outputs": [
        {
          "output_type": "stream",
          "name": "stdout",
          "text": [
            "red\n"
          ]
        }
      ],
      "source": [
        "class button:\n",
        "   v=\"red\"\n",
        "\n",
        "p=button()\n",
        "print(p.v)"
      ]
    },
    {
      "cell_type": "code",
      "source": [
        "class school:\n",
        "   #The __init__() function is called automatically every time the class is being used to create a new object\n",
        "   def __init__(self,value1,value2):   # self could be anything\n",
        "    self.value1=value1\n",
        "    self.value2=value2\n",
        "\n",
        "\n",
        "\n",
        "d=school(55,98)\n",
        "print(d.value1)\n",
        "print(d.value2)\n",
        "\n"
      ],
      "metadata": {
        "colab": {
          "base_uri": "https://localhost:8080/"
        },
        "id": "iXRB9fMluEnY",
        "outputId": "1f83ebbc-2638-40ee-d64a-73f4929d1338"
      },
      "execution_count": null,
      "outputs": [
        {
          "output_type": "stream",
          "name": "stdout",
          "text": [
            "55\n",
            "98\n"
          ]
        }
      ]
    },
    {
      "cell_type": "code",
      "source": [
        "class school:\n",
        "\n",
        "   def __init__(self,value1,value2):\n",
        "    self.value1=value1\n",
        "    self.value2=value2\n",
        "    print(value1,value2)\n",
        "    print(self.value1,self.value2)\n",
        "\n",
        "d=school(55,98)\n",
        "print(d.value1)\n",
        "print(d.value2)\n"
      ],
      "metadata": {
        "colab": {
          "base_uri": "https://localhost:8080/"
        },
        "id": "8IH8iTqk00tE",
        "outputId": "c4a8d112-bc9b-4b0d-c323-39ae114492b0"
      },
      "execution_count": null,
      "outputs": [
        {
          "output_type": "stream",
          "name": "stdout",
          "text": [
            "55 98\n",
            "55 98\n",
            "55\n",
            "98\n"
          ]
        }
      ]
    },
    {
      "cell_type": "code",
      "source": [
        "class student:\n",
        "  def __init__(self,name,city):\n",
        "    self.name=name\n",
        "    self.city=city\n",
        "d=student(\"peter\",30)\n",
        "print(d.name,d.city)\n"
      ],
      "metadata": {
        "colab": {
          "base_uri": "https://localhost:8080/"
        },
        "id": "6VKL1bUeuspB",
        "outputId": "af89e32f-444b-4227-dd66-ff731fa9fd29"
      },
      "execution_count": null,
      "outputs": [
        {
          "output_type": "stream",
          "name": "stdout",
          "text": [
            "peter 30\n"
          ]
        }
      ]
    },
    {
      "cell_type": "markdown",
      "source": [
        "##str() function"
      ],
      "metadata": {
        "id": "yR_XRZaj8aBh"
      }
    },
    {
      "cell_type": "code",
      "source": [
        "class person:\n",
        "  def __init__(self,name,age):   #value of self could be anythimg\n",
        "    self.name=name\n",
        "    self.age=age\n",
        "  #python does not support constructor overloading try creating two __init__() function\n",
        "  def __str__(self):\n",
        "     f=k.name+\"(\"+str(self.age)+\")\"  #simple concatenation done here\n",
        "     return f\n",
        "\n",
        "d=person(\"john\",28)\n",
        "print(d)\n"
      ],
      "metadata": {
        "id": "YF1we7GhBxuf"
      },
      "execution_count": null,
      "outputs": []
    },
    {
      "cell_type": "code",
      "source": [
        "class employee:\n",
        "   def __init__(self,name,salary):\n",
        "    self.name=name\n",
        "    self.salary=salary\n",
        "   def function9(self):       # this function will not execute automatically like init() function you have to call it separately using class object\n",
        "                           # also observe argument that we have passed.it can be m or anything\n",
        "    print(\"sara's salary is \",self.salary)\n",
        "\n",
        "d=employee(\"sara\",75000)\n",
        "d.function9()"
      ],
      "metadata": {
        "colab": {
          "base_uri": "https://localhost:8080/"
        },
        "id": "94jqpK5rHStU",
        "outputId": "c7c3c062-c313-4351-ef30-7af87169eca4"
      },
      "execution_count": null,
      "outputs": [
        {
          "output_type": "stream",
          "name": "stdout",
          "text": [
            "sara's salary is  75000\n"
          ]
        }
      ]
    },
    {
      "cell_type": "code",
      "source": [
        "class employee:\n",
        "   def __init__(self,name,salary):\n",
        "    self.name=name\n",
        "    self.salary=salary\n",
        "   def function9(p):\n",
        "    print(\"sara's salary is \",self.salary)\n",
        "\n",
        "d=employee(\"sara\",75000)\n",
        "d.salary=95000\n",
        "#we can delete the property by writing   del d.salary\n",
        "# we can delete object      by writing   del d\n",
        "d.function9()"
      ],
      "metadata": {
        "colab": {
          "base_uri": "https://localhost:8080/"
        },
        "id": "Gkehh73XHyZN",
        "outputId": "3af3d43d-c016-42ad-d2ef-8a718dc535d0"
      },
      "execution_count": null,
      "outputs": [
        {
          "output_type": "stream",
          "name": "stdout",
          "text": [
            "sara's salary is  95000\n"
          ]
        }
      ]
    },
    {
      "cell_type": "code",
      "source": [],
      "metadata": {
        "id": "0a0kqrvLFsBP"
      },
      "execution_count": null,
      "outputs": []
    }
  ]
}