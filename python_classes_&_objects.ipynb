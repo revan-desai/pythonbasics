{
  "nbformat": 4,
  "nbformat_minor": 0,
  "metadata": {
    "colab": {
      "provenance": [],
      "authorship_tag": "ABX9TyNhFthMQYuD9e/NXrkfs8R6",
      "include_colab_link": true
    },
    "kernelspec": {
      "name": "python3",
      "display_name": "Python 3"
    },
    "language_info": {
      "name": "python"
    }
  },
  "cells": [
    {
      "cell_type": "markdown",
      "metadata": {
        "id": "view-in-github",
        "colab_type": "text"
      },
      "source": [
        "<a href=\"https://colab.research.google.com/github/revan-desai/pythonbasics/blob/main/python_classes_%26_objects.ipynb\" target=\"_parent\"><img src=\"https://colab.research.google.com/assets/colab-badge.svg\" alt=\"Open In Colab\"/></a>"
      ]
    },
    {
      "cell_type": "code",
      "execution_count": 2,
      "metadata": {
        "colab": {
          "base_uri": "https://localhost:8080/"
        },
        "id": "RyhuIqLYZn2Z",
        "outputId": "0ca55f69-7cc1-468f-b824-4c0abe6cc65c"
      },
      "outputs": [
        {
          "output_type": "stream",
          "name": "stdout",
          "text": [
            "red\n"
          ]
        }
      ],
      "source": [
        "class button:\n",
        "   v=\"red\"\n",
        "\n",
        "p=button()\n",
        "print(p.v)"
      ]
    },
    {
      "cell_type": "code",
      "source": [
        "class school:\n",
        "   #The __init__() function is called automatically every time the class is being used to create a new object\n",
        "   def __init__(s,value1,value2):   # s could be anything\n",
        "    s.value1=value1\n",
        "    s.value2=value2\n",
        "\n",
        "\n",
        "\n",
        "d=school(55,98)\n",
        "print(d.value1)\n",
        "print(d.value2)\n",
        "\n"
      ],
      "metadata": {
        "colab": {
          "base_uri": "https://localhost:8080/"
        },
        "id": "iXRB9fMluEnY",
        "outputId": "1f83ebbc-2638-40ee-d64a-73f4929d1338"
      },
      "execution_count": 42,
      "outputs": [
        {
          "output_type": "stream",
          "name": "stdout",
          "text": [
            "55\n",
            "98\n"
          ]
        }
      ]
    },
    {
      "cell_type": "code",
      "source": [
        "class school:\n",
        "\n",
        "   def __init__(s,value1,value2):\n",
        "    s.value1=value1\n",
        "    s.value2=value2\n",
        "    print(value1,value2)\n",
        "    print(s.value1,s.value2)\n",
        "\n",
        "d=school(55,98)\n",
        "print(d.value1)\n",
        "print(d.value2)\n"
      ],
      "metadata": {
        "colab": {
          "base_uri": "https://localhost:8080/"
        },
        "id": "8IH8iTqk00tE",
        "outputId": "c4a8d112-bc9b-4b0d-c323-39ae114492b0"
      },
      "execution_count": 43,
      "outputs": [
        {
          "output_type": "stream",
          "name": "stdout",
          "text": [
            "55 98\n",
            "55 98\n",
            "55\n",
            "98\n"
          ]
        }
      ]
    },
    {
      "cell_type": "code",
      "source": [
        "class student:\n",
        "  def __init__(s,name,city):\n",
        "    s.name=name\n",
        "    s.city=city\n",
        "d=student(\"peter\",30)\n",
        "print(d.name,d.city)\n"
      ],
      "metadata": {
        "colab": {
          "base_uri": "https://localhost:8080/"
        },
        "id": "6VKL1bUeuspB",
        "outputId": "af89e32f-444b-4227-dd66-ff731fa9fd29"
      },
      "execution_count": 45,
      "outputs": [
        {
          "output_type": "stream",
          "name": "stdout",
          "text": [
            "peter 30\n"
          ]
        }
      ]
    },
    {
      "cell_type": "markdown",
      "source": [
        "##str() function"
      ],
      "metadata": {
        "id": "yR_XRZaj8aBh"
      }
    },
    {
      "cell_type": "code",
      "source": [
        "class person:\n",
        "  def __init__(k,name,age):   #value of k could be anythimg\n",
        "    k.name=name\n",
        "    k.age=age\n",
        "  #python does not support constructor overloading try creating two __init__() function\n",
        "  def __str__(k):\n",
        "     f=k.name+\"(\"+str(k.age)+\")\"  #simple concatenation done here\n",
        "     return f\n",
        "\n",
        "d=person(\"john\",28)\n",
        "print(d)\n"
      ],
      "metadata": {
        "id": "YF1we7GhBxuf"
      },
      "execution_count": 74,
      "outputs": []
    },
    {
      "cell_type": "code",
      "source": [],
      "metadata": {
        "id": "94jqpK5rHStU"
      },
      "execution_count": null,
      "outputs": []
    },
    {
      "cell_type": "code",
      "source": [],
      "metadata": {
        "id": "0a0kqrvLFsBP"
      },
      "execution_count": null,
      "outputs": []
    }
  ]
}