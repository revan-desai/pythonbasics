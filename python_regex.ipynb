{
  "nbformat": 4,
  "nbformat_minor": 0,
  "metadata": {
    "colab": {
      "provenance": [],
      "authorship_tag": "ABX9TyNNjPCnqV9HrkXr669hH8nl",
      "include_colab_link": true
    },
    "kernelspec": {
      "name": "python3",
      "display_name": "Python 3"
    },
    "language_info": {
      "name": "python"
    }
  },
  "cells": [
    {
      "cell_type": "markdown",
      "metadata": {
        "id": "view-in-github",
        "colab_type": "text"
      },
      "source": [
        "<a href=\"https://colab.research.google.com/github/revan-desai/pythonbasics/blob/main/python_regex.ipynb\" target=\"_parent\"><img src=\"https://colab.research.google.com/assets/colab-badge.svg\" alt=\"Open In Colab\"/></a>"
      ]
    },
    {
      "cell_type": "markdown",
      "source": [
        "A RegEx, or Regular Expression, is a sequence of characters that forms a search pattern.\n",
        "\n",
        "RegEx can be used to check if a string contains the specified search pattern."
      ],
      "metadata": {
        "id": "-PjvSk99EjJW"
      }
    },
    {
      "cell_type": "markdown",
      "source": [
        "RegEx Functions\n",
        "The re module offers a set of functions that allows us to search a string for a match:\n",
        "\n",
        "Function\tDescription\n",
        "\n",
        "1. **search** () :\tReturns a Match object if there is a match anywhere in the string\n",
        "\n",
        "2. **findall**() :\tReturns a **list** containing all matches\n",
        "\n",
        "3. **split** () :\tReturns a list where the string has been split at each match\n",
        "\n",
        "4. **sub**\t() : Replaces one or many matches with a string"
      ],
      "metadata": {
        "id": "jY0OcqonE0ZM"
      }
    },
    {
      "cell_type": "code",
      "execution_count": 1,
      "metadata": {
        "id": "dVuyhN6qEUvk",
        "colab": {
          "base_uri": "https://localhost:8080/"
        },
        "outputId": "b58e79ba-fe2b-4194-d891-d6bdf08c794f"
      },
      "outputs": [
        {
          "output_type": "stream",
          "name": "stdout",
          "text": [
            "match found\n"
          ]
        }
      ],
      "source": [
        "import re\n",
        "s=\"i love python\"\n",
        "x=re.search(\"love\",s)\n",
        "if x:\n",
        "  print(\"match found\")\n",
        "else:\n",
        "  print(\"not found\")\n",
        "\n"
      ]
    },
    {
      "cell_type": "code",
      "source": [
        "import re\n",
        "s=\"its raining and he is dancing\"\n",
        "x=re.findall(\"ing\",s)\n",
        "print(x)\n",
        "x1=re.findall(\" \",s)\n",
        "print(x1)"
      ],
      "metadata": {
        "colab": {
          "base_uri": "https://localhost:8080/"
        },
        "id": "UXaW_ShpLZt9",
        "outputId": "9c6dfbf2-7a80-4427-bde0-0e2bdbc79294"
      },
      "execution_count": 3,
      "outputs": [
        {
          "output_type": "stream",
          "name": "stdout",
          "text": [
            "['ing', 'ing']\n",
            "[' ', ' ', ' ', ' ', ' ']\n"
          ]
        }
      ]
    },
    {
      "cell_type": "markdown",
      "source": [
        "##split() function"
      ],
      "metadata": {
        "id": "BDZrmF1cPv5f"
      }
    },
    {
      "cell_type": "code",
      "source": [
        "import re\n",
        "k=\"welcome to my kingdom\"\n",
        "x=re.split(\"\\s\",k)\n",
        "print(x)\n",
        "\n",
        "x1=re.split(\" \",k)\n",
        "\n",
        "print(x1)"
      ],
      "metadata": {
        "colab": {
          "base_uri": "https://localhost:8080/"
        },
        "id": "my2arpQjOxo3",
        "outputId": "61b0680e-dd5e-4664-9707-50128023891b"
      },
      "execution_count": 5,
      "outputs": [
        {
          "output_type": "stream",
          "name": "stdout",
          "text": [
            "['welcome', 'to', 'my', 'kingdom']\n",
            "['welcome', 'to', 'my', 'kingdom']\n"
          ]
        }
      ]
    },
    {
      "cell_type": "markdown",
      "source": [
        "##sub() function"
      ],
      "metadata": {
        "id": "3PPiHN_jPrsL"
      }
    },
    {
      "cell_type": "code",
      "source": [
        "import re\n",
        "k=\"welcome to my kingdom\"\n",
        "x=re.sub(\"\\s\",\"%\",k)\n",
        "print(x)"
      ],
      "metadata": {
        "colab": {
          "base_uri": "https://localhost:8080/"
        },
        "id": "4-vrAO6LPQ0P",
        "outputId": "b778bb71-e54c-4817-b8d3-996d9d8006fb"
      },
      "execution_count": null,
      "outputs": [
        {
          "output_type": "stream",
          "name": "stdout",
          "text": [
            "welcome%to%my%kingdom\n"
          ]
        }
      ]
    }
  ]
}