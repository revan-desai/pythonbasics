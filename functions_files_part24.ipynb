{
  "nbformat": 4,
  "nbformat_minor": 0,
  "metadata": {
    "colab": {
      "provenance": [],
      "authorship_tag": "ABX9TyOzh21rZtr0MS5o+ShQLV8Q",
      "include_colab_link": true
    },
    "kernelspec": {
      "name": "python3",
      "display_name": "Python 3"
    },
    "language_info": {
      "name": "python"
    }
  },
  "cells": [
    {
      "cell_type": "markdown",
      "metadata": {
        "id": "view-in-github",
        "colab_type": "text"
      },
      "source": [
        "<a href=\"https://colab.research.google.com/github/revan-desai/pythonbasics/blob/main/functions_files_part24.ipynb\" target=\"_parent\"><img src=\"https://colab.research.google.com/assets/colab-badge.svg\" alt=\"Open In Colab\"/></a>"
      ]
    },
    {
      "cell_type": "code",
      "source": [
        "import socket\n",
        "\n",
        "host_name=socket.gethostname()\n",
        "\n",
        "ip_address=socket.gethostbyname(host_name)\n",
        "\n",
        "ip_address"
      ],
      "metadata": {
        "colab": {
          "base_uri": "https://localhost:8080/",
          "height": 35
        },
        "id": "32KYkJsDcYcw",
        "outputId": "5f7713f0-9305-4667-8fd9-7b5152fe1760"
      },
      "execution_count": null,
      "outputs": [
        {
          "output_type": "execute_result",
          "data": {
            "text/plain": [
              "'172.28.0.12'"
            ],
            "application/vnd.google.colaboratory.intrinsic+json": {
              "type": "string"
            }
          },
          "metadata": {},
          "execution_count": 1
        }
      ]
    },
    {
      "cell_type": "code",
      "source": [
        "f=open(\"/content/may_2024.txt\",\"w\")"
      ],
      "metadata": {
        "id": "HEDsxjhJc8PH"
      },
      "execution_count": null,
      "outputs": []
    },
    {
      "cell_type": "code",
      "source": [
        "f.write(\"this is my new text file im writing something in it\")"
      ],
      "metadata": {
        "colab": {
          "base_uri": "https://localhost:8080/"
        },
        "id": "ITthcT4xaQVN",
        "outputId": "52533872-6a40-40f1-bb45-c823115e7d16"
      },
      "execution_count": null,
      "outputs": [
        {
          "output_type": "execute_result",
          "data": {
            "text/plain": [
              "51"
            ]
          },
          "metadata": {},
          "execution_count": 101
        }
      ]
    },
    {
      "cell_type": "code",
      "source": [
        "f.close()    # you need to download the notepad file from colab to see the changes happenning in notepad"
      ],
      "metadata": {
        "id": "crcfRnIFZu4J"
      },
      "execution_count": null,
      "outputs": []
    },
    {
      "cell_type": "code",
      "source": [
        "f=open(\"/content/may_2024.txt\")  #opening file now in read mode"
      ],
      "metadata": {
        "id": "KjL8qqViaejv"
      },
      "execution_count": null,
      "outputs": []
    },
    {
      "cell_type": "code",
      "source": [
        "f.seek(0)   # resetting cursor to start position"
      ],
      "metadata": {
        "colab": {
          "base_uri": "https://localhost:8080/"
        },
        "id": "bVSIksv9faWm",
        "outputId": "978d1aed-17d7-4ad2-da38-7671dbcf871d"
      },
      "execution_count": null,
      "outputs": [
        {
          "output_type": "execute_result",
          "data": {
            "text/plain": [
              "0"
            ]
          },
          "metadata": {},
          "execution_count": 104
        }
      ]
    },
    {
      "cell_type": "code",
      "source": [
        "f.read()"
      ],
      "metadata": {
        "colab": {
          "base_uri": "https://localhost:8080/",
          "height": 35
        },
        "id": "x5pC4HQ3akxT",
        "outputId": "7d7c76ca-36df-43e8-a894-2a86dbdcc050"
      },
      "execution_count": null,
      "outputs": [
        {
          "output_type": "execute_result",
          "data": {
            "text/plain": [
              "'this is my new text file im writing something in it'"
            ],
            "application/vnd.google.colaboratory.intrinsic+json": {
              "type": "string"
            }
          },
          "metadata": {},
          "execution_count": 105
        }
      ]
    },
    {
      "cell_type": "code",
      "source": [
        "f.tell()   # currently cursor available at 51th position."
      ],
      "metadata": {
        "colab": {
          "base_uri": "https://localhost:8080/"
        },
        "id": "vaCLg6DAeHwP",
        "outputId": "20f34b29-f8ef-4bef-fba7-3a43397e08f4"
      },
      "execution_count": null,
      "outputs": [
        {
          "output_type": "execute_result",
          "data": {
            "text/plain": [
              "51"
            ]
          },
          "metadata": {},
          "execution_count": 106
        }
      ]
    },
    {
      "cell_type": "code",
      "source": [
        "f.seek(0)\n",
        "f.readline(15)"
      ],
      "metadata": {
        "colab": {
          "base_uri": "https://localhost:8080/",
          "height": 35
        },
        "id": "0H1nyMxjfyPg",
        "outputId": "f9ba814e-0334-4df9-c65a-0db98028118d"
      },
      "execution_count": null,
      "outputs": [
        {
          "output_type": "execute_result",
          "data": {
            "text/plain": [
              "'this is my new '"
            ],
            "application/vnd.google.colaboratory.intrinsic+json": {
              "type": "string"
            }
          },
          "metadata": {},
          "execution_count": 107
        }
      ]
    },
    {
      "cell_type": "code",
      "source": [
        "f.readlines(1)"
      ],
      "metadata": {
        "colab": {
          "base_uri": "https://localhost:8080/"
        },
        "id": "ySA2Ro5Ggehl",
        "outputId": "0cf0846b-6c98-41a6-a92a-a244132c41cc"
      },
      "execution_count": null,
      "outputs": [
        {
          "output_type": "execute_result",
          "data": {
            "text/plain": [
              "['text file im writing something in it']"
            ]
          },
          "metadata": {},
          "execution_count": 108
        }
      ]
    },
    {
      "cell_type": "code",
      "source": [
        "import datetime\n",
        "import pytz\n",
        "\n",
        "current_date_time=datetime.datetime.now(pytz.timezone(\"Asia/Kolkata\"))\n",
        "\n",
        "print(current_date_time)"
      ],
      "metadata": {
        "colab": {
          "base_uri": "https://localhost:8080/"
        },
        "id": "s0tMXl1VQ3lr",
        "outputId": "0a46ccd6-c063-4047-a1d8-c987f958d0a4"
      },
      "execution_count": 6,
      "outputs": [
        {
          "output_type": "stream",
          "name": "stdout",
          "text": [
            "2024-05-05 20:32:41.830702+05:30\n"
          ]
        }
      ]
    },
    {
      "cell_type": "code",
      "source": [
        "import os\n",
        "os.system(\"shutdown /s /t 1\")       # will shutdown your system"
      ],
      "metadata": {
        "colab": {
          "base_uri": "https://localhost:8080/"
        },
        "id": "G4ql6idQR12y",
        "outputId": "bf09997a-b779-4ab7-9bd2-983ae5cc08ad"
      },
      "execution_count": 10,
      "outputs": [
        {
          "output_type": "execute_result",
          "data": {
            "text/plain": [
              "256"
            ]
          },
          "metadata": {},
          "execution_count": 10
        }
      ]
    },
    {
      "cell_type": "code",
      "source": [
        "import shutil\n",
        "# move file from one directory to other directory\n",
        "src_path=\"\"\n",
        "dest_path=\"\"\n",
        "# shutil.move(src_path,dest_path)"
      ],
      "metadata": {
        "id": "HbzSRYE1S6zC"
      },
      "execution_count": 13,
      "outputs": []
    }
  ]
}