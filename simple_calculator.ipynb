{
  "nbformat": 4,
  "nbformat_minor": 0,
  "metadata": {
    "colab": {
      "provenance": [],
      "authorship_tag": "ABX9TyMDRH/IYvk2l/XCdvNq7i1g",
      "include_colab_link": true
    },
    "kernelspec": {
      "name": "python3",
      "display_name": "Python 3"
    },
    "language_info": {
      "name": "python"
    }
  },
  "cells": [
    {
      "cell_type": "markdown",
      "metadata": {
        "id": "view-in-github",
        "colab_type": "text"
      },
      "source": [
        "<a href=\"https://colab.research.google.com/github/revan-desai/pythonbasics/blob/main/simple_calculator.ipynb\" target=\"_parent\"><img src=\"https://colab.research.google.com/assets/colab-badge.svg\" alt=\"Open In Colab\"/></a>"
      ]
    },
    {
      "cell_type": "code",
      "execution_count": 12,
      "metadata": {
        "colab": {
          "base_uri": "https://localhost:8080/"
        },
        "id": "kQsFxIWH2jnx",
        "outputId": "af386ece-ec64-488c-ec6c-1348360d2f83"
      },
      "outputs": [
        {
          "output_type": "stream",
          "name": "stdout",
          "text": [
            "enter first number\n",
            "6\n",
            "enter second number\n",
            "7\n",
            "enter 1 for addition\n",
            "enter 2 for subtraction\n",
            "enter 3 for multiplication\n",
            "enter 4 for division\n",
            "3\n",
            "42\n"
          ]
        }
      ],
      "source": [
        "print('enter first number')\n",
        "a=int(input())\n",
        "print('enter second number')\n",
        "b=int(input())\n",
        "print('enter 1 for addition')\n",
        "print('enter 2 for subtraction')\n",
        "print('enter 3 for multiplication')\n",
        "print('enter 4 for division')\n",
        "result=0\n",
        "operation=int(input())\n",
        "\n",
        "if operation==1:\n",
        "  result=int(a)+int(b)\n",
        "  print(result)\n",
        "elif operation==2:\n",
        "  result=a-b\n",
        "  print(result)\n",
        "elif operation==3:\n",
        "  result=a*b\n",
        "  print(result)\n",
        "elif operation==4:\n",
        "   result=a/b\n",
        "   print(result)\n"
      ]
    }
  ]
}