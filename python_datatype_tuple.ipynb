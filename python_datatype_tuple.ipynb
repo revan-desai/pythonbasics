{
  "nbformat": 4,
  "nbformat_minor": 0,
  "metadata": {
    "colab": {
      "provenance": [],
      "authorship_tag": "ABX9TyPhddIZ0MhB3EEYxfHtvCNh",
      "include_colab_link": true
    },
    "kernelspec": {
      "name": "python3",
      "display_name": "Python 3"
    },
    "language_info": {
      "name": "python"
    }
  },
  "cells": [
    {
      "cell_type": "markdown",
      "metadata": {
        "id": "view-in-github",
        "colab_type": "text"
      },
      "source": [
        "<a href=\"https://colab.research.google.com/github/revan-desai/pythonbasics/blob/main/python_datatype_tuple.ipynb\" target=\"_parent\"><img src=\"https://colab.research.google.com/assets/colab-badge.svg\" alt=\"Open In Colab\"/></a>"
      ]
    },
    {
      "cell_type": "markdown",
      "source": [
        "#1.tuple is immutable\n",
        "#2.we can create tuple using parenthesis ,parenthesis are optional\n",
        "#3.tuple comprehension is not supported in python\n"
      ],
      "metadata": {
        "id": "Hn-vBuaXS1kf"
      }
    },
    {
      "cell_type": "code",
      "execution_count": null,
      "metadata": {
        "colab": {
          "base_uri": "https://localhost:8080/"
        },
        "id": "GYBPP0kTSqwX",
        "outputId": "356b4712-8cd1-4e02-e25f-9458c2225b6f"
      },
      "outputs": [
        {
          "output_type": "stream",
          "name": "stdout",
          "text": [
            "True\n",
            "80\n"
          ]
        }
      ],
      "source": [
        "z=55,88,77,44,True # this is tuple\n",
        "d=(55,)            # this is tuple\n",
        "f=98               # not a tuple\n",
        "a=(10,30,80,40,70,True)\n",
        "print(min(a))   # will work if there are only numerical and boolean values in tuple\n",
        "print(max(a))   # will work if there are only numerical and boolean values in tuple"
      ]
    },
    {
      "cell_type": "code",
      "source": [
        "z=(55,88,77,44,True)\n",
        "y=(84,\"pytorch\",\"data\",False)\n",
        "\n",
        "print(z+y)\n",
        "print(z*3)"
      ],
      "metadata": {
        "colab": {
          "base_uri": "https://localhost:8080/"
        },
        "id": "yHYpXdwFT4oE",
        "outputId": "897df7de-9aee-466c-c006-85b5b82f22f5"
      },
      "execution_count": null,
      "outputs": [
        {
          "output_type": "stream",
          "name": "stdout",
          "text": [
            "(55, 88, 77, 44, True, 84, 'pytorch', 'data', False)\n",
            "(55, 88, 77, 44, True, 55, 88, 77, 44, True, 55, 88, 77, 44, True)\n"
          ]
        }
      ]
    },
    {
      "cell_type": "markdown",
      "source": [
        "#accessing values of tuple"
      ],
      "metadata": {
        "id": "hI6XJiu3Ullx"
      }
    },
    {
      "cell_type": "code",
      "source": [
        "z=(55,88,77,44,True)\n",
        "print(z[-1])\n",
        "print(z[0])\n"
      ],
      "metadata": {
        "colab": {
          "base_uri": "https://localhost:8080/"
        },
        "id": "W8fqUl9wUk44",
        "outputId": "1563ea55-146c-4370-daad-57101db3ff08"
      },
      "execution_count": null,
      "outputs": [
        {
          "output_type": "stream",
          "name": "stdout",
          "text": [
            "True\n",
            "55\n"
          ]
        }
      ]
    },
    {
      "cell_type": "markdown",
      "source": [
        "#accessing values of tuple using slice function"
      ],
      "metadata": {
        "id": "1OHqdr9hU0Kq"
      }
    },
    {
      "cell_type": "code",
      "source": [
        "z=(55,88,77,44,True)\n",
        "print(z[::1])\n",
        "print(z[::-1])\n",
        "print(z[::2])"
      ],
      "metadata": {
        "colab": {
          "base_uri": "https://localhost:8080/"
        },
        "id": "0Z9uQFeiU_vs",
        "outputId": "05d938ff-3074-4a76-fee4-21d261008eed"
      },
      "execution_count": null,
      "outputs": [
        {
          "output_type": "stream",
          "name": "stdout",
          "text": [
            "(55, 88, 77, 44, True)\n",
            "(True, 44, 77, 88, 55)\n",
            "(55, 77, True)\n"
          ]
        }
      ]
    },
    {
      "cell_type": "markdown",
      "source": [
        "#tuple is immutable so convert it into list"
      ],
      "metadata": {
        "id": "KUpzUUkitLOh"
      }
    },
    {
      "cell_type": "code",
      "source": [
        "y=(84,\"pytorch\",\"data\",False)\n",
        "y[0]=777  # \"\"Error\"\"  as tuple is immutable we cannot change its content once we created tuple\n"
      ],
      "metadata": {
        "id": "iGtxyREeUOoT"
      },
      "execution_count": null,
      "outputs": []
    },
    {
      "cell_type": "code",
      "source": [
        "x=(\"car\",\"bike\",\"bus\")\n",
        "y=list(x)\n",
        "y[1]=\"train\"\n",
        "print(y)\n",
        "print(tuple(y))"
      ],
      "metadata": {
        "colab": {
          "base_uri": "https://localhost:8080/"
        },
        "id": "i0Q8-4TrtSO1",
        "outputId": "e14d1ace-ef34-43dd-8e40-82559c25e6dc"
      },
      "execution_count": null,
      "outputs": [
        {
          "output_type": "stream",
          "name": "stdout",
          "text": [
            "['car', 'train', 'bus']\n",
            "('car', 'train', 'bus')\n"
          ]
        }
      ]
    },
    {
      "cell_type": "markdown",
      "source": [
        "#tuple function count() and index()"
      ],
      "metadata": {
        "id": "UAPPinj5uurj"
      }
    },
    {
      "cell_type": "code",
      "source": [
        "x=(\"car\",\"bike\",\"bus\",\"bike\",\"train\")\n",
        "print(x.count(\"bike\"))\n",
        "print(x.index(\"train\"))"
      ],
      "metadata": {
        "colab": {
          "base_uri": "https://localhost:8080/"
        },
        "id": "4bcCE5Y0uNSQ",
        "outputId": "0bc89795-5ce4-4f3c-dc58-dcb419a2e5e2"
      },
      "execution_count": null,
      "outputs": [
        {
          "output_type": "stream",
          "name": "stdout",
          "text": [
            "2\n",
            "4\n"
          ]
        }
      ]
    }
  ]
}