{
  "nbformat": 4,
  "nbformat_minor": 0,
  "metadata": {
    "colab": {
      "provenance": [],
      "authorship_tag": "ABX9TyMv8W3gijFJlIFF03BrdNcd",
      "include_colab_link": true
    },
    "kernelspec": {
      "name": "python3",
      "display_name": "Python 3"
    },
    "language_info": {
      "name": "python"
    }
  },
  "cells": [
    {
      "cell_type": "markdown",
      "metadata": {
        "id": "view-in-github",
        "colab_type": "text"
      },
      "source": [
        "<a href=\"https://colab.research.google.com/github/revan-desai/pythonbasics/blob/main/python_inheritance.ipynb\" target=\"_parent\"><img src=\"https://colab.research.google.com/assets/colab-badge.svg\" alt=\"Open In Colab\"/></a>"
      ]
    },
    {
      "cell_type": "markdown",
      "source": [
        "##The **m** parameter is a reference to the current instance of the class, and is used to access variables that belong to the class."
      ],
      "metadata": {
        "id": "_vDWIOsEWQhJ"
      }
    },
    {
      "cell_type": "code",
      "execution_count": 3,
      "metadata": {
        "colab": {
          "base_uri": "https://localhost:8080/"
        },
        "id": "16gWShKGNcR8",
        "outputId": "a153dc16-8e34-4c8f-bd1d-b047c81287e4"
      },
      "outputs": [
        {
          "output_type": "stream",
          "name": "stdout",
          "text": [
            "inside seniors class seniors full name are  john lee\n"
          ]
        }
      ],
      "source": [
        "class seniors:\n",
        "  def __init__(m,fname,lname):\n",
        "    m.fname=fname\n",
        "    m.lname=lname\n",
        "  def myfunction3(h):      # we can also use m here\n",
        "    print(\"inside seniors class seniors full name are \",h.fname,h.lname )\n",
        "\n",
        "\n",
        "\n",
        "\n",
        "\n"
      ]
    },
    {
      "cell_type": "code",
      "source": [
        "class juniors(seniors):              # we have inherited properties of seniors\n",
        "      pass                           # remember in python you cant keep any block blank you have to write atleast pass statement\n",
        "\n",
        "w=juniors(\"james\",\"bond\")\n",
        "w.myfunction3()\n",
        "\n",
        ""
      ],
      "metadata": {
        "colab": {
          "base_uri": "https://localhost:8080/"
        },
        "id": "VVQ9YicbP5dn",
        "outputId": "1257cc68-9d8f-4318-a612-5d934eaa9d33"
      },
      "execution_count": 16,
      "outputs": [
        {
          "output_type": "stream",
          "name": "stdout",
          "text": [
            "inside seniors class seniors full name are  james bond\n"
          ]
        }
      ]
    },
    {
      "cell_type": "code",
      "source": [
        "class juniors(seniors):\n",
        "    def __init__(m,fname,lname):  # The child's __init__() function overrides the inheritance of the parent's __init__() function.\n",
        "       seniors.__init__(m,fname,lname)\n",
        "\n",
        "w=juniors(\"james\",\"bond\")\n",
        "w.myfunction3()                   # already done inheritance"
      ],
      "metadata": {
        "colab": {
          "base_uri": "https://localhost:8080/"
        },
        "id": "GntBQPbqSlJL",
        "outputId": "1f93a331-3192-4f6f-b02b-9b15a9f106cc"
      },
      "execution_count": 28,
      "outputs": [
        {
          "output_type": "stream",
          "name": "stdout",
          "text": [
            "inside seniors class seniors full name are  james bond\n"
          ]
        }
      ]
    },
    {
      "cell_type": "markdown",
      "source": [
        "## super() function"
      ],
      "metadata": {
        "id": "LFjrrqYkU6Se"
      }
    },
    {
      "cell_type": "code",
      "source": [
        "class juniors(seniors):\n",
        "    def __init__(u,fname,lname):       #observe first argument is diiferent here and in seniors class\n",
        "       super().__init__(fname,lname)   # observe only two arguments we have passed\n",
        "\n",
        "w=juniors(\"james\",\"bond\")\n",
        "w.myfunction3()                        # already done inheritance"
      ],
      "metadata": {
        "colab": {
          "base_uri": "https://localhost:8080/"
        },
        "id": "PVXeSvpdU3Vz",
        "outputId": "b42485e4-2521-4dab-c72e-aabd4a314055"
      },
      "execution_count": 29,
      "outputs": [
        {
          "output_type": "stream",
          "name": "stdout",
          "text": [
            "inside seniors class seniors full name are  james bond\n"
          ]
        }
      ]
    },
    {
      "cell_type": "code",
      "source": [
        "class juniors(seniors):\n",
        "    def __init__(u,fname,lname,salary):\n",
        "       super().__init__(fname,lname)\n",
        "       u.salary=salary\n",
        "    def welcome(u):\n",
        "      print(u.fname,u.lname,u.salary)\n",
        "w=juniors(\"james\",\"bond\",85000)\n",
        "w.welcome()"
      ],
      "metadata": {
        "colab": {
          "base_uri": "https://localhost:8080/"
        },
        "id": "5l5JIjUHP5gk",
        "outputId": "e81f0d4a-6269-40e4-e103-992bb5b30de0"
      },
      "execution_count": 31,
      "outputs": [
        {
          "output_type": "stream",
          "name": "stdout",
          "text": [
            "james bond 85000\n"
          ]
        }
      ]
    }
  ]
}