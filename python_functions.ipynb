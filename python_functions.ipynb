{
  "nbformat": 4,
  "nbformat_minor": 0,
  "metadata": {
    "colab": {
      "provenance": [],
      "authorship_tag": "ABX9TyOJj70V/gw7iu2zZY6l0i/B",
      "include_colab_link": true
    },
    "kernelspec": {
      "name": "python3",
      "display_name": "Python 3"
    },
    "language_info": {
      "name": "python"
    }
  },
  "cells": [
    {
      "cell_type": "markdown",
      "metadata": {
        "id": "view-in-github",
        "colab_type": "text"
      },
      "source": [
        "<a href=\"https://colab.research.google.com/github/revan-desai/pythonbasics/blob/main/python_functions.ipynb\" target=\"_parent\"><img src=\"https://colab.research.google.com/assets/colab-badge.svg\" alt=\"Open In Colab\"/></a>"
      ]
    },
    {
      "cell_type": "markdown",
      "source": [
        "##calling a function"
      ],
      "metadata": {
        "id": "QCh6UTiRQC_v"
      }
    },
    {
      "cell_type": "code",
      "execution_count": 5,
      "metadata": {
        "colab": {
          "base_uri": "https://localhost:8080/"
        },
        "id": "CevoCuV7QCRV",
        "outputId": "6a6c33c3-8c6b-497f-f920-37289298c1fc"
      },
      "outputs": [
        {
          "output_type": "stream",
          "name": "stdout",
          "text": [
            "Hello from a function\n"
          ]
        }
      ],
      "source": [
        "def myfunction():\n",
        "  print(\"Hello from a function\")\n",
        "\n",
        "myfunction()"
      ]
    },
    {
      "cell_type": "markdown",
      "source": [
        "##arguments"
      ],
      "metadata": {
        "id": "GxDdDCAfSlsA"
      }
    },
    {
      "cell_type": "code",
      "source": [
        "def addition(x,y):\n",
        "    z=x+y\n",
        "    print(z)\n",
        "\n",
        "addition(20,30)\n",
        "addition(50,80)\n",
        "addition(90,90)"
      ],
      "metadata": {
        "colab": {
          "base_uri": "https://localhost:8080/"
        },
        "id": "0nSkua98SlMp",
        "outputId": "33f35b7a-751b-4543-f439-98f297ba98dd"
      },
      "execution_count": 6,
      "outputs": [
        {
          "output_type": "stream",
          "name": "stdout",
          "text": [
            "50\n",
            "130\n",
            "180\n"
          ]
        }
      ]
    },
    {
      "cell_type": "markdown",
      "source": [
        "##passing list as an argument"
      ],
      "metadata": {
        "id": "5-TWoqpAYgAz"
      }
    },
    {
      "cell_type": "code",
      "source": [
        "def function1(f):\n",
        "  for i in f:\n",
        "    print(i)\n",
        "\n",
        "r=[\"school\",True,55,98.952,\"bus\"]\n",
        "function1(r)\n"
      ],
      "metadata": {
        "colab": {
          "base_uri": "https://localhost:8080/"
        },
        "id": "EJXd_YWEXGhJ",
        "outputId": "f01548dd-e6bf-4cbe-f3e1-e88808aa0ac3"
      },
      "execution_count": 7,
      "outputs": [
        {
          "output_type": "stream",
          "name": "stdout",
          "text": [
            "school\n",
            "True\n",
            "55\n",
            "98.952\n",
            "bus\n"
          ]
        }
      ]
    },
    {
      "cell_type": "markdown",
      "source": [
        "##default parameter value"
      ],
      "metadata": {
        "id": "2ULAtbdiY0sO"
      }
    },
    {
      "cell_type": "code",
      "source": [
        "def location(city=\"pune\"):\n",
        "  print(\"i am from \"+city)\n",
        "\n",
        "location(\"new delhi\")\n",
        "location()             # no argument\n",
        "location(\"chennai\")\n",
        "location(\"hyderabad\")"
      ],
      "metadata": {
        "colab": {
          "base_uri": "https://localhost:8080/"
        },
        "id": "tR_-QuonZAss",
        "outputId": "2aa634e8-e8e3-4c02-8d5f-89223a120c57"
      },
      "execution_count": 11,
      "outputs": [
        {
          "output_type": "stream",
          "name": "stdout",
          "text": [
            "i am from new delhi\n",
            "i am from pune\n",
            "i am from chennai\n",
            "i am from hyderabad\n"
          ]
        }
      ]
    },
    {
      "cell_type": "markdown",
      "source": [
        "##Arbitrary Arguments, *args"
      ],
      "metadata": {
        "id": "F2JeaZF_Z8c1"
      }
    },
    {
      "cell_type": "code",
      "source": [
        "def location(*city):\n",
        "  print(\"my current location is \"+city[3])\n",
        "\n",
        "location(\"mumbai\",\"delhi\",\"chennai\",\"pune\",\"bangalore\")"
      ],
      "metadata": {
        "colab": {
          "base_uri": "https://localhost:8080/"
        },
        "id": "DcRE0NxQaBbq",
        "outputId": "a4f030cf-45ee-48da-b2b7-c2ab196eaae8"
      },
      "execution_count": 14,
      "outputs": [
        {
          "output_type": "stream",
          "name": "stdout",
          "text": [
            "my current location is pune\n"
          ]
        }
      ]
    },
    {
      "cell_type": "markdown",
      "source": [
        "##Return Values"
      ],
      "metadata": {
        "id": "E1exFGSDa5YY"
      }
    },
    {
      "cell_type": "code",
      "source": [
        "def calci(n):\n",
        "  return n*10\n",
        "\n",
        "print(calci(50))\n",
        "print(calci(20))\n",
        "print(calci(70))\n"
      ],
      "metadata": {
        "colab": {
          "base_uri": "https://localhost:8080/"
        },
        "id": "IkCBkpOwa6tt",
        "outputId": "8ce70240-b493-4b9b-c993-dec06e1efb34"
      },
      "execution_count": 16,
      "outputs": [
        {
          "output_type": "stream",
          "name": "stdout",
          "text": [
            "500\n",
            "200\n",
            "700\n"
          ]
        }
      ]
    },
    {
      "cell_type": "markdown",
      "source": [
        "##pass statement"
      ],
      "metadata": {
        "id": "Oo-OTXhpbZvm"
      }
    },
    {
      "cell_type": "code",
      "source": [
        "def hello():\n",
        "  pass"
      ],
      "metadata": {
        "id": "8PTG8rnTbb8_"
      },
      "execution_count": 22,
      "outputs": []
    }
  ]
}