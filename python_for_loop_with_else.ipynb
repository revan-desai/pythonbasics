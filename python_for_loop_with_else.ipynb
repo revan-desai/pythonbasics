{
  "nbformat": 4,
  "nbformat_minor": 0,
  "metadata": {
    "colab": {
      "provenance": [],
      "authorship_tag": "ABX9TyN1I/YMOVqk2VLqgP3RokgW",
      "include_colab_link": true
    },
    "kernelspec": {
      "name": "python3",
      "display_name": "Python 3"
    },
    "language_info": {
      "name": "python"
    }
  },
  "cells": [
    {
      "cell_type": "markdown",
      "metadata": {
        "id": "view-in-github",
        "colab_type": "text"
      },
      "source": [
        "<a href=\"https://colab.research.google.com/github/revan-desai/pythonbasics/blob/main/python_for_loop_with_else.ipynb\" target=\"_parent\"><img src=\"https://colab.research.google.com/assets/colab-badge.svg\" alt=\"Open In Colab\"/></a>"
      ]
    },
    {
      "cell_type": "markdown",
      "source": [
        "## else block will execute when loop ends and not when loop breaks"
      ],
      "metadata": {
        "id": "nnzUBGRe5ehn"
      }
    },
    {
      "cell_type": "code",
      "execution_count": 1,
      "metadata": {
        "colab": {
          "base_uri": "https://localhost:8080/"
        },
        "id": "cbZuRnm94-iM",
        "outputId": "6153df9a-998a-4f6e-a91a-a4235dba31e1"
      },
      "outputs": [
        {
          "output_type": "stream",
          "name": "stdout",
          "text": [
            "1\n",
            "2\n",
            "3\n",
            "4\n",
            "loop ended\n"
          ]
        }
      ],
      "source": [
        "for i in range(1,5):\n",
        "  print(i)\n",
        "else:\n",
        "  print('loop ended')"
      ]
    },
    {
      "cell_type": "code",
      "source": [
        "for i in range(1,5):\n",
        "  print(i)\n",
        "  if i==3:\n",
        "    break\n",
        "\n",
        "\n",
        "else:                             # else block will not execute this time because loop has breaked and ended\n",
        "  print('loop ended')"
      ],
      "metadata": {
        "colab": {
          "base_uri": "https://localhost:8080/"
        },
        "id": "8JJDE6mw5naL",
        "outputId": "6a7a8586-57aa-4433-e55b-ec7468b1b769"
      },
      "execution_count": 7,
      "outputs": [
        {
          "output_type": "stream",
          "name": "stdout",
          "text": [
            "1\n",
            "2\n",
            "3\n"
          ]
        }
      ]
    }
  ]
}