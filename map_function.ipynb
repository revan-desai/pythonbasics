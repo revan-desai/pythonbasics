{
  "nbformat": 4,
  "nbformat_minor": 0,
  "metadata": {
    "colab": {
      "provenance": [],
      "authorship_tag": "ABX9TyNkC+5Q4Nksjw8a1kiZtKbe",
      "include_colab_link": true
    },
    "kernelspec": {
      "name": "python3",
      "display_name": "Python 3"
    },
    "language_info": {
      "name": "python"
    }
  },
  "cells": [
    {
      "cell_type": "markdown",
      "metadata": {
        "id": "view-in-github",
        "colab_type": "text"
      },
      "source": [
        "<a href=\"https://colab.research.google.com/github/revan-desai/pythonbasics/blob/main/map_function.ipynb\" target=\"_parent\"><img src=\"https://colab.research.google.com/assets/colab-badge.svg\" alt=\"Open In Colab\"/></a>"
      ]
    },
    {
      "cell_type": "code",
      "source": [
        "d= {\n",
        "    \"Afghanistan\": \"Kabul\",\n",
        "    \"Albania\": \"Tirana\",\n",
        "    \"Algeria\": \"Algiers\",\n",
        "    \"Andorra\": \"Andorra la Vella\",\n",
        "    \"Angola\": \"Luanda\",\n",
        "    \"Antigua and Barbuda\": \"Saint John's\",\n",
        "    \"Argentina\": \"Buenos Aires\",\n",
        "    \"Armenia\": \"Yerevan\",\n",
        "    \"Australia\": \"Canberra\",\n",
        "    \"Austria\": \"Vienna\",\n",
        "    \"Azerbaijan\": \"Baku\",\n",
        "}\n",
        "\n",
        "list1=list(d.keys())\n",
        "list1\n",
        "\n",
        "list2=list(d.values())\n",
        "list2"
      ],
      "metadata": {
        "colab": {
          "base_uri": "https://localhost:8080/"
        },
        "id": "Z6Z-4z2DVpuN",
        "outputId": "baa56221-9300-482f-b1c2-5481aba539bd"
      },
      "execution_count": 8,
      "outputs": [
        {
          "output_type": "execute_result",
          "data": {
            "text/plain": [
              "['Kabul',\n",
              " 'Tirana',\n",
              " 'Algiers',\n",
              " 'Andorra la Vella',\n",
              " 'Luanda',\n",
              " \"Saint John's\",\n",
              " 'Buenos Aires',\n",
              " 'Yerevan',\n",
              " 'Canberra',\n",
              " 'Vienna',\n",
              " 'Baku']"
            ]
          },
          "metadata": {},
          "execution_count": 8
        }
      ]
    },
    {
      "cell_type": "code",
      "source": [
        "c=list(map(str.upper,list2))\n",
        "c"
      ],
      "metadata": {
        "colab": {
          "base_uri": "https://localhost:8080/"
        },
        "id": "zcqVynZgjfs6",
        "outputId": "471f817b-1bbb-430e-b13d-a0fcb3223289"
      },
      "execution_count": 69,
      "outputs": [
        {
          "output_type": "execute_result",
          "data": {
            "text/plain": [
              "['KABUL',\n",
              " 'TIRANA',\n",
              " 'ALGIERS',\n",
              " 'ANDORRA LA VELLA',\n",
              " 'LUANDA',\n",
              " \"SAINT JOHN'S\",\n",
              " 'BUENOS AIRES',\n",
              " 'YEREVAN',\n",
              " 'CANBERRA',\n",
              " 'VIENNA',\n",
              " 'BAKU']"
            ]
          },
          "metadata": {},
          "execution_count": 69
        }
      ]
    },
    {
      "cell_type": "code",
      "source": [
        "b=list(map(len,list2))\n",
        "b"
      ],
      "metadata": {
        "colab": {
          "base_uri": "https://localhost:8080/"
        },
        "id": "ERyaLoyRcpqy",
        "outputId": "424703da-c61c-4510-bed1-55554886ba4a"
      },
      "execution_count": 49,
      "outputs": [
        {
          "output_type": "execute_result",
          "data": {
            "text/plain": [
              "[5, 6, 7, 16, 6, 12, 12, 7, 8, 6, 4]"
            ]
          },
          "metadata": {},
          "execution_count": 49
        }
      ]
    },
    {
      "cell_type": "code",
      "source": [
        "list(map(lambda x,y:'country is: '+x+' and Capital is:'+y,list1,list2))"
      ],
      "metadata": {
        "colab": {
          "base_uri": "https://localhost:8080/"
        },
        "id": "py4waAVCeAtm",
        "outputId": "7e6a01a9-da1e-42e8-873c-b3a2fb46c437"
      },
      "execution_count": 60,
      "outputs": [
        {
          "output_type": "execute_result",
          "data": {
            "text/plain": [
              "['country is: Afghanistan and Capital is:Kabul',\n",
              " 'country is: Albania and Capital is:Tirana',\n",
              " 'country is: Algeria and Capital is:Algiers',\n",
              " 'country is: Andorra and Capital is:Andorra la Vella',\n",
              " 'country is: Angola and Capital is:Luanda',\n",
              " \"country is: Antigua and Barbuda and Capital is:Saint John's\",\n",
              " 'country is: Argentina and Capital is:Buenos Aires',\n",
              " 'country is: Armenia and Capital is:Yerevan',\n",
              " 'country is: Australia and Capital is:Canberra',\n",
              " 'country is: Austria and Capital is:Vienna',\n",
              " 'country is: Azerbaijan and Capital is:Baku']"
            ]
          },
          "metadata": {},
          "execution_count": 60
        }
      ]
    }
  ]
}