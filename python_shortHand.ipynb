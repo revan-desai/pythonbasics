{
  "nbformat": 4,
  "nbformat_minor": 0,
  "metadata": {
    "colab": {
      "provenance": [],
      "authorship_tag": "ABX9TyNuHhoC5RyVESZ4KM3x/xrv",
      "include_colab_link": true
    },
    "kernelspec": {
      "name": "python3",
      "display_name": "Python 3"
    },
    "language_info": {
      "name": "python"
    }
  },
  "cells": [
    {
      "cell_type": "markdown",
      "metadata": {
        "id": "view-in-github",
        "colab_type": "text"
      },
      "source": [
        "<a href=\"https://colab.research.google.com/github/revan-desai/pythonbasics/blob/main/python_shortHand.ipynb\" target=\"_parent\"><img src=\"https://colab.research.google.com/assets/colab-badge.svg\" alt=\"Open In Colab\"/></a>"
      ]
    },
    {
      "cell_type": "code",
      "execution_count": 7,
      "metadata": {
        "colab": {
          "base_uri": "https://localhost:8080/"
        },
        "id": "1M6dO2Q-r_x-",
        "outputId": "88daee7a-d069-487c-d225-10f56bfd42cb"
      },
      "outputs": [
        {
          "output_type": "stream",
          "name": "stdout",
          "text": [
            "500\n",
            "200\n",
            "a is greater\n"
          ]
        }
      ],
      "source": [
        "a=int(input())\n",
        "\n",
        "b=int(input())\n",
        "\n",
        "print('a is greater') if a>b else print('b is greater') if b>a else print('both are equal')\n"
      ]
    },
    {
      "cell_type": "code",
      "source": [
        "a=int(input())\n",
        "\n",
        "b=int(input())\n",
        "\n",
        "c=100 if a>b    else 50 if b>a     else 0\n",
        "\n",
        "print(c)"
      ],
      "metadata": {
        "colab": {
          "base_uri": "https://localhost:8080/"
        },
        "id": "USIsZW_ttBK3",
        "outputId": "b1e4a9a1-184c-46dc-94d7-22c5624a5ebd"
      },
      "execution_count": 13,
      "outputs": [
        {
          "output_type": "stream",
          "name": "stdout",
          "text": [
            "54\n",
            "56\n",
            "50\n"
          ]
        }
      ]
    }
  ]
}