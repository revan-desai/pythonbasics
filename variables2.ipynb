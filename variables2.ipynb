{
  "nbformat": 4,
  "nbformat_minor": 0,
  "metadata": {
    "colab": {
      "provenance": [],
      "authorship_tag": "ABX9TyMwq5HZesktbMiln55hBum5",
      "include_colab_link": true
    },
    "kernelspec": {
      "name": "python3",
      "display_name": "Python 3"
    },
    "language_info": {
      "name": "python"
    }
  },
  "cells": [
    {
      "cell_type": "markdown",
      "metadata": {
        "id": "view-in-github",
        "colab_type": "text"
      },
      "source": [
        "<a href=\"https://colab.research.google.com/github/revan-desai/pythonbasics/blob/main/variables2.ipynb\" target=\"_parent\"><img src=\"https://colab.research.google.com/assets/colab-badge.svg\" alt=\"Open In Colab\"/></a>"
      ]
    },
    {
      "cell_type": "code",
      "execution_count": null,
      "metadata": {
        "colab": {
          "base_uri": "https://localhost:8080/"
        },
        "id": "t4vo-0KwHdLK",
        "outputId": "ed9e719b-1eca-45c7-8074-58047d79f7b7"
      },
      "outputs": [
        {
          "output_type": "stream",
          "name": "stdout",
          "text": [
            "kaggle250\n"
          ]
        }
      ],
      "source": [
        "x=\"kaggle\"\n",
        "y=250\n",
        "#print(x+y) will throw an error\n",
        "print(x+str(y))"
      ]
    },
    {
      "cell_type": "markdown",
      "source": [
        "##global varibles"
      ],
      "metadata": {
        "id": "fCOcI1MLKQxt"
      }
    },
    {
      "cell_type": "code",
      "source": [
        "x=\"car\"\n",
        "def myfuc1():\n",
        "  x=\"bike\"\n",
        "  print(\"vehicle is \"+x)\n",
        "myfuc1()\n",
        "print(x)\n"
      ],
      "metadata": {
        "colab": {
          "base_uri": "https://localhost:8080/"
        },
        "id": "1WICKYd0J1a5",
        "outputId": "71d3a7e9-8e5e-4cda-9356-66708f986c7e"
      },
      "execution_count": null,
      "outputs": [
        {
          "output_type": "stream",
          "name": "stdout",
          "text": [
            "vehicle is bike\n",
            "car\n"
          ]
        }
      ]
    },
    {
      "cell_type": "code",
      "source": [
        "x=\"car\"\n",
        "def myfuc1():\n",
        "  global x  #observe here\n",
        "  x=\"bike\"\n",
        "  print(\"vehicle is \"+x)\n",
        "myfuc1()\n",
        "print(x)\n"
      ],
      "metadata": {
        "colab": {
          "base_uri": "https://localhost:8080/"
        },
        "id": "M_R9GI0GM-VN",
        "outputId": "11152028-5aa7-4907-8f72-97588d9b9751"
      },
      "execution_count": null,
      "outputs": [
        {
          "output_type": "stream",
          "name": "stdout",
          "text": [
            "vehicle is bike\n",
            "bike\n"
          ]
        }
      ]
    },
    {
      "cell_type": "markdown",
      "source": [
        "##Casting in python"
      ],
      "metadata": {
        "id": "bJu_S7S9e5nt"
      }
    },
    {
      "cell_type": "code",
      "source": [
        "x=5\n",
        "y=str(x)\n",
        "y"
      ],
      "metadata": {
        "colab": {
          "base_uri": "https://localhost:8080/",
          "height": 35
        },
        "id": "T-0L48WCefX1",
        "outputId": "3313a5ad-cd57-42cc-9351-b02a7d2578e7"
      },
      "execution_count": null,
      "outputs": [
        {
          "output_type": "execute_result",
          "data": {
            "text/plain": [
              "'5'"
            ],
            "application/vnd.google.colaboratory.intrinsic+json": {
              "type": "string"
            }
          },
          "metadata": {},
          "execution_count": 1
        }
      ]
    },
    {
      "cell_type": "code",
      "source": [
        "a=\"500\"\n",
        "b=int(a)\n",
        "b"
      ],
      "metadata": {
        "colab": {
          "base_uri": "https://localhost:8080/"
        },
        "id": "g8yFpnTFequM",
        "outputId": "d552b313-f24c-4d27-cf84-56f39fa068f4"
      },
      "execution_count": null,
      "outputs": [
        {
          "output_type": "execute_result",
          "data": {
            "text/plain": [
              "500"
            ]
          },
          "metadata": {},
          "execution_count": 3
        }
      ]
    },
    {
      "cell_type": "code",
      "source": [
        "k=5\n",
        "m=float(k)\n",
        "m"
      ],
      "metadata": {
        "colab": {
          "base_uri": "https://localhost:8080/"
        },
        "id": "uLhU9nKggG9y",
        "outputId": "7b2c5463-22b6-49ee-9df9-3947adf9123e"
      },
      "execution_count": null,
      "outputs": [
        {
          "output_type": "execute_result",
          "data": {
            "text/plain": [
              "5.0"
            ]
          },
          "metadata": {},
          "execution_count": 4
        }
      ]
    },
    {
      "cell_type": "code",
      "source": [
        "c=9+8j\n",
        "#d=int(c)   cannot convert complex number into any other data type\n"
      ],
      "metadata": {
        "id": "NIWHZ6CvgOH1"
      },
      "execution_count": null,
      "outputs": []
    },
    {
      "cell_type": "code",
      "source": [],
      "metadata": {
        "id": "H_HMiiA1glYI"
      },
      "execution_count": null,
      "outputs": []
    }
  ]
}