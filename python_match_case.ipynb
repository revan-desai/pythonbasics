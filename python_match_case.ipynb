{
  "nbformat": 4,
  "nbformat_minor": 0,
  "metadata": {
    "colab": {
      "provenance": [],
      "authorship_tag": "ABX9TyNN7zUoRl4w52I4bUW08NRV",
      "include_colab_link": true
    },
    "kernelspec": {
      "name": "python3",
      "display_name": "Python 3"
    },
    "language_info": {
      "name": "python"
    }
  },
  "cells": [
    {
      "cell_type": "markdown",
      "metadata": {
        "id": "view-in-github",
        "colab_type": "text"
      },
      "source": [
        "<a href=\"https://colab.research.google.com/github/revan-desai/pythonbasics/blob/main/python_match_case.ipynb\" target=\"_parent\"><img src=\"https://colab.research.google.com/assets/colab-badge.svg\" alt=\"Open In Colab\"/></a>"
      ]
    },
    {
      "cell_type": "code",
      "execution_count": 14,
      "metadata": {
        "colab": {
          "base_uri": "https://localhost:8080/"
        },
        "id": "0e5XPq1fmtaI",
        "outputId": "7dff186a-f963-43e7-b0a6-7a8bc11aed38"
      },
      "outputs": [
        {
          "output_type": "stream",
          "name": "stdout",
          "text": [
            "enter value:54\n",
            "y is not 200\n"
          ]
        }
      ],
      "source": [
        "y=int(input('enter value:'))\n",
        "match y:\n",
        "    case 0:\n",
        "      print('y is zero')\n",
        "    case 40:\n",
        "      print('y is 40')\n",
        "    case _ if  y!=200:\n",
        "      print('y is not 200')\n",
        "    case _:\n",
        "      pass\n"
      ]
    }
  ]
}