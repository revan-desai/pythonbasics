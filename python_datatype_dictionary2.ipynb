{
  "nbformat": 4,
  "nbformat_minor": 0,
  "metadata": {
    "colab": {
      "provenance": [],
      "authorship_tag": "ABX9TyN+ZiX4TchR79deM7KB0KEq",
      "include_colab_link": true
    },
    "kernelspec": {
      "name": "python3",
      "display_name": "Python 3"
    },
    "language_info": {
      "name": "python"
    }
  },
  "cells": [
    {
      "cell_type": "markdown",
      "metadata": {
        "id": "view-in-github",
        "colab_type": "text"
      },
      "source": [
        "<a href=\"https://colab.research.google.com/github/revan-desai/pythonbasics/blob/main/python_datatype_dictionary2.ipynb\" target=\"_parent\"><img src=\"https://colab.research.google.com/assets/colab-badge.svg\" alt=\"Open In Colab\"/></a>"
      ]
    },
    {
      "cell_type": "code",
      "execution_count": 25,
      "metadata": {
        "colab": {
          "base_uri": "https://localhost:8080/"
        },
        "id": "ekTGoL6iSFPH",
        "outputId": "4980ed10-2735-4914-838e-8e3e5bb60709"
      },
      "outputs": [
        {
          "output_type": "stream",
          "name": "stdout",
          "text": [
            "dict_keys(['name', 'age', 'result'])\n",
            "dict_values(['john', 25, 'good'])\n",
            "name\n",
            "john\n",
            "age\n",
            "25\n",
            "result\n",
            "good\n"
          ]
        }
      ],
      "source": [
        "dict1={'name':'john','age':25,'result':'good'}\n",
        "\n",
        "print(dict1.keys())\n",
        "\n",
        "print(dict1.values())\n",
        "\n",
        "for k in dict1.keys():\n",
        "  print(k)\n",
        "  print(dict1[k])"
      ]
    },
    {
      "cell_type": "code",
      "source": [
        "dict1={'name':'john','age':25,'result':'good'}\n",
        "\n",
        "for k,v in dict1.items():            # k keys v values\n",
        "  print(k,v)"
      ],
      "metadata": {
        "colab": {
          "base_uri": "https://localhost:8080/"
        },
        "id": "JRbwtbNzgx6n",
        "outputId": "0726bdbf-c08b-4372-ad4b-763f5b01b7c7"
      },
      "execution_count": 46,
      "outputs": [
        {
          "output_type": "stream",
          "name": "stdout",
          "text": [
            "name john\n",
            "age 25\n",
            "result good\n"
          ]
        }
      ]
    },
    {
      "cell_type": "code",
      "source": [
        "for k in dict1.values():\n",
        "  print(k)"
      ],
      "metadata": {
        "colab": {
          "base_uri": "https://localhost:8080/"
        },
        "id": "vFmz1iBncwH1",
        "outputId": "3678a0b5-9bf9-4b54-adba-be410ea12f2b"
      },
      "execution_count": 26,
      "outputs": [
        {
          "output_type": "stream",
          "name": "stdout",
          "text": [
            "john\n",
            "25\n",
            "good\n"
          ]
        }
      ]
    },
    {
      "cell_type": "code",
      "source": [
        "students={'name':['rohan','john','bob'],'age':[25,24,22],'weight':[75,55,65]}\n",
        "\n",
        "print(students.keys())\n",
        "\n",
        "print(students.values())\n",
        "print('\\n')\n",
        "\n",
        "for i in students.keys():\n",
        "  print(i,end=' ')\n",
        "  print(students[i][0])\n",
        "print('\\n')\n",
        "for i in students.keys():\n",
        "  print(i,end=' ')\n",
        "  print(students[i][1])\n",
        "print('\\n')\n",
        "for i in students.keys():\n",
        "  print(i,end=' ')\n",
        "  print(students[i][2])\n"
      ],
      "metadata": {
        "colab": {
          "base_uri": "https://localhost:8080/"
        },
        "id": "TvQGgqBAWI1v",
        "outputId": "4031dc81-055c-4c6c-fe8e-9a502a888743"
      },
      "execution_count": 32,
      "outputs": [
        {
          "output_type": "stream",
          "name": "stdout",
          "text": [
            "dict_keys(['name', 'age', 'weight'])\n",
            "dict_values([['rohan', 'john', 'bob'], [25, 24, 22], [75, 55, 65]])\n",
            "\n",
            "\n",
            "name rohan\n",
            "age 25\n",
            "weight 75\n",
            "\n",
            "\n",
            "name john\n",
            "age 24\n",
            "weight 55\n",
            "\n",
            "\n",
            "name bob\n",
            "age 22\n",
            "weight 65\n"
          ]
        }
      ]
    },
    {
      "cell_type": "markdown",
      "source": [
        "# pop"
      ],
      "metadata": {
        "id": "K9Tg_Doud5sI"
      }
    },
    {
      "cell_type": "code",
      "source": [
        "dict1={'name':'john','age':25,'result':'good'}\n",
        "\n",
        "dict1.popitem()                  # removes last key value pair\n",
        "\n",
        "dict1"
      ],
      "metadata": {
        "colab": {
          "base_uri": "https://localhost:8080/"
        },
        "id": "i8pkqvIoeSBH",
        "outputId": "e4a00fc4-5690-409c-cc9f-30e2890642b8"
      },
      "execution_count": 38,
      "outputs": [
        {
          "output_type": "execute_result",
          "data": {
            "text/plain": [
              "{'name': 'john', 'age': 25}"
            ]
          },
          "metadata": {},
          "execution_count": 38
        }
      ]
    },
    {
      "cell_type": "code",
      "source": [
        "dict1={'name':'john','age':25,'result':'good'}\n",
        "\n",
        "dict1.pop('age')\n",
        "\n",
        "dict1"
      ],
      "metadata": {
        "colab": {
          "base_uri": "https://localhost:8080/"
        },
        "id": "V1vkMDFbd8mS",
        "outputId": "af77d412-c272-4782-ed03-b3db7f0316b5"
      },
      "execution_count": 39,
      "outputs": [
        {
          "output_type": "execute_result",
          "data": {
            "text/plain": [
              "{'name': 'john', 'result': 'good'}"
            ]
          },
          "metadata": {},
          "execution_count": 39
        }
      ]
    },
    {
      "cell_type": "markdown",
      "source": [
        "# clear dictionary"
      ],
      "metadata": {
        "id": "WRrsOjRge9vN"
      }
    },
    {
      "cell_type": "code",
      "source": [
        "dict1={'name':'john','age':25,'result':'good'}\n",
        "\n",
        "dict1.clear()\n",
        "\n",
        "dict1"
      ],
      "metadata": {
        "colab": {
          "base_uri": "https://localhost:8080/"
        },
        "id": "ZRQJGEgRfAr5",
        "outputId": "5cd02fa0-0566-4486-d5c5-c3f33e2d8e58"
      },
      "execution_count": 41,
      "outputs": [
        {
          "output_type": "execute_result",
          "data": {
            "text/plain": [
              "{}"
            ]
          },
          "metadata": {},
          "execution_count": 41
        }
      ]
    },
    {
      "cell_type": "markdown",
      "source": [
        "# delete dictionary"
      ],
      "metadata": {
        "id": "eOfwduxWevwX"
      }
    },
    {
      "cell_type": "code",
      "source": [
        "del dict1\n",
        "\n",
        "#print(dict1)    # throws error because dict1 no longer exists"
      ],
      "metadata": {
        "id": "FAVG0yLleyq-"
      },
      "execution_count": 42,
      "outputs": []
    },
    {
      "cell_type": "markdown",
      "source": [
        "# dictionary comprehension"
      ],
      "metadata": {
        "id": "d92brI-hgOer"
      }
    },
    {
      "cell_type": "code",
      "source": [
        "dict2={x:x**2 for x in range(2,10,2)}\n",
        "\n",
        "print(dict2)"
      ],
      "metadata": {
        "colab": {
          "base_uri": "https://localhost:8080/"
        },
        "id": "MOIGRcZ_gRUC",
        "outputId": "f8aaee38-ffc8-4890-9f01-357890a33d2d"
      },
      "execution_count": 44,
      "outputs": [
        {
          "output_type": "stream",
          "name": "stdout",
          "text": [
            "{2: 4, 4: 16, 6: 36, 8: 64}\n"
          ]
        }
      ]
    },
    {
      "cell_type": "markdown",
      "source": [
        "# sorting dictionary"
      ],
      "metadata": {
        "id": "Q9xEelfegwLH"
      }
    },
    {
      "cell_type": "code",
      "source": [
        "dict3=sorted(dict2)\n",
        "\n",
        "dict3"
      ],
      "metadata": {
        "colab": {
          "base_uri": "https://localhost:8080/"
        },
        "id": "6xrpdXhrhcsK",
        "outputId": "22040ccb-34d2-4e16-fb2f-ad21bdc82ff5"
      },
      "execution_count": 67,
      "outputs": [
        {
          "output_type": "execute_result",
          "data": {
            "text/plain": [
              "[2, 4, 6, 8]"
            ]
          },
          "metadata": {},
          "execution_count": 67
        }
      ]
    },
    {
      "cell_type": "code",
      "source": [
        "dict3=sorted(dict2,reverse=True)\n",
        "\n",
        "print(dict3)"
      ],
      "metadata": {
        "colab": {
          "base_uri": "https://localhost:8080/"
        },
        "id": "f2wbxNiBhy9q",
        "outputId": "dfbcc85c-5a8c-4006-b1a3-2b38781bbfab"
      },
      "execution_count": 55,
      "outputs": [
        {
          "output_type": "stream",
          "name": "stdout",
          "text": [
            "[8, 6, 4, 2]\n"
          ]
        }
      ]
    }
  ]
}