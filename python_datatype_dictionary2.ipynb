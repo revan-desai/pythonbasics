{
  "nbformat": 4,
  "nbformat_minor": 0,
  "metadata": {
    "colab": {
      "provenance": [],
      "authorship_tag": "ABX9TyMBC9c454ekPbSpz3GwkAv1",
      "include_colab_link": true
    },
    "kernelspec": {
      "name": "python3",
      "display_name": "Python 3"
    },
    "language_info": {
      "name": "python"
    }
  },
  "cells": [
    {
      "cell_type": "markdown",
      "metadata": {
        "id": "view-in-github",
        "colab_type": "text"
      },
      "source": [
        "<a href=\"https://colab.research.google.com/github/revan-desai/pythonbasics/blob/main/python_datatype_dictionary2.ipynb\" target=\"_parent\"><img src=\"https://colab.research.google.com/assets/colab-badge.svg\" alt=\"Open In Colab\"/></a>"
      ]
    },
    {
      "cell_type": "code",
      "execution_count": 25,
      "metadata": {
        "colab": {
          "base_uri": "https://localhost:8080/"
        },
        "id": "ekTGoL6iSFPH",
        "outputId": "4980ed10-2735-4914-838e-8e3e5bb60709"
      },
      "outputs": [
        {
          "output_type": "stream",
          "name": "stdout",
          "text": [
            "dict_keys(['name', 'age', 'result'])\n",
            "dict_values(['john', 25, 'good'])\n",
            "name\n",
            "john\n",
            "age\n",
            "25\n",
            "result\n",
            "good\n"
          ]
        }
      ],
      "source": [
        "dict1={'name':'john','age':25,'result':'good'}\n",
        "\n",
        "print(dict1.keys())\n",
        "\n",
        "print(dict1.values())\n",
        "\n",
        "for k in dict1.keys():\n",
        "  print(k)\n",
        "  print(dict1[k])"
      ]
    },
    {
      "cell_type": "code",
      "source": [
        "for k in dict1.values():\n",
        "  print(k)"
      ],
      "metadata": {
        "colab": {
          "base_uri": "https://localhost:8080/"
        },
        "id": "vFmz1iBncwH1",
        "outputId": "3678a0b5-9bf9-4b54-adba-be410ea12f2b"
      },
      "execution_count": 26,
      "outputs": [
        {
          "output_type": "stream",
          "name": "stdout",
          "text": [
            "john\n",
            "25\n",
            "good\n"
          ]
        }
      ]
    },
    {
      "cell_type": "code",
      "source": [
        "students={'name':['rohan','john','bob'],'age':[25,24,22],'weight':[75,55,65]}\n",
        "\n",
        "print(students.keys())\n",
        "\n",
        "print(students.values())\n",
        "print('\\n')\n",
        "\n",
        "for i in students.keys():\n",
        "  print(i,end=' ')\n",
        "  print(students[i][0])\n",
        "print('\\n')\n",
        "for i in students.keys():\n",
        "  print(i,end=' ')\n",
        "  print(students[i][1])\n",
        "print('\\n')\n",
        "for i in students.keys():\n",
        "  print(i,end=' ')\n",
        "  print(students[i][2])\n"
      ],
      "metadata": {
        "colab": {
          "base_uri": "https://localhost:8080/"
        },
        "id": "TvQGgqBAWI1v",
        "outputId": "4031dc81-055c-4c6c-fe8e-9a502a888743"
      },
      "execution_count": 32,
      "outputs": [
        {
          "output_type": "stream",
          "name": "stdout",
          "text": [
            "dict_keys(['name', 'age', 'weight'])\n",
            "dict_values([['rohan', 'john', 'bob'], [25, 24, 22], [75, 55, 65]])\n",
            "\n",
            "\n",
            "name rohan\n",
            "age 25\n",
            "weight 75\n",
            "\n",
            "\n",
            "name john\n",
            "age 24\n",
            "weight 55\n",
            "\n",
            "\n",
            "name bob\n",
            "age 22\n",
            "weight 65\n"
          ]
        }
      ]
    }
  ]
}