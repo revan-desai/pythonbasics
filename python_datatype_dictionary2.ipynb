{
  "nbformat": 4,
  "nbformat_minor": 0,
  "metadata": {
    "colab": {
      "provenance": [],
      "authorship_tag": "ABX9TyMJQi4X7rUbBHeI1EiQL+pW",
      "include_colab_link": true
    },
    "kernelspec": {
      "name": "python3",
      "display_name": "Python 3"
    },
    "language_info": {
      "name": "python"
    }
  },
  "cells": [
    {
      "cell_type": "markdown",
      "metadata": {
        "id": "view-in-github",
        "colab_type": "text"
      },
      "source": [
        "<a href=\"https://colab.research.google.com/github/revan-desai/pythonbasics/blob/main/python_datatype_dictionary2.ipynb\" target=\"_parent\"><img src=\"https://colab.research.google.com/assets/colab-badge.svg\" alt=\"Open In Colab\"/></a>"
      ]
    },
    {
      "cell_type": "code",
      "execution_count": 2,
      "metadata": {
        "colab": {
          "base_uri": "https://localhost:8080/"
        },
        "id": "ekTGoL6iSFPH",
        "outputId": "d1b925d8-e5e1-4593-c660-791fc9006b15"
      },
      "outputs": [
        {
          "output_type": "stream",
          "name": "stdout",
          "text": [
            "dict_keys(['name', 'age', 'result'])\n",
            "dict_values(['john', 25, 'good'])\n",
            "name\n",
            "john\n",
            "age\n",
            "25\n",
            "result\n",
            "good\n"
          ]
        }
      ],
      "source": [
        "dict1={'name':'john','age':25,'result':'good'}\n",
        "\n",
        "print(dict1.keys())\n",
        "\n",
        "print(dict1.values())\n",
        "\n",
        "for k in dict1.keys():\n",
        "  print(k)\n",
        "  print(dict1[k])\n"
      ]
    },
    {
      "cell_type": "code",
      "source": [
        "\n",
        "\n"
      ],
      "metadata": {
        "colab": {
          "base_uri": "https://localhost:8080/"
        },
        "id": "f6b4CGzbU7t3",
        "outputId": "9da4a2c8-b9ef-419a-97c0-85386bd4ad1f"
      },
      "execution_count": 3,
      "outputs": [
        {
          "output_type": "stream",
          "name": "stdout",
          "text": [
            "{'python': 1, 'is': 2, 'very': 2, 'easy': 1, 'programming': 1, 'language': 1, 'not': 1, 'it': 1}\n"
          ]
        }
      ]
    }
  ]
}