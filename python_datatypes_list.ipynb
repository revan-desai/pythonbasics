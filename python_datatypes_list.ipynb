{
  "nbformat": 4,
  "nbformat_minor": 0,
  "metadata": {
    "colab": {
      "provenance": [],
      "authorship_tag": "ABX9TyPI559wXeyh2TbIfUEYwgb8",
      "include_colab_link": true
    },
    "kernelspec": {
      "name": "python3",
      "display_name": "Python 3"
    },
    "language_info": {
      "name": "python"
    }
  },
  "cells": [
    {
      "cell_type": "markdown",
      "metadata": {
        "id": "view-in-github",
        "colab_type": "text"
      },
      "source": [
        "<a href=\"https://colab.research.google.com/github/revan-desai/pythonbasics/blob/main/python_datatypes_list.ipynb\" target=\"_parent\"><img src=\"https://colab.research.google.com/assets/colab-badge.svg\" alt=\"Open In Colab\"/></a>"
      ]
    },
    {
      "cell_type": "markdown",
      "source": [
        "#list in python\n",
        "Lists are used to store multiple items in a single variable.\n",
        "\n",
        "Lists are one of 4 built-in data types in Python used to store collections of data, the other 3 are Tuple, Set, and Dictionary, all with different qualities and usage.\n",
        "\n",
        "Insertion order is maintained in list\n",
        "\n",
        "List stores Heterogenous data.\n",
        "\n",
        "List is mutable\n",
        "\n",
        "List is growable in nature\n",
        "\n",
        "List allow duplicate values\n"
      ],
      "metadata": {
        "id": "MVaj4JOoqzjb"
      }
    },
    {
      "cell_type": "code",
      "source": [
        "list1=[\"linear\",84.63,47,23,True,\"g\"]\n",
        "list1.append(96)  #append to add new element to list\n",
        "list1.remove(47)  #to remove element from list\n",
        "list1.pop(1)\n",
        "print(list1)\n",
        "print(list1[1])   #to get the particular element in list\n",
        "list1.insert(2,False)   # aapend wont work hence use insert\n",
        "print(list1)\n",
        "list1.clear()     # ro clear a list\n",
        "list1"
      ],
      "metadata": {
        "colab": {
          "base_uri": "https://localhost:8080/"
        },
        "id": "7KJYgApUo-qi",
        "outputId": "96c27ebd-69c1-4b19-d5f7-7aa2654d5d4f"
      },
      "execution_count": null,
      "outputs": [
        {
          "output_type": "stream",
          "name": "stdout",
          "text": [
            "['linear', 23, True, 'g', 96]\n",
            "23\n",
            "['linear', 23, False, True, 'g', 96]\n"
          ]
        },
        {
          "output_type": "execute_result",
          "data": {
            "text/plain": [
              "[]"
            ]
          },
          "metadata": {},
          "execution_count": 1
        }
      ]
    },
    {
      "cell_type": "code",
      "source": [
        "vehicles=[\"car\",\"bike\",\"bus\",\"train\",\"truck\"]\n",
        "person=[\"mercedez\",\"bmw\",\"tata\",\"hyundai\"]\n",
        "vehicles.extend(person)\n",
        "print(vehicles)"
      ],
      "metadata": {
        "colab": {
          "base_uri": "https://localhost:8080/"
        },
        "id": "xnagC6R8rgel",
        "outputId": "d5fa7272-da47-4ae5-f958-64d0d17b2c48"
      },
      "execution_count": null,
      "outputs": [
        {
          "output_type": "stream",
          "name": "stdout",
          "text": [
            "['car', 'bike', 'bus', 'train', 'truck', 'mercedez', 'bmw', 'tata', 'hyundai']\n"
          ]
        }
      ]
    },
    {
      "cell_type": "code",
      "source": [
        "vehicles=[\"car\",\"bike\",\"bus\",\"train\",\"truck\"]\n",
        "vehicles.pop(1)\n",
        "print(vehicles)\n",
        "print(vehicles[1:4])"
      ],
      "metadata": {
        "colab": {
          "base_uri": "https://localhost:8080/"
        },
        "id": "54vck7YTpkF3",
        "outputId": "b36d9504-7be3-4917-cb2c-cb23ec6716a3"
      },
      "execution_count": null,
      "outputs": [
        {
          "output_type": "stream",
          "name": "stdout",
          "text": [
            "['car', 'bus', 'train', 'truck']\n",
            "['bus', 'train', 'truck']\n"
          ]
        }
      ]
    },
    {
      "cell_type": "code",
      "source": [
        "print(vehicles[-1])"
      ],
      "metadata": {
        "colab": {
          "base_uri": "https://localhost:8080/"
        },
        "id": "sbl9x_u-qFUm",
        "outputId": "00981866-ee35-4b05-fa4f-0cc77e11cbb0"
      },
      "execution_count": null,
      "outputs": [
        {
          "output_type": "stream",
          "name": "stdout",
          "text": [
            "truck\n"
          ]
        }
      ]
    },
    {
      "cell_type": "code",
      "source": [
        "for i in range(len(vehicles)):\n",
        " print(vehicles[i])\n"
      ],
      "metadata": {
        "colab": {
          "base_uri": "https://localhost:8080/"
        },
        "id": "GnvCgskUqPHA",
        "outputId": "6f988966-e643-4683-b7ca-df009b44f855"
      },
      "execution_count": null,
      "outputs": [
        {
          "output_type": "stream",
          "name": "stdout",
          "text": [
            "car\n",
            "bike\n",
            "bus\n",
            "train\n",
            "truck\n"
          ]
        }
      ]
    },
    {
      "cell_type": "code",
      "source": [
        "for i in vehicles:\n",
        "  print(i)"
      ],
      "metadata": {
        "colab": {
          "base_uri": "https://localhost:8080/"
        },
        "id": "QYvkcBsAqiUZ",
        "outputId": "c322412a-92da-483f-bf77-f6ebf2570bf6"
      },
      "execution_count": null,
      "outputs": [
        {
          "output_type": "stream",
          "name": "stdout",
          "text": [
            "car\n",
            "bike\n",
            "bus\n",
            "train\n",
            "truck\n"
          ]
        }
      ]
    },
    {
      "cell_type": "code",
      "source": [
        "vehicles=[\"car\",\"bike\",\"bus\",\"train\",\"truck\"]\n",
        "i=0\n",
        "while i<len(vehicles):\n",
        "   print(vehicles[i])\n",
        "   i+=1"
      ],
      "metadata": {
        "id": "-YZPA2Szq4oK",
        "colab": {
          "base_uri": "https://localhost:8080/"
        },
        "outputId": "aa7852de-ca48-4876-f248-cb3c2ba9a46e"
      },
      "execution_count": null,
      "outputs": [
        {
          "output_type": "stream",
          "name": "stdout",
          "text": [
            "car\n",
            "bike\n",
            "bus\n",
            "train\n",
            "truck\n"
          ]
        }
      ]
    },
    {
      "cell_type": "code",
      "source": [
        "list1=eval(input())\n",
        "print(list1)"
      ],
      "metadata": {
        "id": "qMf3HL5U9Sfn"
      },
      "execution_count": null,
      "outputs": []
    },
    {
      "cell_type": "markdown",
      "source": [
        "#List comprehension"
      ],
      "metadata": {
        "id": "gd8n7ytuhct1"
      }
    },
    {
      "cell_type": "code",
      "source": [
        "s=[x*x for x in range(1,10)]\n",
        "print(s)\n",
        "\n",
        "m=[x for x in s if x%2==0]\n",
        "m\n"
      ],
      "metadata": {
        "colab": {
          "base_uri": "https://localhost:8080/"
        },
        "id": "ZJbbFgfyRgHF",
        "outputId": "2cf1d95e-b3e2-4de5-d043-30741068fe61"
      },
      "execution_count": 2,
      "outputs": [
        {
          "output_type": "stream",
          "name": "stdout",
          "text": [
            "[1, 4, 9, 16, 25, 36, 49, 64, 81]\n"
          ]
        },
        {
          "output_type": "execute_result",
          "data": {
            "text/plain": [
              "[4, 16, 36, 64]"
            ]
          },
          "metadata": {},
          "execution_count": 2
        }
      ]
    },
    {
      "cell_type": "code",
      "source": [
        "vehicles=[\"car\",\"bike\",\"bus\",\"train\",\"truck\"]\n",
        "newlist=[]\n",
        "for i in vehicles:\n",
        "   if \"a\" in i:\n",
        "    newlist.append(i)\n",
        "print(newlist)"
      ],
      "metadata": {
        "colab": {
          "base_uri": "https://localhost:8080/"
        },
        "id": "qOgNFT9lhb5X",
        "outputId": "b40a24d2-c082-41e8-cfe7-74b7042d8557"
      },
      "execution_count": null,
      "outputs": [
        {
          "output_type": "stream",
          "name": "stdout",
          "text": [
            "['car', 'train']\n"
          ]
        }
      ]
    },
    {
      "cell_type": "markdown",
      "source": [
        "#reverse a list"
      ],
      "metadata": {
        "id": "Ae1gyNXRbJ-V"
      }
    },
    {
      "cell_type": "code",
      "source": [
        "list3=[\"M\",\"K\",\"A\",\"Y\",\"L\"]\n",
        "list3.sort()\n",
        "print(list3)\n",
        "list3.sort(reverse=True)\n",
        "list3"
      ],
      "metadata": {
        "id": "EFB7l27GbIZG",
        "outputId": "af6e03b4-d216-4780-ff30-6cd688e6f791",
        "colab": {
          "base_uri": "https://localhost:8080/"
        }
      },
      "execution_count": 10,
      "outputs": [
        {
          "output_type": "stream",
          "name": "stdout",
          "text": [
            "['A', 'K', 'L', 'M', 'Y']\n"
          ]
        },
        {
          "output_type": "execute_result",
          "data": {
            "text/plain": [
              "['Y', 'M', 'L', 'K', 'A']"
            ]
          },
          "metadata": {},
          "execution_count": 10
        }
      ]
    },
    {
      "cell_type": "markdown",
      "source": [
        "#nested list"
      ],
      "metadata": {
        "id": "nsOBo_TtShTm"
      }
    },
    {
      "cell_type": "code",
      "source": [
        "n=[10,30,50,[11,22,33]]\n",
        "n[1][1]"
      ],
      "metadata": {
        "id": "NRSLjnTaSlTD",
        "outputId": "9cd19aba-85e3-48d8-ca6e-e2cc0bdc8f67",
        "colab": {
          "base_uri": "https://localhost:8080/",
          "height": 183
        }
      },
      "execution_count": 6,
      "outputs": [
        {
          "output_type": "error",
          "ename": "TypeError",
          "evalue": "ignored",
          "traceback": [
            "\u001b[0;31m---------------------------------------------------------------------------\u001b[0m",
            "\u001b[0;31mTypeError\u001b[0m                                 Traceback (most recent call last)",
            "\u001b[0;32m<ipython-input-6-8076171e82f5>\u001b[0m in \u001b[0;36m<cell line: 2>\u001b[0;34m()\u001b[0m\n\u001b[1;32m      1\u001b[0m \u001b[0mn\u001b[0m\u001b[0;34m=\u001b[0m\u001b[0;34m[\u001b[0m\u001b[0;36m10\u001b[0m\u001b[0;34m,\u001b[0m\u001b[0;36m30\u001b[0m\u001b[0;34m,\u001b[0m\u001b[0;36m50\u001b[0m\u001b[0;34m,\u001b[0m\u001b[0;34m[\u001b[0m\u001b[0;36m11\u001b[0m\u001b[0;34m,\u001b[0m\u001b[0;36m22\u001b[0m\u001b[0;34m,\u001b[0m\u001b[0;36m33\u001b[0m\u001b[0;34m]\u001b[0m\u001b[0;34m]\u001b[0m\u001b[0;34m\u001b[0m\u001b[0;34m\u001b[0m\u001b[0m\n\u001b[0;32m----> 2\u001b[0;31m \u001b[0mn\u001b[0m\u001b[0;34m[\u001b[0m\u001b[0;36m1\u001b[0m\u001b[0;34m]\u001b[0m\u001b[0;34m[\u001b[0m\u001b[0;36m1\u001b[0m\u001b[0;34m]\u001b[0m\u001b[0;34m\u001b[0m\u001b[0;34m\u001b[0m\u001b[0m\n\u001b[0m",
            "\u001b[0;31mTypeError\u001b[0m: 'int' object is not subscriptable"
          ]
        }
      ]
    }
  ]
}