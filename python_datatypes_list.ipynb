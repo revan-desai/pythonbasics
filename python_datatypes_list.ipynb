{
  "nbformat": 4,
  "nbformat_minor": 0,
  "metadata": {
    "colab": {
      "provenance": [],
      "authorship_tag": "ABX9TyOYmOHRjvshVOtvmxzvxszA",
      "include_colab_link": true
    },
    "kernelspec": {
      "name": "python3",
      "display_name": "Python 3"
    },
    "language_info": {
      "name": "python"
    }
  },
  "cells": [
    {
      "cell_type": "markdown",
      "metadata": {
        "id": "view-in-github",
        "colab_type": "text"
      },
      "source": [
        "<a href=\"https://colab.research.google.com/github/revan-desai/pythonbasics/blob/main/python_datatypes_list.ipynb\" target=\"_parent\"><img src=\"https://colab.research.google.com/assets/colab-badge.svg\" alt=\"Open In Colab\"/></a>"
      ]
    },
    {
      "cell_type": "markdown",
      "source": [
        "#list in python\n",
        "Lists are used to store multiple items in a single variable.\n",
        "\n",
        "Lists are one of 4 built-in data types in Python used to store collections of data, the other 3 are Tuple, Set, and Dictionary, all with different qualities and usage.\n",
        "\n",
        "Insertion order is maintained in list\n",
        "\n",
        "List stores Heterogenous data.\n",
        "\n",
        "List is mutable\n",
        "\n",
        "List is growable in nature\n",
        "\n",
        "List allow duplicate values\n"
      ],
      "metadata": {
        "id": "MVaj4JOoqzjb"
      }
    },
    {
      "cell_type": "code",
      "source": [
        "list1=[\"linear\",84.63,47,23,True,\"g\"]\n",
        "list1.append(96)  #append to add new element to list\n",
        "list1.remove(47)  #to remove element from list\n",
        "list1.pop(1)\n",
        "print(list1)\n",
        "print(list1[1])   #to get the particular element in list\n",
        "list1.insert(2,False)   # aapend wont work hence use insert\n",
        "print(list1)\n",
        "list1.clear()     # ro clear a list\n",
        "list1"
      ],
      "metadata": {
        "colab": {
          "base_uri": "https://localhost:8080/"
        },
        "id": "7KJYgApUo-qi",
        "outputId": "96c27ebd-69c1-4b19-d5f7-7aa2654d5d4f"
      },
      "execution_count": null,
      "outputs": [
        {
          "output_type": "stream",
          "name": "stdout",
          "text": [
            "['linear', 23, True, 'g', 96]\n",
            "23\n",
            "['linear', 23, False, True, 'g', 96]\n"
          ]
        },
        {
          "output_type": "execute_result",
          "data": {
            "text/plain": [
              "[]"
            ]
          },
          "metadata": {},
          "execution_count": 1
        }
      ]
    },
    {
      "cell_type": "code",
      "source": [
        "vehicles=[\"car\",\"bike\",\"bus\",\"train\",\"truck\"]\n",
        "person=[\"mercedez\",\"bmw\",\"tata\",\"hyundai\"]\n",
        "vehicles.extend(person)\n",
        "print(vehicles)"
      ],
      "metadata": {
        "colab": {
          "base_uri": "https://localhost:8080/"
        },
        "id": "xnagC6R8rgel",
        "outputId": "d5fa7272-da47-4ae5-f958-64d0d17b2c48"
      },
      "execution_count": null,
      "outputs": [
        {
          "output_type": "stream",
          "name": "stdout",
          "text": [
            "['car', 'bike', 'bus', 'train', 'truck', 'mercedez', 'bmw', 'tata', 'hyundai']\n"
          ]
        }
      ]
    },
    {
      "cell_type": "code",
      "source": [
        "vehicles=[\"car\",\"bike\",\"bus\",\"train\",\"truck\"]\n",
        "vehicles.pop(1)\n",
        "print(vehicles)\n",
        "print(vehicles[1:4])"
      ],
      "metadata": {
        "colab": {
          "base_uri": "https://localhost:8080/"
        },
        "id": "54vck7YTpkF3",
        "outputId": "b36d9504-7be3-4917-cb2c-cb23ec6716a3"
      },
      "execution_count": null,
      "outputs": [
        {
          "output_type": "stream",
          "name": "stdout",
          "text": [
            "['car', 'bus', 'train', 'truck']\n",
            "['bus', 'train', 'truck']\n"
          ]
        }
      ]
    },
    {
      "cell_type": "code",
      "source": [
        "print(vehicles[-1])"
      ],
      "metadata": {
        "colab": {
          "base_uri": "https://localhost:8080/"
        },
        "id": "sbl9x_u-qFUm",
        "outputId": "00981866-ee35-4b05-fa4f-0cc77e11cbb0"
      },
      "execution_count": null,
      "outputs": [
        {
          "output_type": "stream",
          "name": "stdout",
          "text": [
            "truck\n"
          ]
        }
      ]
    },
    {
      "cell_type": "markdown",
      "source": [
        "#mathematical operation in list"
      ],
      "metadata": {
        "id": "YXTiDVF7eh4x"
      }
    },
    {
      "cell_type": "code",
      "source": [
        "a=[11,22,33]\n",
        "b=[87,100,69]\n",
        "print(b+a)   #only + operand is supported (- * /) doesnt support\n",
        "h=a*3\n",
        "print(h)"
      ],
      "metadata": {
        "colab": {
          "base_uri": "https://localhost:8080/"
        },
        "id": "jmnjjNXGemOX",
        "outputId": "a4ed2b2a-1644-4261-8d69-d3049b01f28c"
      },
      "execution_count": 17,
      "outputs": [
        {
          "output_type": "stream",
          "name": "stdout",
          "text": [
            "[87, 100, 69, 11, 22, 33]\n",
            "[11, 22, 33, 11, 22, 33, 11, 22, 33]\n"
          ]
        }
      ]
    },
    {
      "cell_type": "code",
      "source": [
        "for i in range(len(vehicles)):\n",
        " print(vehicles[i])\n"
      ],
      "metadata": {
        "colab": {
          "base_uri": "https://localhost:8080/"
        },
        "id": "GnvCgskUqPHA",
        "outputId": "6f988966-e643-4683-b7ca-df009b44f855"
      },
      "execution_count": null,
      "outputs": [
        {
          "output_type": "stream",
          "name": "stdout",
          "text": [
            "car\n",
            "bike\n",
            "bus\n",
            "train\n",
            "truck\n"
          ]
        }
      ]
    },
    {
      "cell_type": "code",
      "source": [
        "for i in vehicles:\n",
        "  print(i)"
      ],
      "metadata": {
        "colab": {
          "base_uri": "https://localhost:8080/"
        },
        "id": "QYvkcBsAqiUZ",
        "outputId": "c322412a-92da-483f-bf77-f6ebf2570bf6"
      },
      "execution_count": null,
      "outputs": [
        {
          "output_type": "stream",
          "name": "stdout",
          "text": [
            "car\n",
            "bike\n",
            "bus\n",
            "train\n",
            "truck\n"
          ]
        }
      ]
    },
    {
      "cell_type": "code",
      "source": [
        "list1=eval(input())\n",
        "print(list1)"
      ],
      "metadata": {
        "id": "qMf3HL5U9Sfn",
        "colab": {
          "base_uri": "https://localhost:8080/"
        },
        "outputId": "20f845be-1851-403a-ded0-66098efccea9"
      },
      "execution_count": 49,
      "outputs": [
        {
          "output_type": "stream",
          "name": "stdout",
          "text": [
            "5,96,True\n",
            "(5, 96, True)\n"
          ]
        }
      ]
    },
    {
      "cell_type": "code",
      "source": [
        "vehicles=[\"car\",\"bike\",\"bus\",\"train\",\"truck\"]\n",
        "i=0\n",
        "while i<len(vehicles):\n",
        "   print(vehicles[i])\n",
        "   i+=1"
      ],
      "metadata": {
        "id": "7rSofU1ykSbv"
      },
      "execution_count": null,
      "outputs": []
    },
    {
      "cell_type": "markdown",
      "source": [
        "#List comprehension"
      ],
      "metadata": {
        "id": "gd8n7ytuhct1"
      }
    },
    {
      "cell_type": "code",
      "source": [
        "s=[x*x for x in range(1,10)]\n",
        "print(s)\n",
        "\n",
        "m=[x for x in s if x%2==0]\n",
        "m\n"
      ],
      "metadata": {
        "colab": {
          "base_uri": "https://localhost:8080/"
        },
        "id": "ZJbbFgfyRgHF",
        "outputId": "2cf1d95e-b3e2-4de5-d043-30741068fe61"
      },
      "execution_count": 2,
      "outputs": [
        {
          "output_type": "stream",
          "name": "stdout",
          "text": [
            "[1, 4, 9, 16, 25, 36, 49, 64, 81]\n"
          ]
        },
        {
          "output_type": "execute_result",
          "data": {
            "text/plain": [
              "[4, 16, 36, 64]"
            ]
          },
          "metadata": {},
          "execution_count": 2
        }
      ]
    },
    {
      "cell_type": "code",
      "source": [
        "vehicles=[\"car\",\"bike\",\"bus\",\"train\",\"truck\"]\n",
        "newlist=[]\n",
        "for i in vehicles:\n",
        "   if \"a\" in i:\n",
        "    newlist.append(i)\n",
        "print(newlist)"
      ],
      "metadata": {
        "colab": {
          "base_uri": "https://localhost:8080/"
        },
        "id": "qOgNFT9lhb5X",
        "outputId": "b40a24d2-c082-41e8-cfe7-74b7042d8557"
      },
      "execution_count": null,
      "outputs": [
        {
          "output_type": "stream",
          "name": "stdout",
          "text": [
            "['car', 'train']\n"
          ]
        }
      ]
    },
    {
      "cell_type": "markdown",
      "source": [
        "#reverse a list"
      ],
      "metadata": {
        "id": "Ae1gyNXRbJ-V"
      }
    },
    {
      "cell_type": "code",
      "source": [
        "list3=[\"M\",\"K\",\"A\",\"Y\",\"L\"]\n",
        "list3.sort()\n",
        "print(list3)\n",
        "list3.sort(reverse=True)\n",
        "list3"
      ],
      "metadata": {
        "colab": {
          "base_uri": "https://localhost:8080/"
        },
        "id": "EFB7l27GbIZG",
        "outputId": "af6e03b4-d216-4780-ff30-6cd688e6f791"
      },
      "execution_count": 10,
      "outputs": [
        {
          "output_type": "stream",
          "name": "stdout",
          "text": [
            "['A', 'K', 'L', 'M', 'Y']\n"
          ]
        },
        {
          "output_type": "execute_result",
          "data": {
            "text/plain": [
              "['Y', 'M', 'L', 'K', 'A']"
            ]
          },
          "metadata": {},
          "execution_count": 10
        }
      ]
    },
    {
      "cell_type": "markdown",
      "source": [
        "#Aliasing and cloning of list"
      ],
      "metadata": {
        "id": "WsdJnk5DcK6n"
      }
    },
    {
      "cell_type": "code",
      "source": [
        "x=[\"M\",\"K\",\"A\",\"Y\",\"L\"]\n",
        "y=x\n",
        "y[1]=777\n",
        "print(x)    # even though we have not made any changes to x ,x is getting changed this is aliasing\n",
        "print(y)"
      ],
      "metadata": {
        "colab": {
          "base_uri": "https://localhost:8080/"
        },
        "id": "hm5i1rgfcOhu",
        "outputId": "c326450f-7668-4f0e-f558-e689a50a06a7"
      },
      "execution_count": 14,
      "outputs": [
        {
          "output_type": "stream",
          "name": "stdout",
          "text": [
            "['M', 777, 'A', 'Y', 'L']\n",
            "['M', 777, 'A', 'Y', 'L']\n"
          ]
        }
      ]
    },
    {
      "cell_type": "markdown",
      "source": [
        "#Cloning of list"
      ],
      "metadata": {
        "id": "7spbe9f2dsrG"
      }
    },
    {
      "cell_type": "code",
      "source": [
        "t=[\"tea\",\"coffee\",\"fanta\",8999,False]\n",
        "p=t.copy()   #using copy function\n",
        "p"
      ],
      "metadata": {
        "colab": {
          "base_uri": "https://localhost:8080/"
        },
        "id": "0EvLZobpdT8C",
        "outputId": "a48b1295-8098-4a11-b912-b8f1af92fe80"
      },
      "execution_count": 4,
      "outputs": [
        {
          "output_type": "execute_result",
          "data": {
            "text/plain": [
              "['tea', 'coffee', 'fanta', 8999, False]"
            ]
          },
          "metadata": {},
          "execution_count": 4
        }
      ]
    },
    {
      "cell_type": "code",
      "source": [
        "t1=[\"tea\",\"coffee\",\"fanta\",8999,False]\n",
        "p1=t1[:] #using slicing operator\n",
        "p2=t1[::]\n",
        "print(p1)\n",
        "print(p2)"
      ],
      "metadata": {
        "colab": {
          "base_uri": "https://localhost:8080/"
        },
        "id": "epyk8UkDdyH6",
        "outputId": "7eb4830c-4daf-4648-80d6-6270f50bcc4a"
      },
      "execution_count": 33,
      "outputs": [
        {
          "output_type": "stream",
          "name": "stdout",
          "text": [
            "['tea', 'coffee', 'fanta', 8999, False]\n",
            "['tea', 'coffee', 'fanta', 8999, False]\n"
          ]
        }
      ]
    },
    {
      "cell_type": "markdown",
      "source": [
        "#remove Vs pop   function in list"
      ],
      "metadata": {
        "id": "nIqQKjVAfuk2"
      }
    },
    {
      "cell_type": "code",
      "source": [
        "t1=[\"tea\",\"coffee\",\"fanta\",8999,False]\n",
        "t1.remove(8999)     # remove function doesnt return anything it just removes that value\n",
        "print(t1)\n",
        "q=t1.pop(2)         # pop function accepts index as an argument ,then  remove  and returns the value\n",
        "print(q)\n",
        "print(t1)"
      ],
      "metadata": {
        "colab": {
          "base_uri": "https://localhost:8080/"
        },
        "id": "hgPx5hpBftz7",
        "outputId": "736aa3d5-4347-4f94-d71c-0797730d3b47"
      },
      "execution_count": 45,
      "outputs": [
        {
          "output_type": "stream",
          "name": "stdout",
          "text": [
            "['tea', 'coffee', 'fanta', False]\n",
            "fanta\n",
            "['tea', 'coffee', False]\n"
          ]
        }
      ]
    },
    {
      "cell_type": "markdown",
      "source": [
        "#clear function in list"
      ],
      "metadata": {
        "id": "MQRH5rzjh_pa"
      }
    },
    {
      "cell_type": "code",
      "source": [
        "t1=[\"tea\",\"coffee\",\"fanta\",8999,False]\n",
        "t1.clear()\n",
        "t1"
      ],
      "metadata": {
        "colab": {
          "base_uri": "https://localhost:8080/"
        },
        "id": "9_cDAtsHiFEk",
        "outputId": "9869a140-6b7a-4c35-a122-863ffbc69d06"
      },
      "execution_count": 46,
      "outputs": [
        {
          "output_type": "execute_result",
          "data": {
            "text/plain": [
              "[]"
            ]
          },
          "metadata": {},
          "execution_count": 46
        }
      ]
    },
    {
      "cell_type": "markdown",
      "source": [
        "#nested list"
      ],
      "metadata": {
        "id": "X67v8Ih5hw-A"
      }
    },
    {
      "cell_type": "code",
      "source": [],
      "metadata": {
        "id": "Ypkp0E5ohwaB"
      },
      "execution_count": null,
      "outputs": []
    }
  ]
}