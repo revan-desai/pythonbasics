{
  "nbformat": 4,
  "nbformat_minor": 0,
  "metadata": {
    "colab": {
      "provenance": [],
      "authorship_tag": "ABX9TyORGmySNI1JtMPDLxCg6y6Q",
      "include_colab_link": true
    },
    "kernelspec": {
      "name": "python3",
      "display_name": "Python 3"
    },
    "language_info": {
      "name": "python"
    }
  },
  "cells": [
    {
      "cell_type": "markdown",
      "metadata": {
        "id": "view-in-github",
        "colab_type": "text"
      },
      "source": [
        "<a href=\"https://colab.research.google.com/github/revan-desai/pythonbasics/blob/main/python_datatypes_list.ipynb\" target=\"_parent\"><img src=\"https://colab.research.google.com/assets/colab-badge.svg\" alt=\"Open In Colab\"/></a>"
      ]
    },
    {
      "cell_type": "markdown",
      "source": [
        "#list in python\n",
        "Lists are used to store multiple items in a single variable.\n",
        "\n",
        "Lists are one of 4 built-in data types in Python used to store collections of data, the other 3 are Tuple, Set, and Dictionary, all with different qualities and usage.\n",
        "\n",
        "Insertion order is maintained in list\n",
        "\n",
        "List stores Heterogenous data.\n",
        "\n",
        "List is mutable\n",
        "\n",
        "List is growable in nature\n",
        "\n",
        "List allow duplicate values\n"
      ],
      "metadata": {
        "id": "MVaj4JOoqzjb"
      }
    },
    {
      "cell_type": "code",
      "source": [
        "list1=[\"linear\",84.63,47,23,True,\"g\"]\n",
        "list1.append(96)  #append to add new element to list\n",
        "list1.remove(47)  #to remove element from list\n",
        "list1.pop(1)\n",
        "print(list1)\n",
        "print(list1[1])   #to get the particular element in list\n",
        "list1.insert(2,False)   # aapend wont work hence use insert\n",
        "print(list1)\n",
        "list1.clear()     # ro clear a list\n",
        "list1"
      ],
      "metadata": {
        "colab": {
          "base_uri": "https://localhost:8080/"
        },
        "id": "7KJYgApUo-qi",
        "outputId": "96c27ebd-69c1-4b19-d5f7-7aa2654d5d4f"
      },
      "execution_count": null,
      "outputs": [
        {
          "output_type": "stream",
          "name": "stdout",
          "text": [
            "['linear', 23, True, 'g', 96]\n",
            "23\n",
            "['linear', 23, False, True, 'g', 96]\n"
          ]
        },
        {
          "output_type": "execute_result",
          "data": {
            "text/plain": [
              "[]"
            ]
          },
          "metadata": {},
          "execution_count": 1
        }
      ]
    },
    {
      "cell_type": "code",
      "source": [
        "vehicles=[\"car\",\"bike\",\"bus\",\"train\",\"truck\"]\n",
        "person=[\"rahul\",\"nirwan\",\"griva\",\"risha\"]\n",
        "vehicles.extend(person)\n",
        "print(vehicles)"
      ],
      "metadata": {
        "colab": {
          "base_uri": "https://localhost:8080/"
        },
        "id": "xnagC6R8rgel",
        "outputId": "f58ee47e-7352-4eed-f606-a20e17f976f8"
      },
      "execution_count": null,
      "outputs": [
        {
          "output_type": "stream",
          "name": "stdout",
          "text": [
            "['car', 'bike', 'bus', 'train', 'truck', 'rahul', 'nirwan', 'griva', 'risha']\n"
          ]
        }
      ]
    },
    {
      "cell_type": "code",
      "source": [
        "vehicles=[\"car\",\"bike\",\"bus\",\"train\",\"truck\"]\n",
        "vehicles.pop(1)\n",
        "print(vehicles)\n",
        "print(vehicles[1:4])"
      ],
      "metadata": {
        "colab": {
          "base_uri": "https://localhost:8080/"
        },
        "id": "54vck7YTpkF3",
        "outputId": "b36d9504-7be3-4917-cb2c-cb23ec6716a3"
      },
      "execution_count": null,
      "outputs": [
        {
          "output_type": "stream",
          "name": "stdout",
          "text": [
            "['car', 'bus', 'train', 'truck']\n",
            "['bus', 'train', 'truck']\n"
          ]
        }
      ]
    },
    {
      "cell_type": "code",
      "source": [
        "print(vehicles[-1])"
      ],
      "metadata": {
        "colab": {
          "base_uri": "https://localhost:8080/"
        },
        "id": "sbl9x_u-qFUm",
        "outputId": "00981866-ee35-4b05-fa4f-0cc77e11cbb0"
      },
      "execution_count": null,
      "outputs": [
        {
          "output_type": "stream",
          "name": "stdout",
          "text": [
            "truck\n"
          ]
        }
      ]
    },
    {
      "cell_type": "code",
      "source": [
        "for i in range(len(vehicles)):\n",
        " print(vehicles[i])\n"
      ],
      "metadata": {
        "colab": {
          "base_uri": "https://localhost:8080/"
        },
        "id": "GnvCgskUqPHA",
        "outputId": "6f988966-e643-4683-b7ca-df009b44f855"
      },
      "execution_count": null,
      "outputs": [
        {
          "output_type": "stream",
          "name": "stdout",
          "text": [
            "car\n",
            "bike\n",
            "bus\n",
            "train\n",
            "truck\n"
          ]
        }
      ]
    },
    {
      "cell_type": "code",
      "source": [
        "for i in vehicles:\n",
        "  print(i)"
      ],
      "metadata": {
        "colab": {
          "base_uri": "https://localhost:8080/"
        },
        "id": "QYvkcBsAqiUZ",
        "outputId": "c322412a-92da-483f-bf77-f6ebf2570bf6"
      },
      "execution_count": null,
      "outputs": [
        {
          "output_type": "stream",
          "name": "stdout",
          "text": [
            "car\n",
            "bike\n",
            "bus\n",
            "train\n",
            "truck\n"
          ]
        }
      ]
    },
    {
      "cell_type": "code",
      "source": [
        "vehicles=[\"car\",\"bike\",\"bus\",\"train\",\"truck\"]\n",
        "i=0\n",
        "while i<len(vehicles):\n",
        "   print(vehicles[i])\n",
        "   i+=1"
      ],
      "metadata": {
        "id": "-YZPA2Szq4oK",
        "colab": {
          "base_uri": "https://localhost:8080/"
        },
        "outputId": "91365a69-a5fd-42e0-c1d9-a70b061b3831"
      },
      "execution_count": 4,
      "outputs": [
        {
          "output_type": "stream",
          "name": "stdout",
          "text": [
            "car\n",
            "bike\n",
            "bus\n",
            "train\n",
            "truck\n"
          ]
        }
      ]
    },
    {
      "cell_type": "markdown",
      "source": [
        "#List comprehension"
      ],
      "metadata": {
        "id": "gd8n7ytuhct1"
      }
    },
    {
      "cell_type": "code",
      "source": [
        "vehicles=[\"car\",\"bike\",\"bus\",\"train\",\"truck\"]\n",
        "newlist=[]\n",
        "for i in vehicles:\n",
        "   if \"a\" in i:\n",
        "    newlist.append(i)\n",
        "print(newlist)"
      ],
      "metadata": {
        "colab": {
          "base_uri": "https://localhost:8080/"
        },
        "id": "qOgNFT9lhb5X",
        "outputId": "b40a24d2-c082-41e8-cfe7-74b7042d8557"
      },
      "execution_count": 7,
      "outputs": [
        {
          "output_type": "stream",
          "name": "stdout",
          "text": [
            "['car', 'train']\n"
          ]
        }
      ]
    }
  ]
}