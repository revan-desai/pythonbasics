{
  "nbformat": 4,
  "nbformat_minor": 0,
  "metadata": {
    "colab": {
      "provenance": [],
      "authorship_tag": "ABX9TyNivCtvOjBi1QkWHfHCKVFj",
      "include_colab_link": true
    },
    "kernelspec": {
      "name": "python3",
      "display_name": "Python 3"
    },
    "language_info": {
      "name": "python"
    }
  },
  "cells": [
    {
      "cell_type": "markdown",
      "metadata": {
        "id": "view-in-github",
        "colab_type": "text"
      },
      "source": [
        "<a href=\"https://colab.research.google.com/github/revan-desai/pythonbasics/blob/main/python_exception_handling_02.ipynb\" target=\"_parent\"><img src=\"https://colab.research.google.com/assets/colab-badge.svg\" alt=\"Open In Colab\"/></a>"
      ]
    },
    {
      "cell_type": "code",
      "execution_count": 20,
      "metadata": {
        "colab": {
          "base_uri": "https://localhost:8080/"
        },
        "id": "o_8Y7oCNoWiT",
        "outputId": "62ac1020-044f-46e3-ba4d-049dfaa6bb9c"
      },
      "outputs": [
        {
          "output_type": "stream",
          "name": "stdout",
          "text": [
            "5\n",
            "0\n",
            "cannot divide by zero\n"
          ]
        }
      ],
      "source": [
        "a=int(input())\n",
        "b=int(input())\n",
        "try:\n",
        "   c=a/b\n",
        "   print(c)\n",
        "except  :\n",
        "  print('cannot divide by zero')"
      ]
    },
    {
      "cell_type": "code",
      "source": [
        "a=int(input())\n",
        "b=int(input())\n",
        "try:\n",
        "   c=a/b\n",
        "   print(c)\n",
        "except  :\n",
        "  print('cannot divide by zero')\n",
        "else:\n",
        "  print('nothing went wrong')\n"
      ],
      "metadata": {
        "colab": {
          "base_uri": "https://localhost:8080/"
        },
        "id": "cLIe4HdJrlDx",
        "outputId": "7e25e296-6877-428f-a8cf-6b3078efbd2a"
      },
      "execution_count": 19,
      "outputs": [
        {
          "output_type": "stream",
          "name": "stdout",
          "text": [
            "6\n",
            "3\n",
            "2.0\n",
            "nothing went wrong\n"
          ]
        }
      ]
    },
    {
      "cell_type": "code",
      "source": [
        "a=int(input())\n",
        "b=int(input())\n",
        "try:\n",
        "   c=a/b\n",
        "   print(c)\n",
        "except  :\n",
        "  print('cannot divide by zero')\n",
        "else:\n",
        "  print('nothing went wrong')\n",
        "finally:\n",
        "  print('inside finally block')"
      ],
      "metadata": {
        "colab": {
          "base_uri": "https://localhost:8080/"
        },
        "id": "ZSBI9tLuromj",
        "outputId": "55bcb83b-f06c-4fe2-8477-a840ea94a804"
      },
      "execution_count": 18,
      "outputs": [
        {
          "output_type": "stream",
          "name": "stdout",
          "text": [
            "4\n",
            "2\n",
            "2.0\n",
            "nothing went wrong\n",
            "inside finally block\n"
          ]
        }
      ]
    },
    {
      "cell_type": "code",
      "source": [
        "def dividenumbers(a,b):\n",
        "     c=a/b\n",
        "     return c\n",
        "try:\n",
        "  a=int(input())\n",
        "  b=int(input())\n",
        "  print(dividenumbers(a,b))\n",
        "  d=[5,6,8,9]\n",
        "  d[6]\n",
        "\n",
        "except IndexError:\n",
        "  print('index out of bound')\n",
        "except ZeroDivisionError:\n",
        "  print('cannot divide by zero')\n",
        "\n"
      ],
      "metadata": {
        "colab": {
          "base_uri": "https://localhost:8080/"
        },
        "id": "rIR67dQwsH6g",
        "outputId": "d9cfae5e-3258-4007-a950-24977f0bb147"
      },
      "execution_count": 23,
      "outputs": [
        {
          "output_type": "stream",
          "name": "stdout",
          "text": [
            "5\n",
            "0\n",
            "cannot divide by zero\n"
          ]
        }
      ]
    }
  ]
}