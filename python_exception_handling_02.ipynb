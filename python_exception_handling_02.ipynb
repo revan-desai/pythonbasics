{
  "nbformat": 4,
  "nbformat_minor": 0,
  "metadata": {
    "colab": {
      "provenance": [],
      "authorship_tag": "ABX9TyPq5bByWqXATEMTD/wSQRUq",
      "include_colab_link": true
    },
    "kernelspec": {
      "name": "python3",
      "display_name": "Python 3"
    },
    "language_info": {
      "name": "python"
    }
  },
  "cells": [
    {
      "cell_type": "markdown",
      "metadata": {
        "id": "view-in-github",
        "colab_type": "text"
      },
      "source": [
        "<a href=\"https://colab.research.google.com/github/revan-desai/pythonbasics/blob/main/python_exception_handling_02.ipynb\" target=\"_parent\"><img src=\"https://colab.research.google.com/assets/colab-badge.svg\" alt=\"Open In Colab\"/></a>"
      ]
    },
    {
      "cell_type": "code",
      "execution_count": null,
      "metadata": {
        "colab": {
          "base_uri": "https://localhost:8080/"
        },
        "id": "o_8Y7oCNoWiT",
        "outputId": "62ac1020-044f-46e3-ba4d-049dfaa6bb9c"
      },
      "outputs": [
        {
          "output_type": "stream",
          "name": "stdout",
          "text": [
            "5\n",
            "0\n",
            "cannot divide by zero\n"
          ]
        }
      ],
      "source": [
        "a=int(input())\n",
        "b=int(input())\n",
        "try:\n",
        "   c=a/b\n",
        "   print(c)\n",
        "except  :\n",
        "  print('cannot divide by zero')"
      ]
    },
    {
      "cell_type": "code",
      "source": [
        "a=int(input())\n",
        "b=int(input())\n",
        "try:\n",
        "   c=a/b\n",
        "   print(c)\n",
        "except  :\n",
        "  print('cannot divide by zero')\n",
        "else:\n",
        "  print('nothing went wrong')\n"
      ],
      "metadata": {
        "colab": {
          "base_uri": "https://localhost:8080/"
        },
        "id": "cLIe4HdJrlDx",
        "outputId": "7e25e296-6877-428f-a8cf-6b3078efbd2a"
      },
      "execution_count": null,
      "outputs": [
        {
          "output_type": "stream",
          "name": "stdout",
          "text": [
            "6\n",
            "3\n",
            "2.0\n",
            "nothing went wrong\n"
          ]
        }
      ]
    },
    {
      "cell_type": "code",
      "source": [
        "a=int(input())\n",
        "b=int(input())\n",
        "try:\n",
        "   c=a/b\n",
        "   print(c)\n",
        "except  :\n",
        "  print('cannot divide by zero')\n",
        "else:\n",
        "  print('nothing went wrong')\n",
        "finally:\n",
        "  print('inside finally block')"
      ],
      "metadata": {
        "colab": {
          "base_uri": "https://localhost:8080/"
        },
        "id": "ZSBI9tLuromj",
        "outputId": "55bcb83b-f06c-4fe2-8477-a840ea94a804"
      },
      "execution_count": null,
      "outputs": [
        {
          "output_type": "stream",
          "name": "stdout",
          "text": [
            "4\n",
            "2\n",
            "2.0\n",
            "nothing went wrong\n",
            "inside finally block\n"
          ]
        }
      ]
    },
    {
      "cell_type": "code",
      "source": [
        "def dividenumbers(a,b):\n",
        "     c=a/b\n",
        "     return c\n",
        "try:\n",
        "  a=int(input())\n",
        "  b=int(input())\n",
        "  print(dividenumbers(a,b))\n",
        "  d=[5,6,8,9]\n",
        "  d[6]\n",
        "\n",
        "except IndexError:\n",
        "  print('index out of bound')\n",
        "except ZeroDivisionError:\n",
        "  print('cannot divide by zero')\n",
        "\n"
      ],
      "metadata": {
        "colab": {
          "base_uri": "https://localhost:8080/"
        },
        "id": "rIR67dQwsH6g",
        "outputId": "d9cfae5e-3258-4007-a950-24977f0bb147"
      },
      "execution_count": null,
      "outputs": [
        {
          "output_type": "stream",
          "name": "stdout",
          "text": [
            "5\n",
            "0\n",
            "cannot divide by zero\n"
          ]
        }
      ]
    },
    {
      "cell_type": "markdown",
      "source": [
        "## understand finally() with function"
      ],
      "metadata": {
        "id": "NZ3uL8m26mh1"
      }
    },
    {
      "cell_type": "code",
      "source": [
        "def func1():\n",
        "    try:\n",
        "      a=int(input())\n",
        "      b=int(input())\n",
        "      c=a/b\n",
        "      return c\n",
        "    except:\n",
        "      print('some error occured')\n",
        "      return 0\n",
        "    print('i am inside function')    # look this line not executed hence in next code will write it inside finally block\n",
        "\n",
        "\n",
        "func1()"
      ],
      "metadata": {
        "colab": {
          "base_uri": "https://localhost:8080/"
        },
        "id": "iehYEnip5p6W",
        "outputId": "fea543ad-a5b3-4ebe-b933-e554c9a52a33"
      },
      "execution_count": 34,
      "outputs": [
        {
          "output_type": "stream",
          "name": "stdout",
          "text": [
            "5\n",
            "0\n",
            "some error occured\n"
          ]
        },
        {
          "output_type": "execute_result",
          "data": {
            "text/plain": [
              "0"
            ]
          },
          "metadata": {},
          "execution_count": 34
        }
      ]
    },
    {
      "cell_type": "code",
      "source": [
        "def func1():\n",
        "    try:\n",
        "      a=int(input())\n",
        "      b=int(input())\n",
        "      c=a/b\n",
        "      return c\n",
        "    except:\n",
        "      print('some error occured')\n",
        "      return 0\n",
        "    finally:\n",
        "     print('i am inside finally')    # look this line not executed\n",
        "\n",
        "\n",
        "func1()"
      ],
      "metadata": {
        "colab": {
          "base_uri": "https://localhost:8080/"
        },
        "id": "TiWLxLzS63Nd",
        "outputId": "8a6609d4-221c-43b8-b50a-d65951f7e197"
      },
      "execution_count": 33,
      "outputs": [
        {
          "output_type": "stream",
          "name": "stdout",
          "text": [
            "5\n",
            "2\n",
            "i am inside finally\n"
          ]
        },
        {
          "output_type": "execute_result",
          "data": {
            "text/plain": [
              "2.5"
            ]
          },
          "metadata": {},
          "execution_count": 33
        }
      ]
    },
    {
      "cell_type": "markdown",
      "source": [
        "## custom errors"
      ],
      "metadata": {
        "id": "MJwDzt2J7uph"
      }
    },
    {
      "cell_type": "code",
      "source": [
        "a=input('enter a word:')\n",
        "if a!='quit':\n",
        "    raise ValueError('word is diffrent than quit')       # ValueError is one of the type of error in python and not a random word\n",
        "\n"
      ],
      "metadata": {
        "colab": {
          "base_uri": "https://localhost:8080/",
          "height": 235
        },
        "id": "DeX6zc3r7wz6",
        "outputId": "339f5ec5-fe8a-4c6f-f247-41649daed084"
      },
      "execution_count": 41,
      "outputs": [
        {
          "name": "stdout",
          "output_type": "stream",
          "text": [
            "enter a word:dfghjk\n"
          ]
        },
        {
          "output_type": "error",
          "ename": "ValueError",
          "evalue": "ignored",
          "traceback": [
            "\u001b[0;31m---------------------------------------------------------------------------\u001b[0m",
            "\u001b[0;31mValueError\u001b[0m                                Traceback (most recent call last)",
            "\u001b[0;32m<ipython-input-41-f3138c78dd59>\u001b[0m in \u001b[0;36m<cell line: 2>\u001b[0;34m()\u001b[0m\n\u001b[1;32m      1\u001b[0m \u001b[0ma\u001b[0m\u001b[0;34m=\u001b[0m\u001b[0minput\u001b[0m\u001b[0;34m(\u001b[0m\u001b[0;34m'enter a word:'\u001b[0m\u001b[0;34m)\u001b[0m\u001b[0;34m\u001b[0m\u001b[0;34m\u001b[0m\u001b[0m\n\u001b[1;32m      2\u001b[0m \u001b[0;32mif\u001b[0m \u001b[0ma\u001b[0m\u001b[0;34m!=\u001b[0m\u001b[0;34m'quit'\u001b[0m\u001b[0;34m:\u001b[0m\u001b[0;34m\u001b[0m\u001b[0;34m\u001b[0m\u001b[0m\n\u001b[0;32m----> 3\u001b[0;31m     \u001b[0;32mraise\u001b[0m \u001b[0mValueError\u001b[0m\u001b[0;34m(\u001b[0m\u001b[0;34m'word is diffrent than quit'\u001b[0m\u001b[0;34m)\u001b[0m       \u001b[0;31m# ValueError is one of the type of error in python and not a random word\u001b[0m\u001b[0;34m\u001b[0m\u001b[0;34m\u001b[0m\u001b[0m\n\u001b[0m\u001b[1;32m      4\u001b[0m \u001b[0;34m\u001b[0m\u001b[0m\n",
            "\u001b[0;31mValueError\u001b[0m: word is diffrent than quit"
          ]
        }
      ]
    }
  ]
}