{
  "nbformat": 4,
  "nbformat_minor": 0,
  "metadata": {
    "colab": {
      "provenance": [],
      "authorship_tag": "ABX9TyPgGbCA5YFHbHZgITblzXE3",
      "include_colab_link": true
    },
    "kernelspec": {
      "name": "python3",
      "display_name": "Python 3"
    },
    "language_info": {
      "name": "python"
    }
  },
  "cells": [
    {
      "cell_type": "markdown",
      "metadata": {
        "id": "view-in-github",
        "colab_type": "text"
      },
      "source": [
        "<a href=\"https://colab.research.google.com/github/revan-desai/pythonbasics/blob/main/python_datatypes_strings.ipynb\" target=\"_parent\"><img src=\"https://colab.research.google.com/assets/colab-badge.svg\" alt=\"Open In Colab\"/></a>"
      ]
    },
    {
      "cell_type": "code",
      "execution_count": null,
      "metadata": {
        "colab": {
          "base_uri": "https://localhost:8080/",
          "height": 35
        },
        "id": "vmF-mqfJkCsV",
        "outputId": "d6deaca5-52e8-49a1-98a7-abf17a1fd17a"
      },
      "outputs": [
        {
          "output_type": "execute_result",
          "data": {
            "text/plain": [
              "'e'"
            ],
            "application/vnd.google.colaboratory.intrinsic+json": {
              "type": "string"
            }
          },
          "metadata": {},
          "execution_count": 1
        }
      ],
      "source": [
        "a=\"science\"\n",
        "a='science'\n",
        "a[3]"
      ]
    },
    {
      "cell_type": "code",
      "source": [
        "a=\"Python Is Awesome and easy\"\n",
        "print(a.lower())\n",
        "print(a.upper())\n",
        "print(a.swapcase())\n",
        "print(a.title())\n"
      ],
      "metadata": {
        "colab": {
          "base_uri": "https://localhost:8080/"
        },
        "id": "TAne_HfdS0eI",
        "outputId": "878bdd5e-ce04-4046-b427-2007abf6e7c6"
      },
      "execution_count": null,
      "outputs": [
        {
          "output_type": "stream",
          "name": "stdout",
          "text": [
            "python is awesome and easy\n",
            "PYTHON IS AWESOME AND EASY\n",
            "pYTHON iS aWESOME AND EASY\n",
            "Python Is Awesome And Easy\n"
          ]
        }
      ]
    },
    {
      "cell_type": "markdown",
      "source": [
        "#slicing"
      ],
      "metadata": {
        "id": "yql60obNkXr5"
      }
    },
    {
      "cell_type": "code",
      "source": [
        "s=\"python\"\n",
        "s[::]   #[start:end:step] when we dont mention anything the default step is 1 ,it will go till extreme ends when we dont mention start and end"
      ],
      "metadata": {
        "colab": {
          "base_uri": "https://localhost:8080/",
          "height": 35
        },
        "id": "UTO-oJnlkXNY",
        "outputId": "fe019e0f-d27a-4042-ea1e-672e40c2b0da"
      },
      "execution_count": null,
      "outputs": [
        {
          "output_type": "execute_result",
          "data": {
            "text/plain": [
              "'python'"
            ],
            "application/vnd.google.colaboratory.intrinsic+json": {
              "type": "string"
            }
          },
          "metadata": {},
          "execution_count": 2
        }
      ]
    },
    {
      "cell_type": "code",
      "source": [
        "s=\"python\"\n",
        "s[::-1]"
      ],
      "metadata": {
        "colab": {
          "base_uri": "https://localhost:8080/",
          "height": 35
        },
        "id": "VQYviLcLkj_r",
        "outputId": "6f42314d-5cc2-4a4d-a2cf-c710fdd187e0"
      },
      "execution_count": null,
      "outputs": [
        {
          "output_type": "execute_result",
          "data": {
            "text/plain": [
              "'nohtyp'"
            ],
            "application/vnd.google.colaboratory.intrinsic+json": {
              "type": "string"
            }
          },
          "metadata": {},
          "execution_count": 3
        }
      ]
    },
    {
      "cell_type": "code",
      "source": [
        "s=\"python\"\n",
        "n=len(s)\n",
        "s[0:6:1]\n",
        "print(n)"
      ],
      "metadata": {
        "colab": {
          "base_uri": "https://localhost:8080/"
        },
        "id": "GhkX7zdNkr1d",
        "outputId": "213a1492-f1a4-41d7-812b-044ce02ca8dd"
      },
      "execution_count": null,
      "outputs": [
        {
          "output_type": "stream",
          "name": "stdout",
          "text": [
            "6\n"
          ]
        }
      ]
    },
    {
      "cell_type": "markdown",
      "source": [
        "#accesing each character of string in forward and backeward direction using while loop?"
      ],
      "metadata": {
        "id": "Z9W-W6cQk9nR"
      }
    },
    {
      "cell_type": "code",
      "source": [
        "s=\"artificial\"\n",
        "i=0\n",
        "while i<len(s):\n",
        "  print(s[i],end=\"\")\n",
        "  i+=1"
      ],
      "metadata": {
        "colab": {
          "base_uri": "https://localhost:8080/"
        },
        "id": "FFY2jcxfk0Sd",
        "outputId": "3b120892-d7a9-4a9d-fba8-a2263d84b074"
      },
      "execution_count": null,
      "outputs": [
        {
          "output_type": "stream",
          "name": "stdout",
          "text": [
            "artificial"
          ]
        }
      ]
    },
    {
      "cell_type": "code",
      "source": [
        "s=\"artificial\"\n",
        "i=len(s)-1\n",
        "while i>=0:\n",
        "  print(s[i],end=\"\")\n",
        "  i-=1"
      ],
      "metadata": {
        "colab": {
          "base_uri": "https://localhost:8080/"
        },
        "id": "eRtpQtoWleDP",
        "outputId": "f764687d-ca68-4392-f754-85fd4d83dee9"
      },
      "execution_count": null,
      "outputs": [
        {
          "output_type": "stream",
          "name": "stdout",
          "text": [
            "laicifitra"
          ]
        }
      ]
    },
    {
      "cell_type": "markdown",
      "source": [
        "# String character using for loop"
      ],
      "metadata": {
        "id": "iwrFqHawmsmD"
      }
    },
    {
      "cell_type": "code",
      "source": [
        "a=\"awesome\"\n",
        "for i in range(0,len(a)):\n",
        "      print(a[i])"
      ],
      "metadata": {
        "colab": {
          "base_uri": "https://localhost:8080/"
        },
        "id": "_T7D2hTnmzHb",
        "outputId": "16933ded-2880-4b94-9aff-6347c7343b51"
      },
      "execution_count": null,
      "outputs": [
        {
          "output_type": "stream",
          "name": "stdout",
          "text": [
            "a\n",
            "w\n",
            "e\n",
            "s\n",
            "o\n",
            "m\n",
            "e\n"
          ]
        }
      ]
    },
    {
      "cell_type": "code",
      "source": [
        "a=\"awesome\"\n",
        "for i in range(len(a)):\n",
        "      print(a[i])"
      ],
      "metadata": {
        "colab": {
          "base_uri": "https://localhost:8080/"
        },
        "id": "-j-wtBbGoLUJ",
        "outputId": "b0cdce2a-e245-4f2e-a846-cbfa6b76f362"
      },
      "execution_count": null,
      "outputs": [
        {
          "output_type": "stream",
          "name": "stdout",
          "text": [
            "a\n",
            "w\n",
            "e\n",
            "s\n",
            "o\n",
            "m\n",
            "e\n"
          ]
        }
      ]
    },
    {
      "cell_type": "code",
      "source": [
        "a=\"awesome\"\n",
        "for i in a:\n",
        "      print(i)"
      ],
      "metadata": {
        "colab": {
          "base_uri": "https://localhost:8080/"
        },
        "id": "3gTFYrIMoOqh",
        "outputId": "b180e973-7a5a-403b-b09f-9dfca5dc1994"
      },
      "execution_count": null,
      "outputs": [
        {
          "output_type": "stream",
          "name": "stdout",
          "text": [
            "a\n",
            "w\n",
            "e\n",
            "s\n",
            "o\n",
            "m\n",
            "e\n"
          ]
        }
      ]
    },
    {
      "cell_type": "code",
      "source": [
        "for i in \"awesome\":\n",
        "  print(i)"
      ],
      "metadata": {
        "colab": {
          "base_uri": "https://localhost:8080/"
        },
        "id": "x3U8Qc5VoYIH",
        "outputId": "e22ff697-efa1-4fbb-b029-893faadcba2c"
      },
      "execution_count": null,
      "outputs": [
        {
          "output_type": "stream",
          "name": "stdout",
          "text": [
            "a\n",
            "w\n",
            "e\n",
            "s\n",
            "o\n",
            "m\n",
            "e\n"
          ]
        }
      ]
    },
    {
      "cell_type": "code",
      "source": [
        "s1=\"python is easy\"\n",
        "s2=\"python\"\n",
        "if s1>s2:     #it compares value at first index\n",
        "  print(\"ok1\")\n",
        "else:\n",
        "  print(\"ok2\")"
      ],
      "metadata": {
        "colab": {
          "base_uri": "https://localhost:8080/"
        },
        "id": "uWZRmPahofeu",
        "outputId": "b530dc6e-71c2-49b9-8b59-28c96d48e7ae"
      },
      "execution_count": 3,
      "outputs": [
        {
          "output_type": "stream",
          "name": "stdout",
          "text": [
            "s2 is longer than s1\n"
          ]
        }
      ]
    },
    {
      "cell_type": "markdown",
      "source": [
        "#removing spaces from String"
      ],
      "metadata": {
        "id": "-ZJeupU7pEK3"
      }
    },
    {
      "cell_type": "code",
      "source": [
        "s=\" data \"\n",
        "print(s.rstrip())  #remove spaces at right hand side\n",
        "s=\" data \"\n",
        "print(s.lstrip())  #remove spaces at left hand side\n",
        "s=\" data \"\n",
        "print(s.strip())"
      ],
      "metadata": {
        "colab": {
          "base_uri": "https://localhost:8080/"
        },
        "id": "hWRcB2UNpB7u",
        "outputId": "7b5f11fc-88c1-402b-887d-1a6e26c0ab0d"
      },
      "execution_count": null,
      "outputs": [
        {
          "output_type": "stream",
          "name": "stdout",
          "text": [
            " data\n",
            "data \n",
            "data\n"
          ]
        }
      ]
    },
    {
      "cell_type": "markdown",
      "source": [
        "#Substring"
      ],
      "metadata": {
        "id": "R3s1mN7UrQCN"
      }
    },
    {
      "cell_type": "code",
      "source": [
        "s=\"learning\"\n",
        "s.find(\"r\")\n",
        "s.find(\"z\")  #instead of throwing an error i will give - as an output"
      ],
      "metadata": {
        "colab": {
          "base_uri": "https://localhost:8080/"
        },
        "id": "1bhkYx6zqwnP",
        "outputId": "b9fb9d01-b9e2-402b-de64-85cc0c00d367"
      },
      "execution_count": null,
      "outputs": [
        {
          "output_type": "execute_result",
          "data": {
            "text/plain": [
              "-1"
            ]
          },
          "metadata": {},
          "execution_count": 36
        }
      ]
    },
    {
      "cell_type": "code",
      "source": [
        "s=\"learning\"\n",
        "s.find(\"g\",3,9)\n"
      ],
      "metadata": {
        "id": "m6xV9djq3jEA",
        "colab": {
          "base_uri": "https://localhost:8080/"
        },
        "outputId": "c57180b0-22aa-4b4f-b845-f7650877c02d"
      },
      "execution_count": null,
      "outputs": [
        {
          "output_type": "execute_result",
          "data": {
            "text/plain": [
              "7"
            ]
          },
          "metadata": {},
          "execution_count": 13
        }
      ]
    },
    {
      "cell_type": "code",
      "source": [
        "s=\"rotator\"\n",
        "print(s.count(\"o\"))\n",
        "print(s.count(\"o\",2,7))\n",
        "m=\"membership\"\n",
        "print(m.count(\"e\"))\n"
      ],
      "metadata": {
        "colab": {
          "base_uri": "https://localhost:8080/"
        },
        "id": "Iof0C8dQXqAg",
        "outputId": "0e84b3be-b47a-4ddd-8417-a195930e3a98"
      },
      "execution_count": 7,
      "outputs": [
        {
          "output_type": "stream",
          "name": "stdout",
          "text": [
            "2\n",
            "1\n",
            "2\n"
          ]
        }
      ]
    },
    {
      "cell_type": "code",
      "source": [
        "s=\"15-feb-1995\"\n",
        "s.replace(\"-\",\"/\")"
      ],
      "metadata": {
        "colab": {
          "base_uri": "https://localhost:8080/",
          "height": 35
        },
        "id": "ByZrBXgJYIai",
        "outputId": "fd48eb65-a004-482c-9bab-1e9ce3631245"
      },
      "execution_count": 4,
      "outputs": [
        {
          "output_type": "execute_result",
          "data": {
            "text/plain": [
              "'15/feb/1995'"
            ],
            "application/vnd.google.colaboratory.intrinsic+json": {
              "type": "string"
            }
          },
          "metadata": {},
          "execution_count": 4
        }
      ]
    },
    {
      "cell_type": "markdown",
      "source": [
        "#occurence of character in string"
      ],
      "metadata": {
        "id": "nGtxJ2DC3cXh"
      }
    },
    {
      "cell_type": "code",
      "source": [
        "s=\"aaabbccddea\"\n",
        "d={}\n",
        "for i in s:\n",
        "      if i in d.keys():\n",
        "        d[i]=d[i]+1       # for 2nd iteration--here i=a is key & d[i] i.e. d[a] will return value of that particular key\n",
        "      else:\n",
        "        d[i]=1\n",
        "print(d)\n",
        "\n"
      ],
      "metadata": {
        "colab": {
          "base_uri": "https://localhost:8080/"
        },
        "id": "9USXcVk6sDbw",
        "outputId": "3986f63e-2a13-4d3e-dc57-0d3a47482512"
      },
      "execution_count": null,
      "outputs": [
        {
          "output_type": "stream",
          "name": "stdout",
          "text": [
            "{'a': 4, 'b': 2, 'c': 2, 'd': 2, 'e': 1}\n"
          ]
        }
      ]
    },
    {
      "cell_type": "code",
      "source": [
        "m=\"python is very easy\"\n",
        "s1=m.split()\n",
        "s=[]\n",
        "for i in s1:\n",
        "  s.append(i)\n",
        "  a=\" \".join(s)\n",
        "  b=\"*\".join(s)\n",
        "print(a)\n",
        "print(b)\n",
        "\n",
        "\n"
      ],
      "metadata": {
        "id": "pYW6SxQY431f",
        "colab": {
          "base_uri": "https://localhost:8080/"
        },
        "outputId": "726c8391-4c31-4677-af4a-4cbc03241a32"
      },
      "execution_count": null,
      "outputs": [
        {
          "output_type": "stream",
          "name": "stdout",
          "text": [
            "python is very easy\n",
            "python*is*very*easy\n"
          ]
        }
      ]
    },
    {
      "cell_type": "code",
      "source": [
        "a=\"python is very easy\"\n",
        "print(a.endswith(\"easy\"))\n",
        "print(a.startswith(\"p\"))"
      ],
      "metadata": {
        "colab": {
          "base_uri": "https://localhost:8080/"
        },
        "id": "hxmD_XExSXs8",
        "outputId": "f66b6059-bc8a-415f-96d0-dfce23974e9c"
      },
      "execution_count": null,
      "outputs": [
        {
          "output_type": "stream",
          "name": "stdout",
          "text": [
            "True\n",
            "True\n"
          ]
        }
      ]
    },
    {
      "cell_type": "code",
      "source": [
        "d=\"500wheel\"\n",
        "print(d.isalpha())\n",
        "k=\"wheel\"\n",
        "print(k.isalpha())\n",
        "f=\"589505k\"\n",
        "print(f.isalnum())  #if all character in string are alhabets(a-z) and numbers(0-9) then return True\n",
        "h=\"@$546key\"\n",
        "print(h.isalnum())\n"
      ],
      "metadata": {
        "colab": {
          "base_uri": "https://localhost:8080/"
        },
        "id": "A0kfsTpiYcBZ",
        "outputId": "82aa6de9-c9f7-461b-b7d2-b98a6d0dc4d5"
      },
      "execution_count": 11,
      "outputs": [
        {
          "output_type": "stream",
          "name": "stdout",
          "text": [
            "False\n",
            "True\n",
            "True\n",
            "False\n"
          ]
        }
      ]
    },
    {
      "cell_type": "code",
      "source": [
        "d=\"python\"\n",
        "print(d.islower())\n",
        "r=\"RANDOM\"\n",
        "print(r.isupper())\n",
        "w=\"I Am Working Since Morning\"   #first character of each word is capital here\n",
        "print(w.istitle())               #hence result is true\n",
        "t=\" \"\n",
        "t.isspace()     #if string is having only spaces then return true\n",
        "\n"
      ],
      "metadata": {
        "colab": {
          "base_uri": "https://localhost:8080/"
        },
        "id": "vxp5gThOMNqO",
        "outputId": "c3956b0b-0dcb-4e6b-9262-ca36e0f82066"
      },
      "execution_count": 24,
      "outputs": [
        {
          "output_type": "stream",
          "name": "stdout",
          "text": [
            "True\n",
            "True\n",
            "True\n"
          ]
        },
        {
          "output_type": "execute_result",
          "data": {
            "text/plain": [
              "True"
            ]
          },
          "metadata": {},
          "execution_count": 24
        }
      ]
    },
    {
      "cell_type": "code",
      "source": [
        "list2=[\"computers\",\"tools\",\"to\",\"process\",\"bigdata\"]\n",
        "print(\" \".join(list2))\n",
        "print(\"&\".join(list2))\n",
        "print(\"#\".join(list2))"
      ],
      "metadata": {
        "colab": {
          "base_uri": "https://localhost:8080/"
        },
        "id": "cis3J7deLdmX",
        "outputId": "d32b9507-039d-4aef-e85e-b4b955598b66"
      },
      "execution_count": 17,
      "outputs": [
        {
          "output_type": "stream",
          "name": "stdout",
          "text": [
            "computers tools to process bigdata\n",
            "computers&tools&to&process&bigdata\n",
            "computers#tools#to#process#bigdata\n"
          ]
        }
      ]
    },
    {
      "cell_type": "markdown",
      "source": [
        "#formatting in string"
      ],
      "metadata": {
        "id": "Q1MAKC_3NgBc"
      }
    },
    {
      "cell_type": "code",
      "source": [
        "name=\"nirwan\"\n",
        "age=\"28\"\n",
        "salary=\"50000\"\n",
        "print(\"{}'s age is {} and his salary is Rs.{} \".format(name,age,salary))\n",
        "print(\"{2}'s age is {0} and his salary is Rs.{1}\".format(age,salary,name))\n",
        "print(\"{y}'s age is {x} and his salary is Rs.{z}\".format(x=age,y=name,z=salary))\n"
      ],
      "metadata": {
        "colab": {
          "base_uri": "https://localhost:8080/"
        },
        "id": "bZmLGTmwNjVt",
        "outputId": "ab3aa267-0166-484d-8771-10e6d8558bdc"
      },
      "execution_count": 31,
      "outputs": [
        {
          "output_type": "stream",
          "name": "stdout",
          "text": [
            "nirwan's age is 28 and his salary is Rs.50000 \n",
            "nirwan's age is 28 and his salary is Rs.50000\n",
            "nirwan's age is 28 and his salary is Rs.50000\n"
          ]
        }
      ]
    }
  ]
}