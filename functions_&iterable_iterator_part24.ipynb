{
  "nbformat": 4,
  "nbformat_minor": 0,
  "metadata": {
    "colab": {
      "provenance": [],
      "authorship_tag": "ABX9TyPbRbjeL/gowulMNqjDKd5Q",
      "include_colab_link": true
    },
    "kernelspec": {
      "name": "python3",
      "display_name": "Python 3"
    },
    "language_info": {
      "name": "python"
    }
  },
  "cells": [
    {
      "cell_type": "markdown",
      "metadata": {
        "id": "view-in-github",
        "colab_type": "text"
      },
      "source": [
        "<a href=\"https://colab.research.google.com/github/revan-desai/pythonbasics/blob/main/functions_%26iterable_iterator_part24.ipynb\" target=\"_parent\"><img src=\"https://colab.research.google.com/assets/colab-badge.svg\" alt=\"Open In Colab\"/></a>"
      ]
    },
    {
      "cell_type": "code",
      "execution_count": 12,
      "metadata": {
        "id": "6GLO8RmH27Z5"
      },
      "outputs": [],
      "source": [
        "def test(x,y):\n",
        "  \"\"\"this is my function\n",
        "     which add two numbers\"\"\"\n",
        "  return x+y"
      ]
    },
    {
      "cell_type": "code",
      "source": [
        "test(5,4)"
      ],
      "metadata": {
        "colab": {
          "base_uri": "https://localhost:8080/"
        },
        "id": "kqDTHSVG3MlL",
        "outputId": "02bbba4e-61be-40ae-f7c5-44b2f552a010"
      },
      "execution_count": 11,
      "outputs": [
        {
          "output_type": "execute_result",
          "data": {
            "text/plain": [
              "9"
            ]
          },
          "metadata": {},
          "execution_count": 11
        }
      ]
    },
    {
      "cell_type": "code",
      "source": [
        "# help(test(5,15))"
      ],
      "metadata": {
        "id": "6ioRpD8J3hUE"
      },
      "execution_count": 35,
      "outputs": []
    },
    {
      "cell_type": "code",
      "source": [
        "def length(s):\n",
        "  count=0\n",
        "  for i in s:\n",
        "    count+=1\n",
        "  return count\n",
        "\n",
        "length(\"wor\")"
      ],
      "metadata": {
        "colab": {
          "base_uri": "https://localhost:8080/"
        },
        "id": "987KcQns4mvC",
        "outputId": "cc0a950d-deef-4e3d-8fbe-f0ffae984569"
      },
      "execution_count": 36,
      "outputs": [
        {
          "output_type": "execute_result",
          "data": {
            "text/plain": [
              "3"
            ]
          },
          "metadata": {},
          "execution_count": 36
        }
      ]
    },
    {
      "cell_type": "code",
      "source": [
        "import socket\n",
        "\n",
        "def get_ip_address():\n",
        "    # Get the hostname of the local machine\n",
        "    hostname = socket.gethostname()\n",
        "\n",
        "    # Get the IP address of the local machine\n",
        "    ip_address = socket.gethostbyname(hostname)\n",
        "\n",
        "    return ip_address\n",
        "\n",
        "# Call the function to print the IP address\n",
        "print(\"IP Address:\", get_ip_address())"
      ],
      "metadata": {
        "colab": {
          "base_uri": "https://localhost:8080/"
        },
        "id": "T4trYXW-6OZJ",
        "outputId": "d97ea0fc-88ad-4ca7-ac83-203026cb9c4c"
      },
      "execution_count": 38,
      "outputs": [
        {
          "output_type": "stream",
          "name": "stdout",
          "text": [
            "IP Address: 172.28.0.12\n"
          ]
        }
      ]
    },
    {
      "cell_type": "code",
      "source": [
        "a=lambda c,d:(c*3,d*3)\n",
        "\n",
        "a(50,100)"
      ],
      "metadata": {
        "colab": {
          "base_uri": "https://localhost:8080/"
        },
        "id": "rfmTbo5MOFPI",
        "outputId": "516db6ca-f1a6-42c6-c3c0-8cbdc6b820aa"
      },
      "execution_count": 42,
      "outputs": [
        {
          "output_type": "execute_result",
          "data": {
            "text/plain": [
              "(150, 300)"
            ]
          },
          "metadata": {},
          "execution_count": 42
        }
      ]
    },
    {
      "cell_type": "code",
      "source": [
        "def func1(*args,**kwargs):\n",
        "  print(args)\n",
        "  print(kwargs)\n",
        "\n",
        "func1(54,75,45,45,c=89,d=80)"
      ],
      "metadata": {
        "colab": {
          "base_uri": "https://localhost:8080/"
        },
        "id": "QoCkG9sWOmKk",
        "outputId": "456739a0-6b59-4adc-da30-f5b7ec66fa84"
      },
      "execution_count": 44,
      "outputs": [
        {
          "output_type": "stream",
          "name": "stdout",
          "text": [
            "(54, 75, 45, 45)\n",
            "{'c': 89, 'd': 80}\n"
          ]
        }
      ]
    },
    {
      "cell_type": "code",
      "source": [
        "{i:i**2 for i in range(5)}"
      ],
      "metadata": {
        "colab": {
          "base_uri": "https://localhost:8080/"
        },
        "id": "ekhwu6ePRcOR",
        "outputId": "e34671d5-1070-4a1b-9c79-83c97e43dac5"
      },
      "execution_count": 48,
      "outputs": [
        {
          "output_type": "execute_result",
          "data": {
            "text/plain": [
              "{0: 0, 1: 1, 2: 4, 3: 9, 4: 16}"
            ]
          },
          "metadata": {},
          "execution_count": 48
        }
      ]
    },
    {
      "cell_type": "code",
      "source": [
        "# iterable and iterator\n",
        "\n",
        "s1=\"python\"   # string s1 is iterable\n",
        "\n",
        "s1=iter(s1)   #string s1 is iterable we are converting it into iterator using iter function\n",
        "\n",
        "next(s1)\n",
        "next(s1)"
      ],
      "metadata": {
        "colab": {
          "base_uri": "https://localhost:8080/",
          "height": 35
        },
        "id": "h92VoreOUZG9",
        "outputId": "143765c3-9894-41f3-a6df-570d4eb740b0"
      },
      "execution_count": 59,
      "outputs": [
        {
          "output_type": "execute_result",
          "data": {
            "text/plain": [
              "'y'"
            ],
            "application/vnd.google.colaboratory.intrinsic+json": {
              "type": "string"
            }
          },
          "metadata": {},
          "execution_count": 59
        }
      ]
    },
    {
      "cell_type": "code",
      "source": [
        "list3=[15,9,8,7,4,56,9]\n",
        "\n",
        "list3=iter(list3)\n",
        "next(list3)\n",
        "next(list3)"
      ],
      "metadata": {
        "colab": {
          "base_uri": "https://localhost:8080/"
        },
        "id": "p3-lFvtkVWwE",
        "outputId": "08cb5756-c468-4844-a006-9602e6756566"
      },
      "execution_count": 61,
      "outputs": [
        {
          "output_type": "execute_result",
          "data": {
            "text/plain": [
              "9"
            ]
          },
          "metadata": {},
          "execution_count": 61
        }
      ]
    }
  ]
}