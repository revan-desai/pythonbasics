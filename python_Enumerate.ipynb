{
  "nbformat": 4,
  "nbformat_minor": 0,
  "metadata": {
    "colab": {
      "provenance": [],
      "authorship_tag": "ABX9TyO7Qj3yOnm0YBQnheSZl/Y6",
      "include_colab_link": true
    },
    "kernelspec": {
      "name": "python3",
      "display_name": "Python 3"
    },
    "language_info": {
      "name": "python"
    }
  },
  "cells": [
    {
      "cell_type": "markdown",
      "metadata": {
        "id": "view-in-github",
        "colab_type": "text"
      },
      "source": [
        "<a href=\"https://colab.research.google.com/github/revan-desai/pythonbasics/blob/main/python_Enumerate.ipynb\" target=\"_parent\"><img src=\"https://colab.research.google.com/assets/colab-badge.svg\" alt=\"Open In Colab\"/></a>"
      ]
    },
    {
      "cell_type": "code",
      "execution_count": 6,
      "metadata": {
        "colab": {
          "base_uri": "https://localhost:8080/"
        },
        "id": "Tp74_0LPxpLr",
        "outputId": "514d7157-5611-4569-99cd-c1e9d2ff9fd8"
      },
      "outputs": [
        {
          "output_type": "stream",
          "name": "stdout",
          "text": [
            "100\n",
            "congratulations you got 100 out of 100\n"
          ]
        }
      ],
      "source": [
        "marks=[24,36,87,99,100,20,56]\n",
        "\n",
        "for index,mark in enumerate(marks): # index will start from 0\n",
        "   if index==4:\n",
        "    print(mark)\n",
        "    print('congratulations you got 100 out of 100')"
      ]
    },
    {
      "cell_type": "code",
      "source": [
        "marks=[24,36,87,99,100,20,56]\n",
        "\n",
        "for index,mark in enumerate(marks,start=1): # index will start from 1\n",
        "   if index==4:\n",
        "    print(mark)\n",
        "    print('congratulations you got 99 out of 100')"
      ],
      "metadata": {
        "colab": {
          "base_uri": "https://localhost:8080/"
        },
        "id": "WZ_cgF4Syj69",
        "outputId": "ebda27fd-648d-4b1f-b5f4-5a5cdad2cea1"
      },
      "execution_count": 8,
      "outputs": [
        {
          "output_type": "stream",
          "name": "stdout",
          "text": [
            "99\n",
            "congratulations you got 99 out of 100\n"
          ]
        }
      ]
    }
  ]
}