{
  "nbformat": 4,
  "nbformat_minor": 0,
  "metadata": {
    "colab": {
      "provenance": [],
      "authorship_tag": "ABX9TyOImiaMeLFp165shncb9OpZ",
      "include_colab_link": true
    },
    "kernelspec": {
      "name": "python3",
      "display_name": "Python 3"
    },
    "language_info": {
      "name": "python"
    }
  },
  "cells": [
    {
      "cell_type": "markdown",
      "metadata": {
        "id": "view-in-github",
        "colab_type": "text"
      },
      "source": [
        "<a href=\"https://colab.research.google.com/github/revan-desai/pythonbasics/blob/main/exception_handling_part24.ipynb\" target=\"_parent\"><img src=\"https://colab.research.google.com/assets/colab-badge.svg\" alt=\"Open In Colab\"/></a>"
      ]
    },
    {
      "cell_type": "code",
      "execution_count": 24,
      "metadata": {
        "colab": {
          "base_uri": "https://localhost:8080/"
        },
        "id": "PjnqDk2uuwS6",
        "outputId": "f0081081-6fc4-4a79-bd8b-6b7baf80b818"
      },
      "outputs": [
        {
          "output_type": "stream",
          "name": "stdout",
          "text": [
            "2\n",
            "5\n",
            "6\n",
            "7\n",
            "2\n",
            "list index out of range\n"
          ]
        }
      ],
      "source": [
        "l=[2,5,6,7,2]\n",
        "\n",
        "try:\n",
        "  for i in range(len(l)+1):\n",
        "    print(l[i])\n",
        "except Exception as e:\n",
        "  print(e)"
      ]
    },
    {
      "cell_type": "code",
      "source": [
        "l=[2,5,6,7,2]\n",
        "\n",
        "try:\n",
        "  for i in range(len(l)+1):\n",
        "    print(l[i])\n",
        "    try:\n",
        "      a=l[i]/i\n",
        "    except Exception as e:\n",
        "      print(e)\n",
        "except Exception as e:\n",
        "  print(e)"
      ],
      "metadata": {
        "colab": {
          "base_uri": "https://localhost:8080/"
        },
        "id": "aroqPSU2JNVx",
        "outputId": "073c1e0e-0fb8-4711-911c-978d9902d275"
      },
      "execution_count": 26,
      "outputs": [
        {
          "output_type": "stream",
          "name": "stdout",
          "text": [
            "2\n",
            "division by zero\n",
            "5\n",
            "6\n",
            "7\n",
            "2\n",
            "list index out of range\n"
          ]
        }
      ]
    },
    {
      "cell_type": "code",
      "source": [
        "def funct1():      # keep executing a function till user enters an integer value\n",
        "  try:\n",
        "    a=int(input())\n",
        "    print(\"this is an integer\",a)\n",
        "  except:\n",
        "    print(\"please enter integer\")\n",
        "    funct1()\n"
      ],
      "metadata": {
        "id": "VZ4pXRZpFJbc"
      },
      "execution_count": 27,
      "outputs": []
    },
    {
      "cell_type": "code",
      "source": [
        "funct1()"
      ],
      "metadata": {
        "colab": {
          "base_uri": "https://localhost:8080/"
        },
        "id": "jk8-y7c4FY1Y",
        "outputId": "dac1e95f-1704-4c5e-89c9-491344376b23"
      },
      "execution_count": 28,
      "outputs": [
        {
          "output_type": "stream",
          "name": "stdout",
          "text": [
            "ghj\n",
            "please enter integer\n",
            "122\n",
            "this is an integer 122\n"
          ]
        }
      ]
    },
    {
      "cell_type": "code",
      "source": [
        "l=[2,5,6,7,2]\n",
        "\n",
        "try:\n",
        "  for i in range(len(l)+1):\n",
        "    print(l[i])\n",
        "except Exception as e:\n",
        "  print(e)\n",
        "else:\n",
        "  print(\"this block will execute only if try blocks runs without error\")"
      ],
      "metadata": {
        "colab": {
          "base_uri": "https://localhost:8080/"
        },
        "id": "BxTIW6EjKH8O",
        "outputId": "9544c3ed-78ce-41cd-918d-58508a33b5ff"
      },
      "execution_count": 30,
      "outputs": [
        {
          "output_type": "stream",
          "name": "stdout",
          "text": [
            "2\n",
            "5\n",
            "6\n",
            "7\n",
            "2\n",
            "list index out of range\n"
          ]
        }
      ]
    },
    {
      "cell_type": "code",
      "source": [
        "l=[2,5,6,7,2]\n",
        "\n",
        "try:\n",
        "  for i in range(len(l)+1):\n",
        "    print(l[i])\n",
        "except Exception as e:\n",
        "  print(e)\n",
        "finally:\n",
        "  print(\"this block will execute every time\")"
      ],
      "metadata": {
        "id": "gE77nrLMJ9p2"
      },
      "execution_count": null,
      "outputs": []
    }
  ]
}