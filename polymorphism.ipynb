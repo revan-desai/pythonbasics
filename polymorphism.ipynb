{
  "nbformat": 4,
  "nbformat_minor": 0,
  "metadata": {
    "colab": {
      "provenance": [],
      "authorship_tag": "ABX9TyN4FGXtvaKvroVXiSrSgS60",
      "include_colab_link": true
    },
    "kernelspec": {
      "name": "python3",
      "display_name": "Python 3"
    },
    "language_info": {
      "name": "python"
    }
  },
  "cells": [
    {
      "cell_type": "markdown",
      "metadata": {
        "id": "view-in-github",
        "colab_type": "text"
      },
      "source": [
        "<a href=\"https://colab.research.google.com/github/revan-desai/pythonbasics/blob/main/polymorphism.ipynb\" target=\"_parent\"><img src=\"https://colab.research.google.com/assets/colab-badge.svg\" alt=\"Open In Colab\"/></a>"
      ]
    },
    {
      "cell_type": "code",
      "execution_count": 14,
      "metadata": {
        "colab": {
          "base_uri": "https://localhost:8080/"
        },
        "id": "Yb_566p7-MHr",
        "outputId": "ae794fc7-66e5-4b3f-c625-d1f5e373211b"
      },
      "outputs": [
        {
          "output_type": "stream",
          "name": "stdout",
          "text": [
            "this vehicle type is  4wheeler\n",
            "this vehicle type is  4wheeler\n",
            "this vehicle type is  4wheeler\n",
            "this vehicle type is  4wheeler\n",
            "this vehicle type is bus marcopolo\n",
            "this vehicle type is car hyundai\n",
            "this vehicle type is bike pulsor\n"
          ]
        }
      ],
      "source": [
        "class vehicle:\n",
        "  def __init__(k,vehtype,brand):\n",
        "     k.vehtype=vehtype\n",
        "     k.brand=brand\n",
        "  def speed1(k):\n",
        "    print(\"this vehicle type is \",k.vehtype)\n",
        "class bus(vehicle):\n",
        "    def speed(k):\n",
        "       print(\"this vehicle type is bus\",k.brand)\n",
        "class car(vehicle):\n",
        "     def speed(k):\n",
        "      print(\"this vehicle type is car\", k.brand)\n",
        "class bike(vehicle):\n",
        "    def speed(k):\n",
        "      print(\"this vehicle type is bike\",k.brand)\n",
        "d=vehicle(\"4wheeler\",\"honda\")\n",
        "e=bus(\"4wheeler\",\"marcopolo\")\n",
        "f=car(\"4wheeler\",\"hyundai\")\n",
        "h=bike(\"4wheeler\",\"pulsor\")\n",
        "for i in (d,e,f,h):\n",
        "     i.speed1()\n",
        "for i in (e,f,h):\n",
        "     i.speed()\n",
        "\n"
      ]
    }
  ]
}