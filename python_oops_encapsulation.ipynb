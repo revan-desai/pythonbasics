{
  "nbformat": 4,
  "nbformat_minor": 0,
  "metadata": {
    "colab": {
      "provenance": [],
      "authorship_tag": "ABX9TyNIZ46AJagyuaEIzWZm2rEG",
      "include_colab_link": true
    },
    "kernelspec": {
      "name": "python3",
      "display_name": "Python 3"
    },
    "language_info": {
      "name": "python"
    }
  },
  "cells": [
    {
      "cell_type": "markdown",
      "metadata": {
        "id": "view-in-github",
        "colab_type": "text"
      },
      "source": [
        "<a href=\"https://colab.research.google.com/github/revan-desai/pythonbasics/blob/main/python_oops_encapsulation.ipynb\" target=\"_parent\"><img src=\"https://colab.research.google.com/assets/colab-badge.svg\" alt=\"Open In Colab\"/></a>"
      ]
    },
    {
      "cell_type": "code",
      "execution_count": 104,
      "metadata": {
        "id": "WV738WXnH-ou",
        "colab": {
          "base_uri": "https://localhost:8080/"
        },
        "outputId": "d1730e91-4b57-4ce0-dc3a-c4bcab24106b"
      },
      "outputs": [
        {
          "output_type": "stream",
          "name": "stdout",
          "text": [
            "may2025\n",
            "cipla\n",
            "medicine\n",
            "medicineciplamay2025\n"
          ]
        }
      ],
      "source": [
        "class Capsule1:\n",
        "  def __init__(self):\n",
        "    self.__name=\"medicine\"      #private starts with double underscore\n",
        "    self.__brand=\"cipla\"        #private starts with double underscore\n",
        "    self.date=\"may2025\"         #not private\n",
        "  def orders1(self):\n",
        "       return self.__name+self.__brand+self.date\n",
        "\n",
        "c=Capsule1()\n",
        "print(c.date)\n",
        "# print(c.__name)        # you cant access these two variables in this way\n",
        "# print(c.__brand)       # you cant access these two variables in this way\n",
        "\n",
        "print(c._Capsule1__brand)    # in this way you can access it.\n",
        "print(c._Capsule1__name)\n",
        "print(c.orders1())"
      ]
    },
    {
      "cell_type": "code",
      "source": [
        "class Capsule2(Capsule1):         #inheritance\n",
        "  def orders2(self):\n",
        "         return self.date\n",
        "\n",
        "c2=Capsule2()\n",
        "\n",
        "print(c2.orders2())\n",
        "print(c2.orders1())                   #indirectly you can access private varibles beacuse we used encapsulation in class Capsule1\n",
        "print(c2.date)\n",
        "# print(c2.__brand)                   # observe you cant directly access private varibles of any class by any means.\n",
        "# print(c2.__name)\n",
        "# print(c2._Capsule2__name)"
      ],
      "metadata": {
        "colab": {
          "base_uri": "https://localhost:8080/"
        },
        "id": "pybfDu9HdN58",
        "outputId": "fa8286f0-63ae-488e-f295-195dc5a31464"
      },
      "execution_count": 68,
      "outputs": [
        {
          "output_type": "stream",
          "name": "stdout",
          "text": [
            "may2025\n",
            "medicineciplamay2025\n",
            "may2025\n"
          ]
        }
      ]
    },
    {
      "cell_type": "markdown",
      "source": [
        "## setter and getter methods"
      ],
      "metadata": {
        "id": "U4KOwtDz2cfv"
      }
    },
    {
      "cell_type": "code",
      "source": [
        "class City:\n",
        "  def __init__(self):\n",
        "    self.__city=\"delhi\"\n",
        "\n",
        "  def setCity(self,name):\n",
        "    self.__city=name\n",
        "  def getCity(self):\n",
        "    return self.__city\n",
        "\n",
        "c=City()\n",
        "\n",
        "# print(c.__city)         # cant access directly  hence used setter and getter\n",
        "\n",
        "c.setCity('mumbai')\n",
        "\n",
        "print(c.getCity())\n",
        "\n",
        "      # try commenting set method and see the output\n",
        ""
      ],
      "metadata": {
        "colab": {
          "base_uri": "https://localhost:8080/"
        },
        "id": "P9ai2H9gxRqI",
        "outputId": "b3b26ab8-86fb-4195-99ec-27feb597d7a6"
      },
      "execution_count": 95,
      "outputs": [
        {
          "output_type": "stream",
          "name": "stdout",
          "text": [
            "mumbai\n"
          ]
        }
      ]
    },
    {
      "cell_type": "code",
      "source": [
        "class Address(City):\n",
        "    pass\n",
        "\n",
        "\n",
        "\n",
        "a=Address()\n",
        "\n",
        "# a.setCity('kolkata')\n",
        "\n",
        "a.getCity()   #although city is private but we are accessing it through public method getCity indirectly\n"
      ],
      "metadata": {
        "colab": {
          "base_uri": "https://localhost:8080/",
          "height": 35
        },
        "id": "Ve6K1Gk3ppVz",
        "outputId": "2efeb6c8-ba90-4397-836f-d897fb9af7c1"
      },
      "execution_count": 105,
      "outputs": [
        {
          "output_type": "execute_result",
          "data": {
            "text/plain": [
              "'delhi'"
            ],
            "application/vnd.google.colaboratory.intrinsic+json": {
              "type": "string"
            }
          },
          "metadata": {},
          "execution_count": 105
        }
      ]
    }
  ]
}