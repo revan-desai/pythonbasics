{
  "nbformat": 4,
  "nbformat_minor": 0,
  "metadata": {
    "colab": {
      "provenance": [],
      "authorship_tag": "ABX9TyOH9zsJXs5ry2DitCXyOJY2",
      "include_colab_link": true
    },
    "kernelspec": {
      "name": "python3",
      "display_name": "Python 3"
    },
    "language_info": {
      "name": "python"
    }
  },
  "cells": [
    {
      "cell_type": "markdown",
      "metadata": {
        "id": "view-in-github",
        "colab_type": "text"
      },
      "source": [
        "<a href=\"https://colab.research.google.com/github/revan-desai/pythonbasics/blob/main/python_string_part24.ipynb\" target=\"_parent\"><img src=\"https://colab.research.google.com/assets/colab-badge.svg\" alt=\"Open In Colab\"/></a>"
      ]
    },
    {
      "cell_type": "code",
      "execution_count": 17,
      "metadata": {
        "colab": {
          "base_uri": "https://localhost:8080/"
        },
        "id": "GL4U6YTk5eve",
        "outputId": "0f8b6bdb-89ab-4e1e-e5e4-2a9ba21907d4"
      },
      "outputs": [
        {
          "output_type": "stream",
          "name": "stdout",
          "text": [
            "nexon\n",
            "model is fortuner\n",
            "model is nexon\n"
          ]
        }
      ],
      "source": [
        "class car:\n",
        "  def __init__(self,brand,year,model):\n",
        "    self.brand1=brand\n",
        "    self.year1=year\n",
        "    self.model1=model\n",
        "  def test(self):\n",
        "    print(f\"model is {self.model1}\")\n",
        "\n",
        "tata=car(\"tata\",2014,\"nexon\")\n",
        "toyota=car(\"toyota\",2015,\"fortuner\")\n",
        "print(tata.model1)\n",
        "toyota.test()\n",
        "tata.test()"
      ]
    },
    {
      "cell_type": "code",
      "source": [
        "value1=input()   #type(value1)=str\n",
        "value2=int(input())"
      ],
      "metadata": {
        "id": "kncYrPJZOXP2"
      },
      "execution_count": 46,
      "outputs": []
    },
    {
      "cell_type": "code",
      "source": [
        "a=\"python is programming language\"\n",
        "a.find(\"z\")   # when character not found it will give - as output\n",
        "a.count(\"p\")"
      ],
      "metadata": {
        "colab": {
          "base_uri": "https://localhost:8080/"
        },
        "id": "SmqPNf7rKyD1",
        "outputId": "a162d8ad-84a4-438c-ac82-e26907d1c2c8"
      },
      "execution_count": 44,
      "outputs": [
        {
          "output_type": "execute_result",
          "data": {
            "text/plain": [
              "2"
            ]
          },
          "metadata": {},
          "execution_count": 44
        }
      ]
    },
    {
      "cell_type": "code",
      "source": [
        "res=\" \".join(a)\n",
        "res"
      ],
      "metadata": {
        "colab": {
          "base_uri": "https://localhost:8080/",
          "height": 35
        },
        "id": "DWHoyp7LREGk",
        "outputId": "4b06d1de-abbd-4e99-e824-e0e0056c6100"
      },
      "execution_count": 52,
      "outputs": [
        {
          "output_type": "execute_result",
          "data": {
            "text/plain": [
              "'p y t h o n   i s   p r o g r a m m i n g   l a n g u a g e'"
            ],
            "application/vnd.google.colaboratory.intrinsic+json": {
              "type": "string"
            }
          },
          "metadata": {},
          "execution_count": 52
        }
      ]
    },
    {
      "cell_type": "code",
      "source": [
        "\"\".join(reversed(res))"
      ],
      "metadata": {
        "colab": {
          "base_uri": "https://localhost:8080/",
          "height": 35
        },
        "id": "Y8bRmnR6RSGD",
        "outputId": "8e08fea8-3610-48ea-bedc-6d230255bbdb"
      },
      "execution_count": 53,
      "outputs": [
        {
          "output_type": "execute_result",
          "data": {
            "text/plain": [
              "'e g a u g n a l   g n i m m a r g o r p   s i   n o h t y p'"
            ],
            "application/vnd.google.colaboratory.intrinsic+json": {
              "type": "string"
            }
          },
          "metadata": {},
          "execution_count": 53
        }
      ]
    },
    {
      "cell_type": "code",
      "source": [
        "for i in reversed(res):\n",
        "  print(i,end=\"\")"
      ],
      "metadata": {
        "colab": {
          "base_uri": "https://localhost:8080/"
        },
        "id": "w4AEPYi5Ra3B",
        "outputId": "a1e68f1b-1b9d-4728-b78d-9f4ad26d6ce5"
      },
      "execution_count": 55,
      "outputs": [
        {
          "output_type": "stream",
          "name": "stdout",
          "text": [
            "e g a u g n a l   g n i m m a r g o r p   s i   n o h t y p"
          ]
        }
      ]
    },
    {
      "cell_type": "code",
      "source": [
        "a=a.replace(\"python\",\"java\")\n",
        "\n",
        "print(a)"
      ],
      "metadata": {
        "colab": {
          "base_uri": "https://localhost:8080/"
        },
        "id": "Z1u8WCshSy96",
        "outputId": "cd867f41-f24a-4314-ef54-32174875b0fc"
      },
      "execution_count": 59,
      "outputs": [
        {
          "output_type": "stream",
          "name": "stdout",
          "text": [
            "java is programming language\n"
          ]
        }
      ]
    },
    {
      "cell_type": "code",
      "source": [
        "a=sorted(a)\n",
        "print(a)"
      ],
      "metadata": {
        "colab": {
          "base_uri": "https://localhost:8080/"
        },
        "id": "6GK-EqYoTI1S",
        "outputId": "da0f5bda-a149-43d1-afd3-9efe2370368a"
      },
      "execution_count": 63,
      "outputs": [
        {
          "output_type": "stream",
          "name": "stdout",
          "text": [
            "[' ', ' ', ' ', 'a', 'a', 'a', 'a', 'a', 'e', 'g', 'g', 'g', 'g', 'i', 'i', 'j', 'l', 'm', 'm', 'n', 'n', 'o', 'p', 'r', 'r', 's', 'u', 'v']\n"
          ]
        }
      ]
    },
    {
      "cell_type": "code",
      "source": [
        "s=\"bottle\"\n",
        "s[0]=\"t\"   # this will throw error bcoz string is immutable entity"
      ],
      "metadata": {
        "id": "0B1LlNAxT0AS"
      },
      "execution_count": 65,
      "outputs": []
    },
    {
      "cell_type": "code",
      "source": [],
      "metadata": {
        "id": "SqFFznlNT0DP"
      },
      "execution_count": null,
      "outputs": []
    }
  ]
}