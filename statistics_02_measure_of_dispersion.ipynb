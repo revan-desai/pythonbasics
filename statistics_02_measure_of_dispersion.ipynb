{
  "nbformat": 4,
  "nbformat_minor": 0,
  "metadata": {
    "colab": {
      "provenance": [],
      "authorship_tag": "ABX9TyNh7OmehguphJBcKvwlgGjC",
      "include_colab_link": true
    },
    "kernelspec": {
      "name": "python3",
      "display_name": "Python 3"
    },
    "language_info": {
      "name": "python"
    }
  },
  "cells": [
    {
      "cell_type": "markdown",
      "metadata": {
        "id": "view-in-github",
        "colab_type": "text"
      },
      "source": [
        "<a href=\"https://colab.research.google.com/github/revan-desai/pythonbasics/blob/main/statistics_02_measure_of_dispersion.ipynb\" target=\"_parent\"><img src=\"https://colab.research.google.com/assets/colab-badge.svg\" alt=\"Open In Colab\"/></a>"
      ]
    },
    {
      "cell_type": "code",
      "source": [
        "import numpy as np\n",
        "\n",
        "import pandas as pd\n",
        "\n",
        "import matplotlib.pyplot as plt\n",
        "\n",
        "import seaborn as sns"
      ],
      "metadata": {
        "id": "rCcfEHfcfwKm"
      },
      "execution_count": 2,
      "outputs": []
    },
    {
      "cell_type": "code",
      "execution_count": 19,
      "metadata": {
        "colab": {
          "base_uri": "https://localhost:8080/"
        },
        "id": "LMz8eQq2fQ9-",
        "outputId": "8bff8f7c-2c4a-41c4-ede6-ae0e85440670"
      },
      "outputs": [
        {
          "output_type": "stream",
          "name": "stdout",
          "text": [
            "26.153846153846153\n",
            "23.0\n",
            "[12, 16, 18, 18, 20, 22, 23, 25, 25, 25, 39, 42, 55]\n"
          ]
        }
      ],
      "source": [
        "\n",
        "ages=[18,16,12,25,39,42,22,23,55,25,25,18,20]\n",
        "\n",
        "print(np.mean(ages))\n",
        "\n",
        "print(np.median(ages))    #middle element in sorted dataset ....if not present then average of middle two elements\n",
        "\n",
        "print(sorted(ages))"
      ]
    },
    {
      "cell_type": "code",
      "source": [
        "import statistics\n",
        "print(statistics.mean(ages))\n",
        "\n",
        "print(statistics.median(ages))\n",
        "\n",
        "print(statistics.mode(ages))"
      ],
      "metadata": {
        "colab": {
          "base_uri": "https://localhost:8080/"
        },
        "id": "h3mPsHQFgQ-x",
        "outputId": "bef58902-7bb5-4bf3-f728-ff5d327df06c"
      },
      "execution_count": 20,
      "outputs": [
        {
          "output_type": "stream",
          "name": "stdout",
          "text": [
            "26.153846153846153\n",
            "23\n",
            "25\n"
          ]
        }
      ]
    },
    {
      "cell_type": "code",
      "source": [],
      "metadata": {
        "id": "RgdDi-MzhyeZ"
      },
      "execution_count": null,
      "outputs": []
    }
  ]
}