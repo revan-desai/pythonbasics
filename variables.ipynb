{
  "nbformat": 4,
  "nbformat_minor": 0,
  "metadata": {
    "colab": {
      "provenance": [],
      "authorship_tag": "ABX9TyNZDpqzMqh0cLyGKKoEkT2g",
      "include_colab_link": true
    },
    "kernelspec": {
      "name": "python3",
      "display_name": "Python 3"
    },
    "language_info": {
      "name": "python"
    }
  },
  "cells": [
    {
      "cell_type": "markdown",
      "metadata": {
        "id": "view-in-github",
        "colab_type": "text"
      },
      "source": [
        "<a href=\"https://colab.research.google.com/github/revan-desai/pythonbasics/blob/main/variables.ipynb\" target=\"_parent\"><img src=\"https://colab.research.google.com/assets/colab-badge.svg\" alt=\"Open In Colab\"/></a>"
      ]
    },
    {
      "cell_type": "markdown",
      "source": [
        "###Python is case sensitive"
      ],
      "metadata": {
        "id": "uHbAAq68DaaG"
      }
    },
    {
      "cell_type": "code",
      "source": [
        "name=\"python\"\n",
        "Name=\"data\"\n",
        "NAME=\"neural\"\n",
        "if name==Name==NAME:\n",
        "  print(\"what?\")\n",
        "else:\n",
        "  print(\"ok\")"
      ],
      "metadata": {
        "colab": {
          "base_uri": "https://localhost:8080/"
        },
        "id": "3NQqyKC0DXz7",
        "outputId": "3de50837-8f14-4960-bdb4-007462c18116"
      },
      "execution_count": null,
      "outputs": [
        {
          "output_type": "stream",
          "name": "stdout",
          "text": [
            "ok\n"
          ]
        }
      ]
    },
    {
      "cell_type": "code",
      "execution_count": null,
      "metadata": {
        "colab": {
          "base_uri": "https://localhost:8080/"
        },
        "id": "gvKw3bnq9jSN",
        "outputId": "ee4e3960-3c54-422f-d82c-b1e14ce00916"
      },
      "outputs": [
        {
          "output_type": "execute_result",
          "data": {
            "text/plain": [
              "28000000000.0"
            ]
          },
          "metadata": {},
          "execution_count": 5
        }
      ],
      "source": [
        "a=9\n",
        "b=5.5\n",
        "c=\"pytorch\"\n",
        "k=\"m\"  #python not having character data type\n",
        "d=True\n",
        "e=5+9j\n",
        "f=2.8e10\n",
        "f\n",
        "\n"
      ]
    },
    {
      "cell_type": "markdown",
      "source": [
        "### Assign multiple values"
      ],
      "metadata": {
        "id": "T1CkcLO_CKw7"
      }
    },
    {
      "cell_type": "code",
      "source": [
        "x,y,z=\"numpy\",\"pandas\",\"kedro\"\n",
        "print(x+\" \"+y+\" \"+z)"
      ],
      "metadata": {
        "colab": {
          "base_uri": "https://localhost:8080/"
        },
        "id": "vBqZNQ_5CVyp",
        "outputId": "5363ad01-29b1-42ac-dd1a-e5b5199e128a"
      },
      "execution_count": null,
      "outputs": [
        {
          "output_type": "stream",
          "name": "stdout",
          "text": [
            "numpy pandas kedro\n"
          ]
        }
      ]
    },
    {
      "cell_type": "code",
      "source": [
        "x=y=z=\"learning\"\n",
        "print(x)\n",
        "print(y)\n",
        "print(z)"
      ],
      "metadata": {
        "colab": {
          "base_uri": "https://localhost:8080/"
        },
        "id": "YFI3QHTcC79T",
        "outputId": "548cda34-0168-4c36-e70a-7ce9f37345c7"
      },
      "execution_count": null,
      "outputs": [
        {
          "output_type": "stream",
          "name": "stdout",
          "text": [
            "learning\n",
            "learning\n",
            "learning\n"
          ]
        }
      ]
    },
    {
      "cell_type": "code",
      "source": [
        "math=[\"add\",\"divide\",\"multiply\"]\n",
        "a,b,c=math\n",
        "print(a)\n",
        "print(b)\n",
        "print(c)"
      ],
      "metadata": {
        "colab": {
          "base_uri": "https://localhost:8080/"
        },
        "id": "QBllBv2pF5x2",
        "outputId": "e6e3330b-8593-4acf-f4d6-71b644aa6af5"
      },
      "execution_count": null,
      "outputs": [
        {
          "output_type": "stream",
          "name": "stdout",
          "text": [
            "add\n",
            "divide\n",
            "multiply\n"
          ]
        }
      ]
    }
  ]
}