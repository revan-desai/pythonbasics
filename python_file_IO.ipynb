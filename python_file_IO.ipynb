{
  "nbformat": 4,
  "nbformat_minor": 0,
  "metadata": {
    "colab": {
      "provenance": [],
      "authorship_tag": "ABX9TyP+1inm96TGJN/YyT08kNcZ",
      "include_colab_link": true
    },
    "kernelspec": {
      "name": "python3",
      "display_name": "Python 3"
    },
    "language_info": {
      "name": "python"
    }
  },
  "cells": [
    {
      "cell_type": "markdown",
      "metadata": {
        "id": "view-in-github",
        "colab_type": "text"
      },
      "source": [
        "<a href=\"https://colab.research.google.com/github/revan-desai/pythonbasics/blob/main/python_file_IO.ipynb\" target=\"_parent\"><img src=\"https://colab.research.google.com/assets/colab-badge.svg\" alt=\"Open In Colab\"/></a>"
      ]
    },
    {
      "cell_type": "code",
      "execution_count": 9,
      "metadata": {
        "colab": {
          "base_uri": "https://localhost:8080/"
        },
        "id": "0zyBVhpI3O2D",
        "outputId": "301605af-d388-411f-87ad-6f94207ec097"
      },
      "outputs": [
        {
          "output_type": "stream",
          "name": "stdout",
          "text": [
            "dubai is awesome\n"
          ]
        }
      ],
      "source": [
        "f=open('myfile.txt','r')   # read\n",
        "\n",
        "text=f.read()\n",
        "\n",
        "print(text)\n"
      ]
    },
    {
      "cell_type": "code",
      "source": [
        "f=open('myfile.txt','w')    # write\n",
        "\n",
        "entertext=f.write('dubai is awesome')\n",
        "\n",
        "f.close()"
      ],
      "metadata": {
        "id": "ND2XJ_r33-iz"
      },
      "execution_count": 14,
      "outputs": []
    },
    {
      "cell_type": "code",
      "source": [
        "f=open('myfile.txt','a')    # append\n",
        "\n",
        "entertext=f.write(' dubai is awesome ')\n",
        "\n",
        "f.close()"
      ],
      "metadata": {
        "id": "igW8Wmm1548L"
      },
      "execution_count": 15,
      "outputs": []
    }
  ]
}