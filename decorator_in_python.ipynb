{
  "nbformat": 4,
  "nbformat_minor": 0,
  "metadata": {
    "colab": {
      "provenance": [],
      "authorship_tag": "ABX9TyOKYw9aGFDR5qLs9AoKlsoc",
      "include_colab_link": true
    },
    "kernelspec": {
      "name": "python3",
      "display_name": "Python 3"
    },
    "language_info": {
      "name": "python"
    }
  },
  "cells": [
    {
      "cell_type": "markdown",
      "metadata": {
        "id": "view-in-github",
        "colab_type": "text"
      },
      "source": [
        "<a href=\"https://colab.research.google.com/github/revan-desai/pythonbasics/blob/main/decorator_in_python.ipynb\" target=\"_parent\"><img src=\"https://colab.research.google.com/assets/colab-badge.svg\" alt=\"Open In Colab\"/></a>"
      ]
    },
    {
      "cell_type": "code",
      "execution_count": 13,
      "metadata": {
        "colab": {
          "base_uri": "https://localhost:8080/"
        },
        "id": "NFHRjHlH44Oz",
        "outputId": "8483b162-9a1a-42c8-c9b5-24635a400e39"
      },
      "outputs": [
        {
          "output_type": "stream",
          "name": "stdout",
          "text": [
            "time took  2.0033061504364014\n"
          ]
        }
      ],
      "source": [
        "import time\n",
        "def tictoc(func):\n",
        "  def wrapper():\n",
        "    t1=time.time()\n",
        "    func()\n",
        "    t2=time.time()-t1\n",
        "    print(\"time took \",t2)\n",
        "  return wrapper\n",
        "\n",
        "@tictoc\n",
        "def func1():\n",
        "  time.sleep(2)\n",
        "\n",
        "func1()"
      ]
    },
    {
      "cell_type": "code",
      "source": [
        "def tictoc(func):\n",
        "  def wrapper():\n",
        "    print(f\"calling a function {func.__name__}\")\n",
        "    func()\n",
        "  return wrapper\n",
        "\n",
        "@tictoc\n",
        "def addition():\n",
        "  x=5\n",
        "  y=10\n",
        "  print(x+y)\n",
        "@tictoc\n",
        "def sub():\n",
        "  x=5\n",
        "  y=10\n",
        "  print(x-y)\n",
        "@tictoc\n",
        "def division():\n",
        "  x=5\n",
        "  y=10\n",
        "  print(x//y)\n",
        "@tictoc\n",
        "def multiply():\n",
        "  x=5\n",
        "  y=10\n",
        "  print(x*y)\n",
        "\n",
        "print(addition(),sub(),division(),multiply())\n",
        "\n"
      ],
      "metadata": {
        "colab": {
          "base_uri": "https://localhost:8080/"
        },
        "id": "zOTBROKu_BxZ",
        "outputId": "bd1df81b-0bb8-4c55-ae17-8c7d93eb637f"
      },
      "execution_count": 25,
      "outputs": [
        {
          "output_type": "stream",
          "name": "stdout",
          "text": [
            "calling a function addition\n",
            "15\n",
            "calling a function sub\n",
            "-5\n",
            "calling a function division\n",
            "0\n",
            "calling a function multiply\n",
            "50\n",
            "None None None None\n"
          ]
        }
      ]
    },
    {
      "cell_type": "code",
      "source": [
        "import requests\n",
        "url=\"https://www.google.com\"\n",
        "\n",
        "response=requests.get(url)\n",
        "\n",
        "if response.status_code==200:\n",
        "  print(\"success\")\n",
        "else:\n",
        "  print(response.status_code)"
      ],
      "metadata": {
        "colab": {
          "base_uri": "https://localhost:8080/"
        },
        "id": "blmLm8elsYLz",
        "outputId": "08f1bc76-753b-458d-9e4a-35135c66159f"
      },
      "execution_count": 10,
      "outputs": [
        {
          "output_type": "stream",
          "name": "stdout",
          "text": [
            "success\n"
          ]
        }
      ]
    },
    {
      "cell_type": "code",
      "source": [
        "import time\n",
        "def decora(func):\n",
        "  def wrapper():\n",
        "    t1=time.time()\n",
        "    func()\n",
        "    t2=time.time()-t1\n",
        "    print(\"time took\",t2)\n",
        "  return wrapper\n",
        "\n",
        "@decora\n",
        "def addition():\n",
        "  x=5\n",
        "  y=10\n",
        "  time.sleep(2)\n",
        "  print(x+y)\n",
        "\n",
        "addition()"
      ],
      "metadata": {
        "colab": {
          "base_uri": "https://localhost:8080/"
        },
        "id": "2pnvBWjM_M3K",
        "outputId": "17983ec4-1120-4fe3-8eca-66e763fe4ba0"
      },
      "execution_count": 27,
      "outputs": [
        {
          "output_type": "stream",
          "name": "stdout",
          "text": [
            "15\n",
            "time took 2.003904104232788\n"
          ]
        }
      ]
    },
    {
      "cell_type": "code",
      "source": [],
      "metadata": {
        "id": "i1wsgWHS64pa"
      },
      "execution_count": null,
      "outputs": []
    }
  ]
}