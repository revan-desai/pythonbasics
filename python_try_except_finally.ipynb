{
  "nbformat": 4,
  "nbformat_minor": 0,
  "metadata": {
    "colab": {
      "provenance": [],
      "authorship_tag": "ABX9TyPDl6PIu/DxGs3q0u6bTwoE",
      "include_colab_link": true
    },
    "kernelspec": {
      "name": "python3",
      "display_name": "Python 3"
    },
    "language_info": {
      "name": "python"
    }
  },
  "cells": [
    {
      "cell_type": "markdown",
      "metadata": {
        "id": "view-in-github",
        "colab_type": "text"
      },
      "source": [
        "<a href=\"https://colab.research.google.com/github/revan-desai/pythonbasics/blob/main/python_try_except_finally.ipynb\" target=\"_parent\"><img src=\"https://colab.research.google.com/assets/colab-badge.svg\" alt=\"Open In Colab\"/></a>"
      ]
    },
    {
      "cell_type": "code",
      "execution_count": null,
      "metadata": {
        "colab": {
          "base_uri": "https://localhost:8080/"
        },
        "id": "X313fO2JQ0ah",
        "outputId": "650a45d5-b713-45f6-b835-d8bf36a3a4bb"
      },
      "outputs": [
        {
          "output_type": "stream",
          "name": "stdout",
          "text": [
            "someting went wrong\n"
          ]
        }
      ],
      "source": [
        "try:\n",
        "  print(city)\n",
        "except:\n",
        "  print(\"someting went wrong\")\n"
      ]
    },
    {
      "cell_type": "code",
      "source": [
        "city=\"pune\"\n",
        "try:\n",
        "  print(city)\n",
        "except:\n",
        "  print(\"error\")\n",
        "else:\n",
        "  print(\"nothing went wrong\")"
      ],
      "metadata": {
        "colab": {
          "base_uri": "https://localhost:8080/"
        },
        "id": "pv4N3FTchcmT",
        "outputId": "333b9290-abac-40ff-fd92-8ee873fa9b23"
      },
      "execution_count": null,
      "outputs": [
        {
          "output_type": "stream",
          "name": "stdout",
          "text": [
            "pune\n",
            "nothing went wrong\n"
          ]
        }
      ]
    },
    {
      "cell_type": "markdown",
      "source": [
        "##finally block\n",
        "##The finally block, if specified, will be executed regardless if the try block raises an error or not."
      ],
      "metadata": {
        "id": "66GUL2hL_bpl"
      }
    },
    {
      "cell_type": "code",
      "source": [
        "try:\n",
        "  print(x)\n",
        "except:\n",
        "  print(\"Something went wrong\")\n",
        "finally:\n",
        "  print(\"this block will execute every time\")"
      ],
      "metadata": {
        "id": "4PB1Ol6Ngr1X",
        "colab": {
          "base_uri": "https://localhost:8080/"
        },
        "outputId": "1b65f525-ac9e-41ce-ab47-4858099517ff"
      },
      "execution_count": 1,
      "outputs": [
        {
          "output_type": "stream",
          "name": "stdout",
          "text": [
            "Something went wrong\n",
            "this block will execute every time\n"
          ]
        }
      ]
    },
    {
      "cell_type": "code",
      "source": [],
      "metadata": {
        "id": "bmUs0wfeAFvh"
      },
      "execution_count": null,
      "outputs": []
    }
  ]
}