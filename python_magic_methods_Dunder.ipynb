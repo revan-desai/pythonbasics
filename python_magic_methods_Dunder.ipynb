{
  "nbformat": 4,
  "nbformat_minor": 0,
  "metadata": {
    "colab": {
      "provenance": [],
      "authorship_tag": "ABX9TyNTx2YymbHeu62ocIBSavgB",
      "include_colab_link": true
    },
    "kernelspec": {
      "name": "python3",
      "display_name": "Python 3"
    },
    "language_info": {
      "name": "python"
    }
  },
  "cells": [
    {
      "cell_type": "markdown",
      "metadata": {
        "id": "view-in-github",
        "colab_type": "text"
      },
      "source": [
        "<a href=\"https://colab.research.google.com/github/revan-desai/pythonbasics/blob/main/python_magic_methods_Dunder.ipynb\" target=\"_parent\"><img src=\"https://colab.research.google.com/assets/colab-badge.svg\" alt=\"Open In Colab\"/></a>"
      ]
    },
    {
      "cell_type": "markdown",
      "source": [
        "## understand what is self argument first.\n",
        "\n",
        "1.instead of self you can use any other name\n",
        "\n",
        "2.when you pass arguments self is automatically get passed  so when you pass 2 arguments it actually pass 3 arguments\n",
        "\n",
        "3.In every function we **generally** pass self argument\n",
        "\n",
        "e.g in __len__(self):  ,__str__(self):, __repr__(self):"
      ],
      "metadata": {
        "id": "ATSlm98_9Tzk"
      }
    },
    {
      "cell_type": "markdown",
      "source": [
        "## 1. init method will be called automatically when you create instance of class"
      ],
      "metadata": {
        "id": "Jgl9qS6coyxa"
      }
    },
    {
      "cell_type": "code",
      "execution_count": 24,
      "metadata": {
        "colab": {
          "base_uri": "https://localhost:8080/"
        },
        "id": "Yx9V0HR2LueJ",
        "outputId": "94d7f489-7216-4697-a7dc-377d1d7b0459"
      },
      "outputs": [
        {
          "output_type": "stream",
          "name": "stdout",
          "text": [
            "john 25\n",
            "typing_extensions.Self\n",
            "<__main__.person object at 0x79a863a99a20>\n"
          ]
        }
      ],
      "source": [
        "class person:\n",
        "  def __init__(self,name,age):\n",
        "    self.name=name\n",
        "    self.age=age\n",
        "    print(name,age)\n",
        "\n",
        "p=person('john',25)\n",
        "print(p)"
      ]
    },
    {
      "cell_type": "markdown",
      "source": [
        "##2. len method"
      ],
      "metadata": {
        "id": "qZz73BpKpCuH"
      }
    },
    {
      "cell_type": "code",
      "source": [
        "class person:\n",
        "  name='william'\n",
        "\n",
        "  def __len__(self):\n",
        "\n",
        "    for i in range(len(self.name)):\n",
        "      pass\n",
        "\n",
        "    return i+1\n",
        "\n",
        "\n",
        "\n",
        "p=person()\n",
        "\n",
        "print(len(p.name))\n",
        "\n",
        "print(len(p))\n",
        "\n"
      ],
      "metadata": {
        "colab": {
          "base_uri": "https://localhost:8080/"
        },
        "id": "zhGuwVUjNIXr",
        "outputId": "bb56a337-2118-4e0a-c006-841c0c4b5fca"
      },
      "execution_count": null,
      "outputs": [
        {
          "output_type": "stream",
          "name": "stdout",
          "text": [
            "7\n",
            "7\n"
          ]
        }
      ]
    },
    {
      "cell_type": "markdown",
      "source": [
        "## 1. str() displays today’s date in a way that the user can understand the date and time.\n",
        "## 2. repr() prints an “official” representation of a date-time object (**means using the “official” string representation we can reconstruct the object**)."
      ],
      "metadata": {
        "id": "1xWEw0C6BZR-"
      }
    },
    {
      "cell_type": "code",
      "source": [
        "import datetime\n",
        "\n",
        "today=datetime.datetime.now()\n",
        "\n",
        "print(str(today))   #Prints readable format for date-time object\n",
        "\n",
        "print(repr(today))  #prints the official format of date-time object"
      ],
      "metadata": {
        "colab": {
          "base_uri": "https://localhost:8080/"
        },
        "id": "yKubnRxHBn0z",
        "outputId": "668fe7d6-e7a7-4662-ed38-181868761d5d"
      },
      "execution_count": 33,
      "outputs": [
        {
          "output_type": "stream",
          "name": "stdout",
          "text": [
            "2023-07-18 08:05:09.462696\n",
            "datetime.datetime(2023, 7, 18, 8, 5, 9, 462696)\n"
          ]
        }
      ]
    },
    {
      "cell_type": "markdown",
      "source": [
        "## 3. repr method"
      ],
      "metadata": {
        "id": "WwA8t1E_pWit"
      }
    },
    {
      "cell_type": "code",
      "source": [
        "class employee:\n",
        "\n",
        "  def __init__(self,name,age):\n",
        "    self.name=name\n",
        "    self.age=age\n",
        "\n",
        "  def __repr__(self):\n",
        "    return f\"{self.name}'s age is {self.age}.\"\n",
        "\n",
        "\n",
        "e=employee('john',25)\n",
        "\n",
        "print(e)\n",
        "\n"
      ],
      "metadata": {
        "colab": {
          "base_uri": "https://localhost:8080/"
        },
        "id": "I4-LSSog3JuZ",
        "outputId": "928bb7aa-4e5c-474d-b09d-f2bbc4564142"
      },
      "execution_count": 37,
      "outputs": [
        {
          "output_type": "stream",
          "name": "stdout",
          "text": [
            "john's age is 25.\n"
          ]
        }
      ]
    },
    {
      "cell_type": "code",
      "source": [
        "class employee:\n",
        "\n",
        "  def __init__(self,name,age):\n",
        "    self.name=name\n",
        "    self.age=age\n",
        "\n",
        "  def __repr__(self):\n",
        "    return \"{}'s age is {}.\".format(self.name,self.age)\n",
        "\n",
        "\n",
        "e=employee('john',25)\n",
        "\n",
        "print(e)\n"
      ],
      "metadata": {
        "colab": {
          "base_uri": "https://localhost:8080/"
        },
        "id": "kBOcLrFM_Ydn",
        "outputId": "5d50a92f-8842-4dc9-f689-971da064721f"
      },
      "execution_count": 41,
      "outputs": [
        {
          "output_type": "stream",
          "name": "stdout",
          "text": [
            "john's age is 25.\n"
          ]
        }
      ]
    },
    {
      "cell_type": "markdown",
      "source": [
        " # 4. str method"
      ],
      "metadata": {
        "id": "RrWq8TOOooUl"
      }
    },
    {
      "cell_type": "code",
      "source": [
        "class employee:\n",
        "  def __init__(self,name,age):\n",
        "    self.name=name\n",
        "    self.age=age\n",
        "\n",
        "  def __str__(self):\n",
        "    return f\"{self.name}'s age is {self.age}\"\n",
        "\n",
        "e=employee('john',25)\n",
        "\n",
        "print(e)"
      ],
      "metadata": {
        "colab": {
          "base_uri": "https://localhost:8080/"
        },
        "id": "uhJh0zOy3Jyd",
        "outputId": "b779dcfa-f26b-4493-82a6-7809125d497d"
      },
      "execution_count": 75,
      "outputs": [
        {
          "output_type": "stream",
          "name": "stdout",
          "text": [
            "john's age is 25\n"
          ]
        }
      ]
    },
    {
      "cell_type": "markdown",
      "source": [
        "## observe in below example how str method override repr"
      ],
      "metadata": {
        "id": "xBm8Bv2_tUN2"
      }
    },
    {
      "cell_type": "code",
      "source": [
        "class employee:\n",
        "  def __init__(self,name,salary):\n",
        "    self.name=name\n",
        "    self.salary=salary\n",
        "  def __repr__(self):\n",
        "    return f\"{self.name}'s salary is {self.salary}.\"\n",
        "  def __str__(self):\n",
        "    return \"{}'s salary is {}. and this is str.\".format(self.name,self.salary)\n",
        "\n",
        "e=employee('john',55000)\n",
        "\n",
        "# print(e)       # str method overrides repr method\n",
        "\n",
        "                 # but if you want repr method content to get print then\n",
        "                 #write print(repr(e))"
      ],
      "metadata": {
        "colab": {
          "base_uri": "https://localhost:8080/"
        },
        "id": "Z7eaoPpxtbjB",
        "outputId": "42a44610-b73c-4f9d-f33b-40bcb760a463"
      },
      "execution_count": 92,
      "outputs": [
        {
          "output_type": "stream",
          "name": "stdout",
          "text": [
            "john's salary is 55000.\n"
          ]
        }
      ]
    },
    {
      "cell_type": "markdown",
      "source": [
        "## 5. __call__() method"
      ],
      "metadata": {
        "id": "RjbYlbdjoSub"
      }
    },
    {
      "cell_type": "code",
      "source": [
        "class person:\n",
        "  def __init__(self,name,age):\n",
        "    self.name=name\n",
        "    self.age=age\n",
        "  def __call__(self):\n",
        "    print('inside call function')\n",
        "\n",
        "p=person('john',25)\n",
        "\n",
        "p()\n"
      ],
      "metadata": {
        "colab": {
          "base_uri": "https://localhost:8080/"
        },
        "id": "iSZhbZxPT1-x",
        "outputId": "5956b283-a98e-442c-f527-a0addc150a5f"
      },
      "execution_count": 78,
      "outputs": [
        {
          "output_type": "stream",
          "name": "stdout",
          "text": [
            "inside call function\n"
          ]
        }
      ]
    },
    {
      "cell_type": "code",
      "source": [
        "class person:\n",
        "  def __init__(self,name,age):\n",
        "    self.name=name\n",
        "    self.age=age\n",
        "  def __call__(self,y):\n",
        "    print('call this function',y)\n",
        "\n",
        "p=person('john',25)\n",
        "\n",
        "p('universe')"
      ],
      "metadata": {
        "colab": {
          "base_uri": "https://localhost:8080/"
        },
        "id": "9h5xDMOO3J3G",
        "outputId": "51ed468e-fac9-485e-80b1-dc671889a0c6"
      },
      "execution_count": 79,
      "outputs": [
        {
          "output_type": "stream",
          "name": "stdout",
          "text": [
            "call this function universe\n"
          ]
        }
      ]
    },
    {
      "cell_type": "markdown",
      "source": [
        "## 6 add method"
      ],
      "metadata": {
        "id": "SMpxKDw1p0eX"
      }
    },
    {
      "cell_type": "code",
      "source": [
        "class employee:\n",
        "\n",
        "  def __init__(self,name,pay):\n",
        "    self.name=name\n",
        "    self.pay=pay\n",
        "  def __add__(self,other):\n",
        "    return self.pay+other.pay\n",
        "\n",
        "d=employee('john',55000)\n",
        "d1=employee('rohan',75000)\n",
        "\n",
        "print(d+d1)\n",
        "                                      # also check output by commenting add method"
      ],
      "metadata": {
        "colab": {
          "base_uri": "https://localhost:8080/"
        },
        "id": "gVIdqjARp4GE",
        "outputId": "ab1327bd-66d8-4205-acef-aa204ea91c83"
      },
      "execution_count": 101,
      "outputs": [
        {
          "output_type": "stream",
          "name": "stdout",
          "text": [
            "130000\n"
          ]
        }
      ]
    }
  ]
}