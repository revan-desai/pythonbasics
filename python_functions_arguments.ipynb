{
  "nbformat": 4,
  "nbformat_minor": 0,
  "metadata": {
    "colab": {
      "provenance": [],
      "authorship_tag": "ABX9TyPPU5Y1x2VNxByupxqKBoNg",
      "include_colab_link": true
    },
    "kernelspec": {
      "name": "python3",
      "display_name": "Python 3"
    },
    "language_info": {
      "name": "python"
    }
  },
  "cells": [
    {
      "cell_type": "markdown",
      "metadata": {
        "id": "view-in-github",
        "colab_type": "text"
      },
      "source": [
        "<a href=\"https://colab.research.google.com/github/revan-desai/pythonbasics/blob/main/python_functions_arguments.ipynb\" target=\"_parent\"><img src=\"https://colab.research.google.com/assets/colab-badge.svg\" alt=\"Open In Colab\"/></a>"
      ]
    },
    {
      "cell_type": "code",
      "execution_count": 11,
      "metadata": {
        "colab": {
          "base_uri": "https://localhost:8080/"
        },
        "id": "KL3In1RtHfLy",
        "outputId": "78ea2622-47d3-40f9-fc89-ace2ca3d04d8"
      },
      "outputs": [
        {
          "output_type": "execute_result",
          "data": {
            "text/plain": [
              "466"
            ]
          },
          "metadata": {},
          "execution_count": 11
        }
      ],
      "source": [
        "def greaternumber(a,b,c):\n",
        "  if a>b and a>c:\n",
        "    max=a\n",
        "  elif b>a and b>c:\n",
        "    max=b\n",
        "  else:\n",
        "    max=c\n",
        "  return max\n",
        "\n",
        "greaternumber(66,5,466)"
      ]
    },
    {
      "cell_type": "code",
      "source": [
        "def add(a=5,b=10):\n",
        "   c=a+b\n",
        "   print(c)\n",
        "\n",
        "add()     # not passing any value so default values of a and b will be considered"
      ],
      "metadata": {
        "colab": {
          "base_uri": "https://localhost:8080/"
        },
        "id": "9e8eEWQzMdqY",
        "outputId": "4939a2ae-d9d8-42c5-f822-0d3994602449"
      },
      "execution_count": 12,
      "outputs": [
        {
          "output_type": "stream",
          "name": "stdout",
          "text": [
            "15\n"
          ]
        }
      ]
    },
    {
      "cell_type": "code",
      "source": [
        "def add(a=5,b=10):\n",
        "   c=a+b\n",
        "   print(c)\n",
        "\n",
        "add(55,75) # it will override the default values of a and b"
      ],
      "metadata": {
        "colab": {
          "base_uri": "https://localhost:8080/"
        },
        "id": "NVeNCPq9M_lz",
        "outputId": "c5ec6378-e59e-4eef-863a-0987738e9448"
      },
      "execution_count": 33,
      "outputs": [
        {
          "output_type": "stream",
          "name": "stdout",
          "text": [
            "130\n"
          ]
        }
      ]
    },
    {
      "cell_type": "code",
      "source": [
        "def add(b,a=50,c=10):       # you have to write b first  and you have to  compulsory pass the value of b\n",
        "  d=a+b+c\n",
        "  print(d)\n",
        "\n",
        "\n",
        "add(20)"
      ],
      "metadata": {
        "colab": {
          "base_uri": "https://localhost:8080/"
        },
        "id": "HAUYlaB-NI1J",
        "outputId": "a4d3faef-1d53-4a5a-8ef0-c3d79320b900"
      },
      "execution_count": 34,
      "outputs": [
        {
          "output_type": "stream",
          "name": "stdout",
          "text": [
            "80\n"
          ]
        }
      ]
    },
    {
      "cell_type": "code",
      "source": [
        "def add(a,b=50,c=10):\n",
        "  d=a+b+c\n",
        "  print(d)\n",
        "\n",
        "\n",
        "add(30)"
      ],
      "metadata": {
        "colab": {
          "base_uri": "https://localhost:8080/"
        },
        "id": "IUayyjSOPWlU",
        "outputId": "dcc40a10-bbcb-41cd-9e90-231656d3a81e"
      },
      "execution_count": 35,
      "outputs": [
        {
          "output_type": "stream",
          "name": "stdout",
          "text": [
            "90\n"
          ]
        }
      ]
    },
    {
      "cell_type": "code",
      "source": [
        "def average(*numbers):\n",
        "     print(type(numbers))                   # we have passed tuple\n",
        "     sum=0\n",
        "     for i in numbers:\n",
        "          sum=(sum+i)\n",
        "\n",
        "     sum1=sum/len(numbers)\n",
        "     return sum1\n",
        "\n",
        "\n",
        "average(5,6,8,4,15)"
      ],
      "metadata": {
        "colab": {
          "base_uri": "https://localhost:8080/"
        },
        "id": "mGctyatdQ477",
        "outputId": "c9cf575d-76d4-4856-bb20-572dae2f5c87"
      },
      "execution_count": 41,
      "outputs": [
        {
          "output_type": "stream",
          "name": "stdout",
          "text": [
            "<class 'tuple'>\n"
          ]
        },
        {
          "output_type": "execute_result",
          "data": {
            "text/plain": [
              "7.6"
            ]
          },
          "metadata": {},
          "execution_count": 41
        }
      ]
    },
    {
      "cell_type": "code",
      "source": [
        "def students(**student):                               # passing dictionarry\n",
        "   print(student['rahul'])\n",
        "\n",
        "\n",
        "#dict={'rahul':'pune','john':'delhi','kim':'mumbai'}\n",
        "\n",
        "\n",
        "students(rahul='pune',john='delhi',kim='mumbai')       # syntax is different"
      ],
      "metadata": {
        "colab": {
          "base_uri": "https://localhost:8080/"
        },
        "id": "FtTuBEHiSXpZ",
        "outputId": "bf18d0c4-e1ba-4c0d-e4c2-b73efe58274e"
      },
      "execution_count": 54,
      "outputs": [
        {
          "output_type": "stream",
          "name": "stdout",
          "text": [
            "pune\n"
          ]
        }
      ]
    }
  ]
}