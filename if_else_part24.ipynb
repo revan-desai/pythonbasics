{
  "nbformat": 4,
  "nbformat_minor": 0,
  "metadata": {
    "colab": {
      "provenance": [],
      "authorship_tag": "ABX9TyN/FCEieroIn7aMcwstNo1X",
      "include_colab_link": true
    },
    "kernelspec": {
      "name": "python3",
      "display_name": "Python 3"
    },
    "language_info": {
      "name": "python"
    }
  },
  "cells": [
    {
      "cell_type": "markdown",
      "metadata": {
        "id": "view-in-github",
        "colab_type": "text"
      },
      "source": [
        "<a href=\"https://colab.research.google.com/github/revan-desai/pythonbasics/blob/main/if_else_part24.ipynb\" target=\"_parent\"><img src=\"https://colab.research.google.com/assets/colab-badge.svg\" alt=\"Open In Colab\"/></a>"
      ]
    },
    {
      "cell_type": "code",
      "execution_count": 25,
      "metadata": {
        "colab": {
          "base_uri": "https://localhost:8080/"
        },
        "id": "ySBQ9sTaknJ7",
        "outputId": "21e1a48e-6bab-4d5f-fb4d-4f2f49a56ca3"
      },
      "outputs": [
        {
          "output_type": "execute_result",
          "data": {
            "text/plain": [
              "[5, 8, 11, 14, 17, 20, 23]"
            ]
          },
          "metadata": {},
          "execution_count": 25
        }
      ],
      "source": [
        "list(range(5,25,3))"
      ]
    },
    {
      "cell_type": "code",
      "source": [
        "set(range(5,10,1))"
      ],
      "metadata": {
        "colab": {
          "base_uri": "https://localhost:8080/"
        },
        "id": "wN7KMXjOHNgZ",
        "outputId": "f15ce768-620d-46f4-d12a-14620d033c34"
      },
      "execution_count": 30,
      "outputs": [
        {
          "output_type": "execute_result",
          "data": {
            "text/plain": [
              "{5, 6, 7, 8, 9}"
            ]
          },
          "metadata": {},
          "execution_count": 30
        }
      ]
    },
    {
      "cell_type": "code",
      "source": [
        "tuple(range(10,100,5))"
      ],
      "metadata": {
        "colab": {
          "base_uri": "https://localhost:8080/"
        },
        "id": "XnDVz8tPHUDU",
        "outputId": "e26095a5-6228-4058-ca22-f0e00e6228f1"
      },
      "execution_count": 31,
      "outputs": [
        {
          "output_type": "execute_result",
          "data": {
            "text/plain": [
              "(10, 15, 20, 25, 30, 35, 40, 45, 50, 55, 60, 65, 70, 75, 80, 85, 90, 95)"
            ]
          },
          "metadata": {},
          "execution_count": 31
        }
      ]
    },
    {
      "cell_type": "code",
      "source": [
        "list(\"python\")"
      ],
      "metadata": {
        "colab": {
          "base_uri": "https://localhost:8080/"
        },
        "id": "SyNArrpTtgBU",
        "outputId": "fb2fdd74-a9e0-4b67-c391-9238843963ef"
      },
      "execution_count": 26,
      "outputs": [
        {
          "output_type": "execute_result",
          "data": {
            "text/plain": [
              "['p', 'y', 't', 'h', 'o', 'n']"
            ]
          },
          "metadata": {},
          "execution_count": 26
        }
      ]
    },
    {
      "cell_type": "code",
      "source": [
        "if 15:\n",
        "  print(\"yes\")\n",
        "\n",
        "if 0:\n",
        "  print(\"hello\")   # false for 0"
      ],
      "metadata": {
        "colab": {
          "base_uri": "https://localhost:8080/"
        },
        "id": "FsLqXwUWuJ3f",
        "outputId": "1f0b369a-4348-42e1-931d-53702b5fd724"
      },
      "execution_count": 29,
      "outputs": [
        {
          "output_type": "stream",
          "name": "stdout",
          "text": [
            "yes\n"
          ]
        }
      ]
    },
    {
      "cell_type": "code",
      "source": [
        "list1=[\"fortuner\",\"heroku\",\"international_union\",\"john\"]\n",
        "vowels=\"aeiou\"\n",
        "\n",
        "for k in list1:\n",
        " count=0\n",
        " for i in list(set(k)):\n",
        "  for j in vowels:\n",
        "    if i==j:\n",
        "      count+=1\n",
        " if count==5:\n",
        "  print(f\"this is a word having all the vowels: {k}\")"
      ],
      "metadata": {
        "colab": {
          "base_uri": "https://localhost:8080/"
        },
        "id": "54gwIp9Su1ka",
        "outputId": "55d53c1d-113e-4c93-a555-7b3728a762e3"
      },
      "execution_count": 36,
      "outputs": [
        {
          "output_type": "stream",
          "name": "stdout",
          "text": [
            "this is a word having all the vowels: international_union\n"
          ]
        }
      ]
    },
    {
      "cell_type": "code",
      "source": [
        "dict1={\"c\":15,\"b\":58,\"d\":47,\"k\":96}\n",
        "\n",
        "max(dict1.values())"
      ],
      "metadata": {
        "colab": {
          "base_uri": "https://localhost:8080/"
        },
        "id": "Ga3k-CuCL15G",
        "outputId": "2a20497d-f774-42b1-cf12-c6671fe7f09a"
      },
      "execution_count": 2,
      "outputs": [
        {
          "output_type": "execute_result",
          "data": {
            "text/plain": [
              "96"
            ]
          },
          "metadata": {},
          "execution_count": 2
        }
      ]
    },
    {
      "cell_type": "code",
      "source": [
        "def star(n):\n",
        " for i in range(1,n+1):\n",
        "  for j in range(i):\n",
        "    print(\"*\",end=\" \")\n",
        "  print(\"\\n\")"
      ],
      "metadata": {
        "id": "M89muiUZpFUK"
      },
      "execution_count": 22,
      "outputs": []
    },
    {
      "cell_type": "code",
      "source": [
        "for i in range(5):\n",
        "  for k in range(i):\n",
        "     print(\"  \",end=\"\")\n",
        "  for j in range(5-i):\n",
        "    print(\"*\",end=\" \")\n",
        "  print(\"\\n\")"
      ],
      "metadata": {
        "colab": {
          "base_uri": "https://localhost:8080/"
        },
        "id": "sZICqu-CuOXM",
        "outputId": "642b411b-9a7b-4ef7-96e1-f5d2b8351499"
      },
      "execution_count": 29,
      "outputs": [
        {
          "output_type": "stream",
          "name": "stdout",
          "text": [
            "* * * * * \n",
            "\n",
            "  * * * * \n",
            "\n",
            "    * * * \n",
            "\n",
            "      * * \n",
            "\n",
            "        * \n",
            "\n"
          ]
        }
      ]
    },
    {
      "cell_type": "code",
      "source": [
        "star(5)"
      ],
      "metadata": {
        "colab": {
          "base_uri": "https://localhost:8080/"
        },
        "id": "mNndN2FttwZz",
        "outputId": "120135fa-5ddd-47a0-d9f3-077298e345ed"
      },
      "execution_count": 44,
      "outputs": [
        {
          "output_type": "stream",
          "name": "stdout",
          "text": [
            "* \n",
            "\n",
            "* * \n",
            "\n",
            "* * * \n",
            "\n",
            "* * * * \n",
            "\n",
            "* * * * * \n",
            "\n"
          ]
        }
      ]
    },
    {
      "cell_type": "code",
      "source": [
        "text1=\"\"\"item1:10\n",
        "         item2:25\n",
        "         item3:12\n",
        "         item4:45\n",
        "         item5:20\n",
        "         item1:-5\n",
        "         item3:-2\"\"\"\n",
        "d={}\n",
        "for i in text1.split(\"\\n\"):\n",
        "  i=i.strip()\n",
        "  id,qty=i.split(\":\")\n",
        "  if id not in d.keys():\n",
        "    d[id]=int(qty)\n",
        "  else:\n",
        "    d[id]=d[id]+int(qty)\n",
        "\n",
        "print(dict(sorted(d.items(),key=lambda x:x[1])))\n"
      ],
      "metadata": {
        "colab": {
          "base_uri": "https://localhost:8080/"
        },
        "id": "rdBAzTwGuOaF",
        "outputId": "86383cbf-0646-4e96-cc99-7a155c25597b"
      },
      "execution_count": 50,
      "outputs": [
        {
          "output_type": "stream",
          "name": "stdout",
          "text": [
            "{'item1': 5, 'item3': 10, 'item5': 20, 'item2': 25, 'item4': 45}\n"
          ]
        }
      ]
    }
  ]
}