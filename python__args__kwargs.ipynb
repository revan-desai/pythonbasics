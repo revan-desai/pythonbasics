{
  "nbformat": 4,
  "nbformat_minor": 0,
  "metadata": {
    "colab": {
      "provenance": [],
      "authorship_tag": "ABX9TyPVUGJN/ah5LXtnBhBVRVO/",
      "include_colab_link": true
    },
    "kernelspec": {
      "name": "python3",
      "display_name": "Python 3"
    },
    "language_info": {
      "name": "python"
    }
  },
  "cells": [
    {
      "cell_type": "markdown",
      "metadata": {
        "id": "view-in-github",
        "colab_type": "text"
      },
      "source": [
        "<a href=\"https://colab.research.google.com/github/revan-desai/pythonbasics/blob/main/python__args__kwargs.ipynb\" target=\"_parent\"><img src=\"https://colab.research.google.com/assets/colab-badge.svg\" alt=\"Open In Colab\"/></a>"
      ]
    },
    {
      "cell_type": "markdown",
      "source": [
        "## args ---> arguments --->positional tuple"
      ],
      "metadata": {
        "id": "9hedRMEG2QDI"
      }
    },
    {
      "cell_type": "code",
      "execution_count": 4,
      "metadata": {
        "colab": {
          "base_uri": "https://localhost:8080/"
        },
        "id": "jHQIeXLN2FDF",
        "outputId": "36facd95-94df-4a42-81c7-c4342b37856d"
      },
      "outputs": [
        {
          "output_type": "execute_result",
          "data": {
            "text/plain": [
              "702"
            ]
          },
          "metadata": {},
          "execution_count": 4
        }
      ],
      "source": [
        "def calcufunds(fund1,fund2,fund3=0):           # without *args\n",
        "  totalfund=fund1+fund2+fund3\n",
        "  return totalfund\n",
        "\n",
        "calcufunds(50,500)\n",
        "calcufunds(50,500,100)\n",
        "\n",
        "                         # but what if  we dont know how many funds customer has"
      ]
    },
    {
      "cell_type": "code",
      "source": [
        "def calcufunds(*args):\n",
        "  totalfund=sum(args)\n",
        "  return totalfund\n",
        "print(calcufunds(100,500,200))\n",
        "print(calcufunds(50,500,75,69,45,450))       # will work for any numbers of fund you send"
      ],
      "metadata": {
        "colab": {
          "base_uri": "https://localhost:8080/"
        },
        "id": "JMpb19mx5-rI",
        "outputId": "479245d5-1ab5-420c-ed4e-9914d7f5375f"
      },
      "execution_count": 7,
      "outputs": [
        {
          "output_type": "stream",
          "name": "stdout",
          "text": [
            "800\n",
            "1189\n"
          ]
        }
      ]
    },
    {
      "cell_type": "code",
      "source": [
        "def calcufunds(*args):\n",
        "  print(type(args))                  # args data type is tuple\n",
        "  totalfund=sum(args)\n",
        "  return totalfund\n",
        "print(calcufunds(100,500,200))\n",
        "print(calcufunds(50,500,75,69,45,450))"
      ],
      "metadata": {
        "colab": {
          "base_uri": "https://localhost:8080/"
        },
        "id": "LQ_R-h2V6qY4",
        "outputId": "4ec3fafb-7569-4fe4-aa48-0d6c4298a16e"
      },
      "execution_count": 8,
      "outputs": [
        {
          "output_type": "stream",
          "name": "stdout",
          "text": [
            "<class 'tuple'>\n",
            "800\n",
            "<class 'tuple'>\n",
            "1189\n"
          ]
        }
      ]
    },
    {
      "cell_type": "markdown",
      "source": [
        "## **kwargs keyword arguments--> keyword dict"
      ],
      "metadata": {
        "id": "emFQEFh3683E"
      }
    },
    {
      "cell_type": "code",
      "source": [
        "      # not used in *kwargs here see the next cell\n",
        "\n",
        "\n",
        "def news(player='sachin',runs='100'):\n",
        "  mystr=player +' scored '+ runs +' runs.'\n",
        "  return mystr\n",
        "\n",
        "print(news())                         #if you dont send arguments default arguments will be considered which are sachin and 100\n",
        "\n",
        "print(news('rahul','75'))             # this are positional arguments first value rahul will be given to player and second value 75 to runs\n",
        "\n",
        "\n",
        "print(news('75','rahul'))             # see the output of this\n",
        "\n",
        "print(news(runs='50',player='vvs'))   # now python is identifying arguments as keys"
      ],
      "metadata": {
        "colab": {
          "base_uri": "https://localhost:8080/"
        },
        "id": "yyAtISK-7FXn",
        "outputId": "340d653a-a917-4f4d-9cab-7cef490fff42"
      },
      "execution_count": 14,
      "outputs": [
        {
          "output_type": "stream",
          "name": "stdout",
          "text": [
            "sachin scored 100 runs.\n",
            "rahul scored 75 runs.\n",
            "75 scored rahul runs.\n",
            "vvs scored 50 runs.\n"
          ]
        }
      ]
    },
    {
      "cell_type": "code",
      "source": [
        "def news(**kwargs):\n",
        "  mystr=kwargs['player'] +' scored '+ kwargs['runs'] +' runs.'\n",
        "  return mystr\n",
        "\n",
        "news(player='sachin',runs='100',stadium='wankhede stadium')  # see flexibility even though we have not used stadium key inside function it doesnt give error\n",
        "\n"
      ],
      "metadata": {
        "colab": {
          "base_uri": "https://localhost:8080/",
          "height": 35
        },
        "id": "A3cbHuRx99xc",
        "outputId": "ab672a17-75e8-491b-8119-93dfc0f41ea7"
      },
      "execution_count": 20,
      "outputs": [
        {
          "output_type": "execute_result",
          "data": {
            "text/plain": [
              "'sachin scored 100 runs.'"
            ],
            "application/vnd.google.colaboratory.intrinsic+json": {
              "type": "string"
            }
          },
          "metadata": {},
          "execution_count": 20
        }
      ]
    },
    {
      "cell_type": "code",
      "source": [
        "def news(**kwargs):\n",
        "  mystr=kwargs['player'] +' scored '+ kwargs['runs'] +' runs'\n",
        "  if 'stadium' in kwargs:\n",
        "    mystr=mystr+ ' in '+kwargs['stadium']\n",
        "  return mystr\n",
        "\n",
        "print(news(player='sachin',runs='100'))\n",
        "\n",
        "print(news(player='sachin',runs='100',stadium='wankhede stadium'))\n",
        "\n"
      ],
      "metadata": {
        "colab": {
          "base_uri": "https://localhost:8080/"
        },
        "id": "YOUchVtH-u7k",
        "outputId": "3d4b87f3-eafb-4503-dad4-2607f293f6d7"
      },
      "execution_count": 23,
      "outputs": [
        {
          "output_type": "stream",
          "name": "stdout",
          "text": [
            "sachin scored 100 runs\n",
            "sachin scored 100 runs in wankhede stadium\n"
          ]
        }
      ]
    }
  ]
}