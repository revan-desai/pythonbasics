{
  "nbformat": 4,
  "nbformat_minor": 0,
  "metadata": {
    "colab": {
      "provenance": [],
      "authorship_tag": "ABX9TyP+1ANwdTe6rOCorhT1OrZh",
      "include_colab_link": true
    },
    "kernelspec": {
      "name": "python3",
      "display_name": "Python 3"
    },
    "language_info": {
      "name": "python"
    }
  },
  "cells": [
    {
      "cell_type": "markdown",
      "metadata": {
        "id": "view-in-github",
        "colab_type": "text"
      },
      "source": [
        "<a href=\"https://colab.research.google.com/github/revan-desai/pythonbasics/blob/main/python_regex_real_examples.ipynb\" target=\"_parent\"><img src=\"https://colab.research.google.com/assets/colab-badge.svg\" alt=\"Open In Colab\"/></a>"
      ]
    },
    {
      "cell_type": "markdown",
      "source": [
        "## re.compile(r'')   here r stands for raw string"
      ],
      "metadata": {
        "id": "quhcnjn5EkEq"
      }
    },
    {
      "cell_type": "code",
      "source": [
        "print('get\\new')\n",
        "\n",
        "print(r'get\\new')"
      ],
      "metadata": {
        "colab": {
          "base_uri": "https://localhost:8080/"
        },
        "id": "tDmCAtUWX_sG",
        "outputId": "92851539-de52-43a4-85ba-6fc7195213c0"
      },
      "execution_count": 39,
      "outputs": [
        {
          "output_type": "stream",
          "name": "stdout",
          "text": [
            "get\n",
            "ew\n",
            "get\\new\n"
          ]
        }
      ]
    },
    {
      "cell_type": "markdown",
      "source": [
        "## \\d\tReturns a match where the string contains digits (numbers from 0-9)\n",
        "## \\w\tReturns a match where the string contains any word characters (characters from a to Z, digits from 0-9, and the **underscore _ character**)\n",
        "## \\s\tReturns a match where the string contains a white space character"
      ],
      "metadata": {
        "id": "R5fVKbS2IedF"
      }
    },
    {
      "cell_type": "markdown",
      "source": [
        "## differet email pattern search"
      ],
      "metadata": {
        "id": "esfUeH4_HNZ2"
      }
    },
    {
      "cell_type": "code",
      "execution_count": null,
      "metadata": {
        "colab": {
          "base_uri": "https://localhost:8080/"
        },
        "id": "PE9bmlbjq6or",
        "outputId": "71b9f986-96f9-42d1-da0d-b268b1933210"
      },
      "outputs": [
        {
          "output_type": "stream",
          "name": "stdout",
          "text": [
            "['mynumber546@vtext.com for', 'number1234@messagiNg.sprintpcs.com', 'number@tmomail.net for', 'number@vmobl.com for']\n"
          ]
        }
      ],
      "source": [
        "import re\n",
        "text='''Verizon: trdf mynumber546@vtext.com for both SMS and MMS messages\n",
        "Sprint PCS: number1234@messagiNg.sprintpcs.com for both SMS and MMS messages\n",
        "T-Mobile: number@tmomail.net for both SMS and MMS messages\n",
        "Virgin Mobile: number@vmobl.com for both SMS and MMS messages\n",
        "These gateways change periodically and are not always put\\+new\n",
        "           '''\n",
        "\n",
        "\n",
        "\n",
        "emailpattern=re.compile(r'\\w+@[a-zA-Z]+.[a-zA-Z]+.[a-zA-Z]+')\n",
        "\n",
        "matches=emailpattern.findall(text)\n",
        "\n",
        "print(matches)"
      ]
    },
    {
      "cell_type": "markdown",
      "source": [
        "## different date format search"
      ],
      "metadata": {
        "id": "nF7ezwDoHEuE"
      }
    },
    {
      "cell_type": "code",
      "source": [
        "text1='''The Fields tab on the Text File As A Source or Text File As A Target Connection dialog has an option to set the data type for the selected field. If you choose DateTime, you must enter the format for the Date/Time in the Date Format field using one of the following formats:\n",
        "           good\\+product\n",
        "yyyy-M-d — Example: 2013-6-23\n",
        "M/d/yyyy — Example: 6/23/2013\n",
        "d/M/yyyy — Example: 23/6/2013\n",
        "dd.MM.yyyy — Example: 23.06.2013\n",
        "dd/MM/yyyy — Example: 23/06/2013\n",
        "yyyy/M/d — Example: 2013/6/23\n",
        "yyyy-MM-dd — Example: 2013-06-23\n",
        "yyyyMMddTHH:mmzzz — Example: 20130623T13:22-0500'''\n",
        "\n",
        "datepattern=re.compile(r'\\d+[.-/]\\d+[.-/]\\d+')            #\\d means digits ...+ means 1 more more digits .....[./-]means separated by . / -\n",
        "\n",
        "result1=datepattern.findall(text1)\n",
        "\n",
        "print(result1)\n"
      ],
      "metadata": {
        "colab": {
          "base_uri": "https://localhost:8080/"
        },
        "id": "ldpaP0-ED21p",
        "outputId": "c26ca09e-32b7-4917-8f21-3973b23ddaed"
      },
      "execution_count": 59,
      "outputs": [
        {
          "output_type": "stream",
          "name": "stdout",
          "text": [
            "['6/23/2013', '23/6/2013', '23.06.2013', '23/06/2013', '2013/6/23']\n"
          ]
        }
      ]
    },
    {
      "cell_type": "markdown",
      "source": [
        "## different mobile number format search"
      ],
      "metadata": {
        "id": "l7dVAoBVHU2s"
      }
    },
    {
      "cell_type": "code",
      "source": [
        "import re\n",
        "\n",
        "text4='''+6032-007-1212  , +6032.007 1212   ,017-9998880 Example: 20130623T13:22-0500\n",
        "'''\n",
        "\n",
        "mobilepattern=re.compile(r'\\+?\\d?\\d{3}[-.]\\d{3}-?\\s?\\d{4}')           # ? means optional\n",
        "\n",
        "result2=mobilepattern.findall(text4)\n",
        "\n",
        "result2"
      ],
      "metadata": {
        "id": "U5JYLU8wHe8n",
        "colab": {
          "base_uri": "https://localhost:8080/"
        },
        "outputId": "65e3c916-6b36-48b4-83d3-5dab96760b70"
      },
      "execution_count": 89,
      "outputs": [
        {
          "output_type": "execute_result",
          "data": {
            "text/plain": [
              "['+6032-007-1212', '+6032.007 1212', '017-9998880']"
            ]
          },
          "metadata": {},
          "execution_count": 89
        }
      ]
    },
    {
      "cell_type": "markdown",
      "source": [
        "## different link  format"
      ],
      "metadata": {
        "id": "MGfYEFTBWoNh"
      }
    },
    {
      "cell_type": "code",
      "source": [
        "import re\n",
        "text5=''' https://regex101.com/r/fW0vZ2 , http://regex101.com/r/mH1fN5\n",
        ",\n",
        " https://regex101.com/r/fW0vZ2'''\n",
        "\n",
        "linkpattern=re.compile(r'https?://\\w+.com/\\w+/\\w+')\n",
        "\n",
        "linkpattern.findall(text5)"
      ],
      "metadata": {
        "colab": {
          "base_uri": "https://localhost:8080/"
        },
        "id": "p-08Xcc9Wtkm",
        "outputId": "e86ef749-4f6c-4286-efd9-5421af7b7bd6"
      },
      "execution_count": 112,
      "outputs": [
        {
          "output_type": "execute_result",
          "data": {
            "text/plain": [
              "['https://regex101.com/r/fW0vZ2',\n",
              " 'http://regex101.com/r/mH1fN5',\n",
              " 'https://regex101.com/r/fW0vZ2']"
            ]
          },
          "metadata": {},
          "execution_count": 112
        }
      ]
    }
  ]
}