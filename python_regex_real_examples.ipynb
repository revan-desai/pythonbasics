{
  "nbformat": 4,
  "nbformat_minor": 0,
  "metadata": {
    "colab": {
      "provenance": [],
      "authorship_tag": "ABX9TyORFUfzxG2mZWdC/3wDa8oj",
      "include_colab_link": true
    },
    "kernelspec": {
      "name": "python3",
      "display_name": "Python 3"
    },
    "language_info": {
      "name": "python"
    }
  },
  "cells": [
    {
      "cell_type": "markdown",
      "metadata": {
        "id": "view-in-github",
        "colab_type": "text"
      },
      "source": [
        "<a href=\"https://colab.research.google.com/github/revan-desai/pythonbasics/blob/main/python_regex_real_examples.ipynb\" target=\"_parent\"><img src=\"https://colab.research.google.com/assets/colab-badge.svg\" alt=\"Open In Colab\"/></a>"
      ]
    },
    {
      "cell_type": "markdown",
      "source": [
        "## \\d\tReturns a match where the string contains digits (numbers from 0-9)\n",
        "## \\w\tReturns a match where the string contains any word characters (characters from a to Z, digits from 0-9, and the **underscore _ character**)\n",
        "## \\s\tReturns a match where the string contains a white space character"
      ],
      "metadata": {
        "id": "R5fVKbS2IedF"
      }
    },
    {
      "cell_type": "markdown",
      "source": [
        "## re.compile(r'')   here r stands for raw string"
      ],
      "metadata": {
        "id": "quhcnjn5EkEq"
      }
    },
    {
      "cell_type": "markdown",
      "source": [
        "## differet email pattern search"
      ],
      "metadata": {
        "id": "esfUeH4_HNZ2"
      }
    },
    {
      "cell_type": "code",
      "execution_count": 28,
      "metadata": {
        "colab": {
          "base_uri": "https://localhost:8080/"
        },
        "id": "PE9bmlbjq6or",
        "outputId": "71b9f986-96f9-42d1-da0d-b268b1933210"
      },
      "outputs": [
        {
          "output_type": "stream",
          "name": "stdout",
          "text": [
            "['mynumber546@vtext.com for', 'number1234@messagiNg.sprintpcs.com', 'number@tmomail.net for', 'number@vmobl.com for']\n"
          ]
        }
      ],
      "source": [
        "import re\n",
        "text='''Verizon: trdf mynumber546@vtext.com for both SMS and MMS messages\n",
        "Sprint PCS: number1234@messagiNg.sprintpcs.com for both SMS and MMS messages\n",
        "T-Mobile: number@tmomail.net for both SMS and MMS messages\n",
        "Virgin Mobile: number@vmobl.com for both SMS and MMS messages\n",
        "These gateways change periodically and are not always put\\+new\n",
        "           '''\n",
        "\n",
        "\n",
        "\n",
        "emailpattern=re.compile(r'\\w+@[a-zA-Z]+.[a-zA-Z]+.[a-zA-Z]+')\n",
        "\n",
        "matches=emailpattern.findall(text)\n",
        "\n",
        "print(matches)"
      ]
    },
    {
      "cell_type": "markdown",
      "source": [
        "## different date format search"
      ],
      "metadata": {
        "id": "nF7ezwDoHEuE"
      }
    },
    {
      "cell_type": "code",
      "source": [
        "text1='''The Fields tab on the Text File As A Source or Text File As A Target Connection dialog has an option to set the data type for the selected field. If you choose DateTime, you must enter the format for the Date/Time in the Date Format field using one of the following formats:\n",
        "           good\\+product\n",
        "yyyy-M-d — Example: 2013-6-23\n",
        "M/d/yyyy — Example: 6/23/2013\n",
        "d/M/yyyy — Example: 23/6/2013\n",
        "dd.MM.yyyy — Example: 23.06.2013\n",
        "dd/MM/yyyy — Example: 23/06/2013\n",
        "yyyy/M/d — Example: 2013/6/23\n",
        "yyyy-MM-dd — Example: 2013-06-23\n",
        "yyyyMMddTHH:mmzzz — Example: 20130623T13:22-0500'''\n",
        "\n",
        "datepattern=re.compile(r'\\d+[.-/]\\d+[.-/]\\d+')            #\\d means digits ...+ means 1 more more digits .....[./-]means separated by . / -\n",
        "\n",
        "result1=datepattern.findall(text1)\n",
        "\n",
        "print(result1)\n"
      ],
      "metadata": {
        "colab": {
          "base_uri": "https://localhost:8080/"
        },
        "id": "ldpaP0-ED21p",
        "outputId": "18ffde10-34a2-4ff3-8e84-baaa44375ec8"
      },
      "execution_count": 4,
      "outputs": [
        {
          "output_type": "stream",
          "name": "stdout",
          "text": [
            "['6/23/2013', '23/6/2013', '23.06.2013', '23/06/2013', '2013/6/23']\n"
          ]
        }
      ]
    },
    {
      "cell_type": "markdown",
      "source": [
        "## different mobile number format search"
      ],
      "metadata": {
        "id": "l7dVAoBVHU2s"
      }
    },
    {
      "cell_type": "code",
      "source": [],
      "metadata": {
        "id": "U5JYLU8wHe8n"
      },
      "execution_count": null,
      "outputs": []
    }
  ]
}