{
  "nbformat": 4,
  "nbformat_minor": 0,
  "metadata": {
    "colab": {
      "provenance": [],
      "authorship_tag": "ABX9TyOHw4CFvZNWG2i4jQQz537O",
      "include_colab_link": true
    },
    "kernelspec": {
      "name": "python3",
      "display_name": "Python 3"
    },
    "language_info": {
      "name": "python"
    }
  },
  "cells": [
    {
      "cell_type": "markdown",
      "metadata": {
        "id": "view-in-github",
        "colab_type": "text"
      },
      "source": [
        "<a href=\"https://colab.research.google.com/github/revan-desai/pythonbasics/blob/main/python_regex_real_examples.ipynb\" target=\"_parent\"><img src=\"https://colab.research.google.com/assets/colab-badge.svg\" alt=\"Open In Colab\"/></a>"
      ]
    },
    {
      "cell_type": "markdown",
      "source": [
        "## re.compile(r'')   here r stands for raw string"
      ],
      "metadata": {
        "id": "quhcnjn5EkEq"
      }
    },
    {
      "cell_type": "code",
      "source": [
        "print('get\\new')\n",
        "\n",
        "print(r'get\\new')"
      ],
      "metadata": {
        "colab": {
          "base_uri": "https://localhost:8080/"
        },
        "id": "tDmCAtUWX_sG",
        "outputId": "92851539-de52-43a4-85ba-6fc7195213c0"
      },
      "execution_count": null,
      "outputs": [
        {
          "output_type": "stream",
          "name": "stdout",
          "text": [
            "get\n",
            "ew\n",
            "get\\new\n"
          ]
        }
      ]
    },
    {
      "cell_type": "markdown",
      "source": [
        "## \\d\tReturns a match where the string contains digits (numbers from 0-9)\n",
        "## \\w\tReturns a match where the string contains any word characters (characters from a to Z, digits from 0-9, and the **underscore _ character**)\n",
        "## \\s\tReturns a match where the string contains a white space character"
      ],
      "metadata": {
        "id": "R5fVKbS2IedF"
      }
    },
    {
      "cell_type": "markdown",
      "source": [
        "## differet email pattern search"
      ],
      "metadata": {
        "id": "esfUeH4_HNZ2"
      }
    },
    {
      "cell_type": "code",
      "execution_count": 3,
      "metadata": {
        "colab": {
          "base_uri": "https://localhost:8080/"
        },
        "id": "PE9bmlbjq6or",
        "outputId": "6f979663-d667-4d7f-8376-71ccb46175b3"
      },
      "outputs": [
        {
          "output_type": "stream",
          "name": "stdout",
          "text": [
            "['mynumber546@vtext.com for', 'number1234@messagiNg.sprintpcs.com', 'number@tmomail.net for', 'number@vmobl.com for']\n"
          ]
        }
      ],
      "source": [
        "import re\n",
        "text='''Verizon: trdf mynumber546@vtext.com for both SMS and MMS messages\n",
        "Sprint PCS: number1234@messagiNg.sprintpcs.com for both SMS and MMS messages\n",
        "T-Mobile: number@tmomail.net for both SMS and MMS messages\n",
        "Virgin Mobile: number@vmobl.com for both SMS and MMS messages\n",
        "These gateways change periodically and are not always put\\+new\n",
        "           '''\n",
        "\n",
        "\n",
        "\n",
        "emailpattern=r'\\w+@[a-zA-Z]+.[a-zA-Z]+.[a-zA-Z]+'\n",
        "\n",
        "matches=re.findall(emailpattern,text)\n",
        "\n",
        "print(matches)"
      ]
    },
    {
      "cell_type": "code",
      "source": [
        "import re\n",
        "text11='''simple@example.com\n",
        "rimple@gmail.com\n",
        "rimple@gmail.co.in\n",
        "rimple@gmail.in\n",
        "bimple@yahoo.com\n",
        "very.common@example.com\n",
        "disposable.style.email.with+symbol@example.com\n",
        "other.email-with-hyphen@and.subdomains.example.com\n",
        "fully-qualified-domain@example.com\n",
        "user.name+tag+sorting@example.com (may go to user.name@example.com inbox depending on mail server)\n",
        "x@example.com (one-letter local-part)\n",
        "example-indeed@strange-example.com'''\n",
        "\n",
        "emailpattern11=r'\\w+.?\\w+?@[a-zA-Z]+.com|\\w+.?\\w+?@[a-zA-Z]+.in|\\w+.?\\w+?@[a-zA-Z]+.co.in'\n",
        "\n",
        "res11=re.findall(emailpattern11,text11)\n",
        "\n",
        "res11\n"
      ],
      "metadata": {
        "colab": {
          "base_uri": "https://localhost:8080/"
        },
        "id": "zedtCCCGsZTo",
        "outputId": "f41a00fb-0d22-4f94-dc82-a00085536cf3"
      },
      "execution_count": 5,
      "outputs": [
        {
          "output_type": "execute_result",
          "data": {
            "text/plain": [
              "['simple@example.com',\n",
              " 'rimple@gmail.com',\n",
              " 'rimple@gmail.co.in',\n",
              " 'rimple@gmail.in',\n",
              " 'bimple@yahoo.com',\n",
              " 'very.common@example.com',\n",
              " 'with+symbol@example.com',\n",
              " 'qualified-domain@example.com',\n",
              " 'tag+sorting@example.com',\n",
              " 'user.name@example.com']"
            ]
          },
          "metadata": {},
          "execution_count": 5
        }
      ]
    },
    {
      "cell_type": "markdown",
      "source": [
        "## different date format search"
      ],
      "metadata": {
        "id": "nF7ezwDoHEuE"
      }
    },
    {
      "cell_type": "code",
      "source": [
        "text1='''The Fields tab on the Text File As A Source or Text File As A Target Connection dialog has an option to set the data type for the selected field. If you choose DateTime, you must enter the format for the Date/Time in the Date Format field using one of the following formats:\n",
        "           good\\+product\n",
        "yyyy-M-d — Example: 2013-6-23\n",
        "M/d/yyyy — Example: 6/23/2013\n",
        "d/M/yyyy — Example: 23/6/2013\n",
        "dd.MM.yyyy — Example: 23.06.2013\n",
        "dd/MM/yyyy — Example: 23/06/2013\n",
        "yyyy/M/d — Example: 2013/6/23\n",
        "yyyy-MM-dd — Example: 2013-06-23\n",
        "yyyyMMddTHH:mmzzz — Example: 20130623T13:22-0500'''\n",
        "\n",
        "datepattern=re.compile(r'\\d+[.-/]\\d+[.-/]\\d+')            #\\d means digits ...+ means 1 more more digits .....[./-]means separated by . / -\n",
        "\n",
        "result1=datepattern.findall(text1)\n",
        "\n",
        "print(result1)\n"
      ],
      "metadata": {
        "colab": {
          "base_uri": "https://localhost:8080/"
        },
        "id": "ldpaP0-ED21p",
        "outputId": "c26ca09e-32b7-4917-8f21-3973b23ddaed"
      },
      "execution_count": null,
      "outputs": [
        {
          "output_type": "stream",
          "name": "stdout",
          "text": [
            "['6/23/2013', '23/6/2013', '23.06.2013', '23/06/2013', '2013/6/23']\n"
          ]
        }
      ]
    },
    {
      "cell_type": "markdown",
      "source": [
        "## different mobile number format search"
      ],
      "metadata": {
        "id": "l7dVAoBVHU2s"
      }
    },
    {
      "cell_type": "code",
      "source": [
        "import re\n",
        "\n",
        "text4='''+6032-007-1212  , +6032.007 1212   ,017-9998880 Example: 20130623T13:22-0500\n",
        "'''\n",
        "\n",
        "mobilepattern=re.compile(r'\\+?\\d?\\d{3}[-.]\\d{3}-?\\s?\\d{4}')           # ? question mark means optional\n",
        "\n",
        "result2=mobilepattern.findall(text4)\n",
        "\n",
        "result2"
      ],
      "metadata": {
        "id": "U5JYLU8wHe8n",
        "colab": {
          "base_uri": "https://localhost:8080/"
        },
        "outputId": "474a2369-af20-423c-b90b-342b64630c72"
      },
      "execution_count": null,
      "outputs": [
        {
          "output_type": "execute_result",
          "data": {
            "text/plain": [
              "['+6032-007-1212', '+6032.007 1212', '017-9998880']"
            ]
          },
          "metadata": {},
          "execution_count": 35
        }
      ]
    },
    {
      "cell_type": "code",
      "source": [
        "import re                                                     # hyphen and minus sign confusion\n",
        "                                                              # replace all hyphen with hyphen again there is some problem in text while copying from google\n",
        "\n",
        "text6='''t number.\n",
        "\n",
        "Recommended: (415) 555-0132\n",
        "\n",
        "Recommended: +1 (415) 555-0132\n",
        "\n",
        "\n",
        "Recommended: (415) 555-0135, extension 987'''\n",
        "\n",
        "\n",
        "numberpattern=r'\\+?\\d?\\s?\\(?\\d{3}\\)?\\s\\d{3}-\\d{4}'\n",
        "\n",
        "res6=re.findall(numberpattern,text6)\n",
        "\n",
        "res6\n",
        "\n",
        "\n"
      ],
      "metadata": {
        "colab": {
          "base_uri": "https://localhost:8080/"
        },
        "id": "EWkgSUNAjI04",
        "outputId": "69fd1f19-0241-4505-b404-33f85c6909ed"
      },
      "execution_count": null,
      "outputs": [
        {
          "output_type": "execute_result",
          "data": {
            "text/plain": [
              "[' (415) 555-0132', '+1 (415) 555-0132', ' (415) 555-0135']"
            ]
          },
          "metadata": {},
          "execution_count": 65
        }
      ]
    },
    {
      "cell_type": "code",
      "source": [
        "import re\n",
        "text7='''t number.\n",
        "\n",
        "Recommended: (415) 555-0132\n",
        "\n",
        "Format international phone numbers\n",
        "To format a real phone number in non-NANP countries, include the country and area codes. Insert a plus sign immediately before the country code (no space); the plus sign stands in for a prefix known as an exit code, which lets you dial out of a country. Each country has a different exit code.\n",
        "\n",
        "For more information, see the ITU document about standardized formatting for phone numbers.\n",
        "\n",
        "Recommended: +1 (415) 555-0132\n",
        "\n",
        "Format phone numbers that include an extension\n",
        "To specify a phone extension, follow the phone number with the word extension, and then specify the extension number.\n",
        "\n",
        "Recommended: (415) 555-0132, extension 987'''\n",
        "\n",
        "numberpattern7=r'\\+?\\d?\\s?\\(\\d{3}\\)\\s\\d{3}-\\d{4}'\n",
        "\n",
        "res7=re.findall(numberpattern7,text7)\n",
        "\n",
        "res7\n"
      ],
      "metadata": {
        "colab": {
          "base_uri": "https://localhost:8080/"
        },
        "id": "h6VFkLMerC56",
        "outputId": "1d23c8eb-7c8b-4a4f-f37f-915f43f3da5f"
      },
      "execution_count": null,
      "outputs": [
        {
          "output_type": "execute_result",
          "data": {
            "text/plain": [
              "[' (415) 555-0132', '+1 (415) 555-0132', ' (415) 555-0132']"
            ]
          },
          "metadata": {},
          "execution_count": 72
        }
      ]
    },
    {
      "cell_type": "markdown",
      "source": [
        "## different link  format"
      ],
      "metadata": {
        "id": "MGfYEFTBWoNh"
      }
    },
    {
      "cell_type": "code",
      "source": [
        "import re\n",
        "text5=''' https://regex101.com/r/fW0vZ2 , http://regex101.com/r/mH1fN5  https://colab.research.google.com/drive\n",
        ",\n",
        " https://regex101.com/r/fW0vZ2'''\n",
        "\n",
        "linkpattern=re.compile(r'https?://\\w+.com/\\w+/\\w+')\n",
        "\n",
        "linkpattern.findall(text5)"
      ],
      "metadata": {
        "colab": {
          "base_uri": "https://localhost:8080/"
        },
        "id": "p-08Xcc9Wtkm",
        "outputId": "9868633b-94dc-44a6-ebcf-c91500fa3c61"
      },
      "execution_count": null,
      "outputs": [
        {
          "output_type": "execute_result",
          "data": {
            "text/plain": [
              "['https://regex101.com/r/fW0vZ2',\n",
              " 'http://regex101.com/r/mH1fN5',\n",
              " 'https://regex101.com/r/fW0vZ2']"
            ]
          },
          "metadata": {},
          "execution_count": 120
        }
      ]
    }
  ]
}