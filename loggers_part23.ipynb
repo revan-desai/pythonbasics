{
  "nbformat": 4,
  "nbformat_minor": 0,
  "metadata": {
    "colab": {
      "provenance": [],
      "authorship_tag": "ABX9TyP/mEhigoAGeZ+q8i407n42",
      "include_colab_link": true
    },
    "kernelspec": {
      "name": "python3",
      "display_name": "Python 3"
    },
    "language_info": {
      "name": "python"
    }
  },
  "cells": [
    {
      "cell_type": "markdown",
      "metadata": {
        "id": "view-in-github",
        "colab_type": "text"
      },
      "source": [
        "<a href=\"https://colab.research.google.com/github/revan-desai/pythonbasics/blob/main/loggers_part23.ipynb\" target=\"_parent\"><img src=\"https://colab.research.google.com/assets/colab-badge.svg\" alt=\"Open In Colab\"/></a>"
      ]
    },
    {
      "cell_type": "code",
      "execution_count": 24,
      "metadata": {
        "id": "pUJ1QSYAM07U"
      },
      "outputs": [],
      "source": [
        "import logging\n",
        "\n",
        "logging.basicConfig(level=logging.INFO,filename='test123.log',filemode=\"w\",format=\"%(asctime)s-%(levelname)s-%(message)s\")"
      ]
    },
    {
      "cell_type": "code",
      "source": [
        "logger=logging.getLogger(__name__)\n",
        "\n",
        "print(logger)"
      ],
      "metadata": {
        "colab": {
          "base_uri": "https://localhost:8080/"
        },
        "id": "43UDN4juM_zI",
        "outputId": "5c94c93f-999c-444c-bc37-bbe73e14e9e3"
      },
      "execution_count": 25,
      "outputs": [
        {
          "output_type": "stream",
          "name": "stdout",
          "text": [
            "<Logger __main__ (WARNING)>\n"
          ]
        }
      ]
    },
    {
      "cell_type": "code",
      "source": [
        "logger.info(\"test the custom logger\")"
      ],
      "metadata": {
        "id": "hGwcDlYeN5mF"
      },
      "execution_count": 26,
      "outputs": []
    },
    {
      "cell_type": "code",
      "source": [
        "handler=logging.FileHandler(\"test.log\")\n",
        "formatter=logging.Formatter(\"%(asctime)s-%(levelname)s-%(message)s\")\n",
        "handler.setFormatter(formatter)\n",
        "logger.addHandler(handler)"
      ],
      "metadata": {
        "id": "Gil6jh5gP5a6"
      },
      "execution_count": 27,
      "outputs": []
    }
  ]
}